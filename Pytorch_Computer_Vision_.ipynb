{
  "cells": [
    {
      "cell_type": "markdown",
      "metadata": {
        "id": "view-in-github",
        "colab_type": "text"
      },
      "source": [
        "<a href=\"https://colab.research.google.com/github/Satyake/ZTM-Pytorch-Daniele-instructor-/blob/main/Pytorch_Computer_Vision_.ipynb\" target=\"_parent\"><img src=\"https://colab.research.google.com/assets/colab-badge.svg\" alt=\"Open In Colab\"/></a>"
      ]
    },
    {
      "cell_type": "code",
      "execution_count": 1,
      "metadata": {
        "id": "T2ry3Lgw0Yhx",
        "colab": {
          "base_uri": "https://localhost:8080/",
          "height": 36
        },
        "outputId": "5f5c0e1c-a947-4eb9-beb6-80421c6994af"
      },
      "outputs": [
        {
          "output_type": "execute_result",
          "data": {
            "text/plain": [
              "'cpu'"
            ],
            "application/vnd.google.colaboratory.intrinsic+json": {
              "type": "string"
            }
          },
          "metadata": {},
          "execution_count": 1
        }
      ],
      "source": [
        "import torch \n",
        "from torch import nn\n",
        "\n",
        "import torchvision\n",
        "from torchvision import datasets\n",
        "from torchvision import transforms\n",
        "from torchvision.transforms import ToTensor\n",
        "import matplotlib.pyplot as plt\n",
        "device='cuda' if torch.cuda.is_available() else 'cpu'\n",
        "device"
      ]
    },
    {
      "cell_type": "code",
      "execution_count": 2,
      "metadata": {
        "id": "EVZRgTFJ2ZCp",
        "colab": {
          "base_uri": "https://localhost:8080/",
          "height": 437,
          "referenced_widgets": [
            "6551cc44b29e46f6894f0fcae598aeae",
            "af9cf364c1784e53ad40098b644cc835",
            "f554610bb7d748acaa320610946b92ad",
            "bf7cdbe64e5143a09b45c01d422cbf43",
            "1b6e13ee75bd4677a9579d6ab62b4955",
            "d100ee8bd40f47edb44b3c470928d465",
            "244c0e4c5e9f4d188aafd3e691063a0e",
            "10d8110dd3c34fabad2f50a8ff23a967",
            "2f844091d7e34748bbbfdadf4e109a36",
            "f54124543f2c4725b6a4d4d960dc546f",
            "5aeeac7b59f34b29876ff6d3abae1082",
            "c629b2cf96d6443e938aa53a156b5228",
            "4d1636f3f0f84eceb09c78d12bcd938f",
            "66a44920c8234be3a5d362044ab6c6cb",
            "2f3a71f5375743a6a32f6384c49700aa",
            "d250177619a74c7a8c354a5d1001ccf0",
            "893a7f78787f46739038f596aaef9ae7",
            "d5b174c110a74cb384c57a63e6156d8d",
            "99500b2d72e84be9a5996eeb1b4c2435",
            "46983029c6fe479d801d57af01e25f6a",
            "35a19f4ba69c4aafa490385db46ea25d",
            "a4f9fc1711ce4fc79a3b71d28f46935f",
            "0f61ba0a0bb54e719785e89afb2abadc",
            "a927bc63b3cc482fb379ce430d8ec61f",
            "d26d154ba7344cc880e8f2792a778ead",
            "3d1ecedf35c44d2cb52e1f30b77f38cc",
            "3fd8f7a559b9493f9902beff819e72ae",
            "01603e5c871248c59227752c9264fb8f",
            "525e28d7e8e94397b7b4d154b35c2a20",
            "7243fc2302ad40d79be3685f8242fdcd",
            "09bad300855d4750baf2b8ff6df40610",
            "843efb47799a494886ec79fc31684fe5",
            "25a7b2d1e62e482fb583e52157e68024",
            "f35adbb09d114238bf04d3bb7624278a",
            "3fe8805f3dd3454b9a5a3fa4f9d37234",
            "1d773c2fb8d04618ae1f535909605c23",
            "cee689d2e66c4406b19ad7e28fe7a8ff",
            "51e0a4585bfd46deb3ccfc846f0412f4",
            "73960eba1a1e461c92df1d57edcd5fe0",
            "c3776de518ff4a56974a7099cab9d568",
            "2512916a94494a35b5b0591c1d53dc21",
            "5cc2cd1b55b340a6897b73bf43cf53b2",
            "0b1c5d2b708648e4802db76e278b3ab6",
            "a943dbfd4223411d9359817e98082638"
          ]
        },
        "outputId": "cbe0b53c-6b80-4746-f83e-6c97260d8d78"
      },
      "outputs": [
        {
          "output_type": "stream",
          "name": "stdout",
          "text": [
            "Downloading http://fashion-mnist.s3-website.eu-central-1.amazonaws.com/train-images-idx3-ubyte.gz\n",
            "Downloading http://fashion-mnist.s3-website.eu-central-1.amazonaws.com/train-images-idx3-ubyte.gz to data/FashionMNIST/raw/train-images-idx3-ubyte.gz\n"
          ]
        },
        {
          "output_type": "display_data",
          "data": {
            "text/plain": [
              "  0%|          | 0/26421880 [00:00<?, ?it/s]"
            ],
            "application/vnd.jupyter.widget-view+json": {
              "version_major": 2,
              "version_minor": 0,
              "model_id": "6551cc44b29e46f6894f0fcae598aeae"
            }
          },
          "metadata": {}
        },
        {
          "output_type": "stream",
          "name": "stdout",
          "text": [
            "Extracting data/FashionMNIST/raw/train-images-idx3-ubyte.gz to data/FashionMNIST/raw\n",
            "\n",
            "Downloading http://fashion-mnist.s3-website.eu-central-1.amazonaws.com/train-labels-idx1-ubyte.gz\n",
            "Downloading http://fashion-mnist.s3-website.eu-central-1.amazonaws.com/train-labels-idx1-ubyte.gz to data/FashionMNIST/raw/train-labels-idx1-ubyte.gz\n"
          ]
        },
        {
          "output_type": "display_data",
          "data": {
            "text/plain": [
              "  0%|          | 0/29515 [00:00<?, ?it/s]"
            ],
            "application/vnd.jupyter.widget-view+json": {
              "version_major": 2,
              "version_minor": 0,
              "model_id": "c629b2cf96d6443e938aa53a156b5228"
            }
          },
          "metadata": {}
        },
        {
          "output_type": "stream",
          "name": "stdout",
          "text": [
            "Extracting data/FashionMNIST/raw/train-labels-idx1-ubyte.gz to data/FashionMNIST/raw\n",
            "\n",
            "Downloading http://fashion-mnist.s3-website.eu-central-1.amazonaws.com/t10k-images-idx3-ubyte.gz\n",
            "Downloading http://fashion-mnist.s3-website.eu-central-1.amazonaws.com/t10k-images-idx3-ubyte.gz to data/FashionMNIST/raw/t10k-images-idx3-ubyte.gz\n"
          ]
        },
        {
          "output_type": "display_data",
          "data": {
            "text/plain": [
              "  0%|          | 0/4422102 [00:00<?, ?it/s]"
            ],
            "application/vnd.jupyter.widget-view+json": {
              "version_major": 2,
              "version_minor": 0,
              "model_id": "0f61ba0a0bb54e719785e89afb2abadc"
            }
          },
          "metadata": {}
        },
        {
          "output_type": "stream",
          "name": "stdout",
          "text": [
            "Extracting data/FashionMNIST/raw/t10k-images-idx3-ubyte.gz to data/FashionMNIST/raw\n",
            "\n",
            "Downloading http://fashion-mnist.s3-website.eu-central-1.amazonaws.com/t10k-labels-idx1-ubyte.gz\n",
            "Downloading http://fashion-mnist.s3-website.eu-central-1.amazonaws.com/t10k-labels-idx1-ubyte.gz to data/FashionMNIST/raw/t10k-labels-idx1-ubyte.gz\n"
          ]
        },
        {
          "output_type": "display_data",
          "data": {
            "text/plain": [
              "  0%|          | 0/5148 [00:00<?, ?it/s]"
            ],
            "application/vnd.jupyter.widget-view+json": {
              "version_major": 2,
              "version_minor": 0,
              "model_id": "f35adbb09d114238bf04d3bb7624278a"
            }
          },
          "metadata": {}
        },
        {
          "output_type": "stream",
          "name": "stdout",
          "text": [
            "Extracting data/FashionMNIST/raw/t10k-labels-idx1-ubyte.gz to data/FashionMNIST/raw\n",
            "\n"
          ]
        }
      ],
      "source": [
        "train_data=datasets.FashionMNIST(\n",
        "    root=\"data\",\n",
        "    train=True,\n",
        "    download=True,\n",
        "    transform=ToTensor(),\n",
        "    target_transform=None\n",
        ")\n",
        "\n",
        "test_data=datasets.FashionMNIST(\n",
        "    root=\"data\",\n",
        "    train=False,\n",
        "    download=True,\n",
        "    transform=ToTensor(),\n",
        "    target_transform=None\n",
        ")"
      ]
    },
    {
      "cell_type": "code",
      "execution_count": 3,
      "metadata": {
        "colab": {
          "base_uri": "https://localhost:8080/"
        },
        "id": "ovgEI-2b4-1Y",
        "outputId": "17dd94ac-e961-488f-d891-17769efa8578"
      },
      "outputs": [
        {
          "output_type": "execute_result",
          "data": {
            "text/plain": [
              "(60000, 10000)"
            ]
          },
          "metadata": {},
          "execution_count": 3
        }
      ],
      "source": [
        "len(train_data), len(test_data)"
      ]
    },
    {
      "cell_type": "code",
      "execution_count": 4,
      "metadata": {
        "colab": {
          "base_uri": "https://localhost:8080/"
        },
        "id": "Ltv_DaEs5NnM",
        "outputId": "876544b6-1f64-480d-b1eb-cfff5c45728a"
      },
      "outputs": [
        {
          "output_type": "execute_result",
          "data": {
            "text/plain": [
              "(tensor([[[0.0000, 0.0000, 0.0000, 0.0000, 0.0000, 0.0000, 0.0000, 0.0000,\n",
              "           0.0000, 0.0000, 0.0000, 0.0000, 0.0000, 0.0000, 0.0000, 0.0000,\n",
              "           0.0000, 0.0000, 0.0000, 0.0000, 0.0000, 0.0000, 0.0000, 0.0000,\n",
              "           0.0000, 0.0000, 0.0000, 0.0000],\n",
              "          [0.0000, 0.0000, 0.0000, 0.0000, 0.0000, 0.0000, 0.0000, 0.0000,\n",
              "           0.0000, 0.0000, 0.0000, 0.0000, 0.0000, 0.0000, 0.0000, 0.0000,\n",
              "           0.0000, 0.0000, 0.0000, 0.0000, 0.0000, 0.0000, 0.0000, 0.0000,\n",
              "           0.0000, 0.0000, 0.0000, 0.0000],\n",
              "          [0.0000, 0.0000, 0.0000, 0.0000, 0.0000, 0.0000, 0.0000, 0.0000,\n",
              "           0.0000, 0.0000, 0.0000, 0.0000, 0.0000, 0.0000, 0.0000, 0.0000,\n",
              "           0.0000, 0.0000, 0.0000, 0.0000, 0.0000, 0.0000, 0.0000, 0.0000,\n",
              "           0.0000, 0.0000, 0.0000, 0.0000],\n",
              "          [0.0000, 0.0000, 0.0000, 0.0000, 0.0000, 0.0000, 0.0000, 0.0000,\n",
              "           0.0000, 0.0000, 0.0000, 0.0000, 0.0039, 0.0000, 0.0000, 0.0510,\n",
              "           0.2863, 0.0000, 0.0000, 0.0039, 0.0157, 0.0000, 0.0000, 0.0000,\n",
              "           0.0000, 0.0039, 0.0039, 0.0000],\n",
              "          [0.0000, 0.0000, 0.0000, 0.0000, 0.0000, 0.0000, 0.0000, 0.0000,\n",
              "           0.0000, 0.0000, 0.0000, 0.0000, 0.0118, 0.0000, 0.1412, 0.5333,\n",
              "           0.4980, 0.2431, 0.2118, 0.0000, 0.0000, 0.0000, 0.0039, 0.0118,\n",
              "           0.0157, 0.0000, 0.0000, 0.0118],\n",
              "          [0.0000, 0.0000, 0.0000, 0.0000, 0.0000, 0.0000, 0.0000, 0.0000,\n",
              "           0.0000, 0.0000, 0.0000, 0.0000, 0.0235, 0.0000, 0.4000, 0.8000,\n",
              "           0.6902, 0.5255, 0.5647, 0.4824, 0.0902, 0.0000, 0.0000, 0.0000,\n",
              "           0.0000, 0.0471, 0.0392, 0.0000],\n",
              "          [0.0000, 0.0000, 0.0000, 0.0000, 0.0000, 0.0000, 0.0000, 0.0000,\n",
              "           0.0000, 0.0000, 0.0000, 0.0000, 0.0000, 0.0000, 0.6078, 0.9255,\n",
              "           0.8118, 0.6980, 0.4196, 0.6118, 0.6314, 0.4275, 0.2510, 0.0902,\n",
              "           0.3020, 0.5098, 0.2824, 0.0588],\n",
              "          [0.0000, 0.0000, 0.0000, 0.0000, 0.0000, 0.0000, 0.0000, 0.0000,\n",
              "           0.0000, 0.0000, 0.0000, 0.0039, 0.0000, 0.2706, 0.8118, 0.8745,\n",
              "           0.8549, 0.8471, 0.8471, 0.6392, 0.4980, 0.4745, 0.4784, 0.5725,\n",
              "           0.5529, 0.3451, 0.6745, 0.2588],\n",
              "          [0.0000, 0.0000, 0.0000, 0.0000, 0.0000, 0.0000, 0.0000, 0.0000,\n",
              "           0.0000, 0.0039, 0.0039, 0.0039, 0.0000, 0.7843, 0.9098, 0.9098,\n",
              "           0.9137, 0.8980, 0.8745, 0.8745, 0.8431, 0.8353, 0.6431, 0.4980,\n",
              "           0.4824, 0.7686, 0.8980, 0.0000],\n",
              "          [0.0000, 0.0000, 0.0000, 0.0000, 0.0000, 0.0000, 0.0000, 0.0000,\n",
              "           0.0000, 0.0000, 0.0000, 0.0000, 0.0000, 0.7176, 0.8824, 0.8471,\n",
              "           0.8745, 0.8941, 0.9216, 0.8902, 0.8784, 0.8706, 0.8784, 0.8667,\n",
              "           0.8745, 0.9608, 0.6784, 0.0000],\n",
              "          [0.0000, 0.0000, 0.0000, 0.0000, 0.0000, 0.0000, 0.0000, 0.0000,\n",
              "           0.0000, 0.0000, 0.0000, 0.0000, 0.0000, 0.7569, 0.8941, 0.8549,\n",
              "           0.8353, 0.7765, 0.7059, 0.8314, 0.8235, 0.8275, 0.8353, 0.8745,\n",
              "           0.8627, 0.9529, 0.7922, 0.0000],\n",
              "          [0.0000, 0.0000, 0.0000, 0.0000, 0.0000, 0.0000, 0.0000, 0.0000,\n",
              "           0.0000, 0.0039, 0.0118, 0.0000, 0.0471, 0.8588, 0.8627, 0.8314,\n",
              "           0.8549, 0.7529, 0.6627, 0.8902, 0.8157, 0.8549, 0.8784, 0.8314,\n",
              "           0.8863, 0.7725, 0.8196, 0.2039],\n",
              "          [0.0000, 0.0000, 0.0000, 0.0000, 0.0000, 0.0000, 0.0000, 0.0000,\n",
              "           0.0000, 0.0000, 0.0235, 0.0000, 0.3882, 0.9569, 0.8706, 0.8627,\n",
              "           0.8549, 0.7961, 0.7765, 0.8667, 0.8431, 0.8353, 0.8706, 0.8627,\n",
              "           0.9608, 0.4667, 0.6549, 0.2196],\n",
              "          [0.0000, 0.0000, 0.0000, 0.0000, 0.0000, 0.0000, 0.0000, 0.0000,\n",
              "           0.0000, 0.0157, 0.0000, 0.0000, 0.2157, 0.9255, 0.8941, 0.9020,\n",
              "           0.8941, 0.9412, 0.9098, 0.8353, 0.8549, 0.8745, 0.9176, 0.8510,\n",
              "           0.8510, 0.8196, 0.3608, 0.0000],\n",
              "          [0.0000, 0.0000, 0.0039, 0.0157, 0.0235, 0.0275, 0.0078, 0.0000,\n",
              "           0.0000, 0.0000, 0.0000, 0.0000, 0.9294, 0.8863, 0.8510, 0.8745,\n",
              "           0.8706, 0.8588, 0.8706, 0.8667, 0.8471, 0.8745, 0.8980, 0.8431,\n",
              "           0.8549, 1.0000, 0.3020, 0.0000],\n",
              "          [0.0000, 0.0118, 0.0000, 0.0000, 0.0000, 0.0000, 0.0000, 0.0000,\n",
              "           0.0000, 0.2431, 0.5686, 0.8000, 0.8941, 0.8118, 0.8353, 0.8667,\n",
              "           0.8549, 0.8157, 0.8275, 0.8549, 0.8784, 0.8745, 0.8588, 0.8431,\n",
              "           0.8784, 0.9569, 0.6235, 0.0000],\n",
              "          [0.0000, 0.0000, 0.0000, 0.0000, 0.0706, 0.1725, 0.3216, 0.4196,\n",
              "           0.7412, 0.8941, 0.8627, 0.8706, 0.8510, 0.8863, 0.7843, 0.8039,\n",
              "           0.8275, 0.9020, 0.8784, 0.9176, 0.6902, 0.7373, 0.9804, 0.9725,\n",
              "           0.9137, 0.9333, 0.8431, 0.0000],\n",
              "          [0.0000, 0.2235, 0.7333, 0.8157, 0.8784, 0.8667, 0.8784, 0.8157,\n",
              "           0.8000, 0.8392, 0.8157, 0.8196, 0.7843, 0.6235, 0.9608, 0.7569,\n",
              "           0.8078, 0.8745, 1.0000, 1.0000, 0.8667, 0.9176, 0.8667, 0.8275,\n",
              "           0.8627, 0.9098, 0.9647, 0.0000],\n",
              "          [0.0118, 0.7922, 0.8941, 0.8784, 0.8667, 0.8275, 0.8275, 0.8392,\n",
              "           0.8039, 0.8039, 0.8039, 0.8627, 0.9412, 0.3137, 0.5882, 1.0000,\n",
              "           0.8980, 0.8667, 0.7373, 0.6039, 0.7490, 0.8235, 0.8000, 0.8196,\n",
              "           0.8706, 0.8941, 0.8824, 0.0000],\n",
              "          [0.3843, 0.9137, 0.7765, 0.8235, 0.8706, 0.8980, 0.8980, 0.9176,\n",
              "           0.9765, 0.8627, 0.7608, 0.8431, 0.8510, 0.9451, 0.2549, 0.2863,\n",
              "           0.4157, 0.4588, 0.6588, 0.8588, 0.8667, 0.8431, 0.8510, 0.8745,\n",
              "           0.8745, 0.8784, 0.8980, 0.1137],\n",
              "          [0.2941, 0.8000, 0.8314, 0.8000, 0.7569, 0.8039, 0.8275, 0.8824,\n",
              "           0.8471, 0.7255, 0.7725, 0.8078, 0.7765, 0.8353, 0.9412, 0.7647,\n",
              "           0.8902, 0.9608, 0.9373, 0.8745, 0.8549, 0.8314, 0.8196, 0.8706,\n",
              "           0.8627, 0.8667, 0.9020, 0.2627],\n",
              "          [0.1882, 0.7961, 0.7176, 0.7608, 0.8353, 0.7725, 0.7255, 0.7451,\n",
              "           0.7608, 0.7529, 0.7922, 0.8392, 0.8588, 0.8667, 0.8627, 0.9255,\n",
              "           0.8824, 0.8471, 0.7804, 0.8078, 0.7294, 0.7098, 0.6941, 0.6745,\n",
              "           0.7098, 0.8039, 0.8078, 0.4510],\n",
              "          [0.0000, 0.4784, 0.8588, 0.7569, 0.7020, 0.6706, 0.7176, 0.7686,\n",
              "           0.8000, 0.8235, 0.8353, 0.8118, 0.8275, 0.8235, 0.7843, 0.7686,\n",
              "           0.7608, 0.7490, 0.7647, 0.7490, 0.7765, 0.7529, 0.6902, 0.6118,\n",
              "           0.6549, 0.6941, 0.8235, 0.3608],\n",
              "          [0.0000, 0.0000, 0.2902, 0.7412, 0.8314, 0.7490, 0.6863, 0.6745,\n",
              "           0.6863, 0.7098, 0.7255, 0.7373, 0.7412, 0.7373, 0.7569, 0.7765,\n",
              "           0.8000, 0.8196, 0.8235, 0.8235, 0.8275, 0.7373, 0.7373, 0.7608,\n",
              "           0.7529, 0.8471, 0.6667, 0.0000],\n",
              "          [0.0078, 0.0000, 0.0000, 0.0000, 0.2588, 0.7843, 0.8706, 0.9294,\n",
              "           0.9373, 0.9490, 0.9647, 0.9529, 0.9569, 0.8667, 0.8627, 0.7569,\n",
              "           0.7490, 0.7020, 0.7137, 0.7137, 0.7098, 0.6902, 0.6510, 0.6588,\n",
              "           0.3882, 0.2275, 0.0000, 0.0000],\n",
              "          [0.0000, 0.0000, 0.0000, 0.0000, 0.0000, 0.0000, 0.0000, 0.1569,\n",
              "           0.2392, 0.1725, 0.2824, 0.1608, 0.1373, 0.0000, 0.0000, 0.0000,\n",
              "           0.0000, 0.0000, 0.0000, 0.0000, 0.0000, 0.0000, 0.0000, 0.0000,\n",
              "           0.0000, 0.0000, 0.0000, 0.0000],\n",
              "          [0.0000, 0.0000, 0.0000, 0.0000, 0.0000, 0.0000, 0.0000, 0.0000,\n",
              "           0.0000, 0.0000, 0.0000, 0.0000, 0.0000, 0.0000, 0.0000, 0.0000,\n",
              "           0.0000, 0.0000, 0.0000, 0.0000, 0.0000, 0.0000, 0.0000, 0.0000,\n",
              "           0.0000, 0.0000, 0.0000, 0.0000],\n",
              "          [0.0000, 0.0000, 0.0000, 0.0000, 0.0000, 0.0000, 0.0000, 0.0000,\n",
              "           0.0000, 0.0000, 0.0000, 0.0000, 0.0000, 0.0000, 0.0000, 0.0000,\n",
              "           0.0000, 0.0000, 0.0000, 0.0000, 0.0000, 0.0000, 0.0000, 0.0000,\n",
              "           0.0000, 0.0000, 0.0000, 0.0000]]]), 9)"
            ]
          },
          "metadata": {},
          "execution_count": 4
        }
      ],
      "source": [
        "image,label=train_data[0]\n",
        "image,label"
      ]
    },
    {
      "cell_type": "code",
      "execution_count": 5,
      "metadata": {
        "id": "vCqYosOj5kkk"
      },
      "outputs": [],
      "source": [
        "class_names=train_data.classes"
      ]
    },
    {
      "cell_type": "code",
      "execution_count": 6,
      "metadata": {
        "colab": {
          "base_uri": "https://localhost:8080/"
        },
        "id": "YaLI3o5n5qha",
        "outputId": "38c51387-f370-4bd4-ef5f-f7f0f8282ec1"
      },
      "outputs": [
        {
          "output_type": "execute_result",
          "data": {
            "text/plain": [
              "{'T-shirt/top': 0,\n",
              " 'Trouser': 1,\n",
              " 'Pullover': 2,\n",
              " 'Dress': 3,\n",
              " 'Coat': 4,\n",
              " 'Sandal': 5,\n",
              " 'Shirt': 6,\n",
              " 'Sneaker': 7,\n",
              " 'Bag': 8,\n",
              " 'Ankle boot': 9}"
            ]
          },
          "metadata": {},
          "execution_count": 6
        }
      ],
      "source": [
        "class_to_idx=train_data.class_to_idx\n",
        "class_to_idx"
      ]
    },
    {
      "cell_type": "code",
      "execution_count": 7,
      "metadata": {
        "colab": {
          "base_uri": "https://localhost:8080/"
        },
        "id": "-kZaBj2C51x2",
        "outputId": "96f68567-8656-4a1f-fc41-9f36c9313c85"
      },
      "outputs": [
        {
          "output_type": "execute_result",
          "data": {
            "text/plain": [
              "torch.Size([1, 28, 28])"
            ]
          },
          "metadata": {},
          "execution_count": 7
        }
      ],
      "source": [
        "image.shape"
      ]
    },
    {
      "cell_type": "code",
      "execution_count": 8,
      "metadata": {
        "colab": {
          "base_uri": "https://localhost:8080/",
          "height": 265
        },
        "id": "CV189Ron7N2S",
        "outputId": "a4921d4e-606b-4823-efd9-ef66c8b9a2c6"
      },
      "outputs": [
        {
          "output_type": "display_data",
          "data": {
            "text/plain": [
              "<Figure size 432x288 with 1 Axes>"
            ],
            "image/png": "[encoded data removed]"
          },
          "metadata": {
            "needs_background": "light"
          }
        }
      ],
      "source": [
        "image,label=train_data[0]\n",
        "plt.imshow(image.squeeze())\n",
        "plt.show()"
      ]
    },
    {
      "cell_type": "code",
      "execution_count": 9,
      "metadata": {
        "colab": {
          "base_uri": "https://localhost:8080/",
          "height": 539
        },
        "id": "Q14_RX-v8Pc4",
        "outputId": "ef1e5ce9-c671-4cae-d067-1aefe7500b85"
      },
      "outputs": [
        {
          "output_type": "display_data",
          "data": {
            "text/plain": [
              "<Figure size 648x648 with 16 Axes>"
            ],
            "image/png": "[encoded data removed]"
          },
          "metadata": {
            "needs_background": "light"
          }
        }
      ],
      "source": [
        "rows, cols=4,4\n",
        "fig=plt.figure(figsize=(9,9))\n",
        "for i in range(1, rows*cols+1):\n",
        "  random_idx=torch.randint(0,len(train_data),size=[1]).item()\n",
        "  fig.add_subplot(rows,cols,i)\n",
        "  img, label=train_data[random_idx]\n",
        "  plt.imshow(img.squeeze(), cmap='gray')\n",
        "  "
      ]
    },
    {
      "cell_type": "code",
      "execution_count": 10,
      "metadata": {
        "colab": {
          "base_uri": "https://localhost:8080/"
        },
        "id": "pJCalutg8_Ed",
        "outputId": "b6da7d15-e45a-48e4-8688-13453d20dc79"
      },
      "outputs": [
        {
          "output_type": "execute_result",
          "data": {
            "text/plain": [
              "(Dataset FashionMNIST\n",
              "     Number of datapoints: 60000\n",
              "     Root location: data\n",
              "     Split: Train\n",
              "     StandardTransform\n",
              " Transform: ToTensor(), Dataset FashionMNIST\n",
              "     Number of datapoints: 10000\n",
              "     Root location: data\n",
              "     Split: Test\n",
              "     StandardTransform\n",
              " Transform: ToTensor())"
            ]
          },
          "metadata": {},
          "execution_count": 10
        }
      ],
      "source": [
        "train_data, test_data"
      ]
    },
    {
      "cell_type": "code",
      "source": [],
      "metadata": {
        "id": "s3z8CiDPTMPw"
      },
      "execution_count": 10,
      "outputs": []
    },
    {
      "cell_type": "code",
      "execution_count": 11,
      "metadata": {
        "id": "6l2p5P9Q4Bm8"
      },
      "outputs": [],
      "source": [
        "from torch.utils.data import DataLoader\n",
        "batch_size=32\n",
        "train_dataloader=DataLoader(dataset=train_data,\n",
        "                            batch_size=batch_size,\n",
        "                            shuffle=True)\n",
        "test_dataloader=DataLoader(dataset=test_data, batch_size=batch_size,\n",
        "                           shuffle=False)"
      ]
    },
    {
      "cell_type": "code",
      "execution_count": 12,
      "metadata": {
        "colab": {
          "base_uri": "https://localhost:8080/"
        },
        "id": "RR1O7TkqB6-K",
        "outputId": "432b1922-9915-4b0a-801e-5a818c0c18c9"
      },
      "outputs": [
        {
          "output_type": "execute_result",
          "data": {
            "text/plain": [
              "32"
            ]
          },
          "metadata": {},
          "execution_count": 12
        }
      ],
      "source": [
        "len(train_dataloader), len(test_dataloader) #gives the batch size\n",
        "train_dataloader.batch_size"
      ]
    },
    {
      "cell_type": "code",
      "execution_count": 13,
      "metadata": {
        "colab": {
          "base_uri": "https://localhost:8080/"
        },
        "id": "qFB6rHUZCk--",
        "outputId": "aad68d85-91d7-44cd-962a-d5bff9d518dd"
      },
      "outputs": [
        {
          "output_type": "execute_result",
          "data": {
            "text/plain": [
              "(torch.Size([32, 1, 28, 28]), torch.Size([32]))"
            ]
          },
          "metadata": {},
          "execution_count": 13
        }
      ],
      "source": [
        "train_features_batch,train_labels_batch=next(iter(train_dataloader))\n",
        "train_features_batch.shape, train_labels_batch.shape"
      ]
    },
    {
      "cell_type": "code",
      "execution_count": 14,
      "metadata": {
        "colab": {
          "base_uri": "https://localhost:8080/"
        },
        "id": "s1LWvyvPDALG",
        "outputId": "edd6d9ad-78db-4a9a-99ca-424ddda035d8"
      },
      "outputs": [
        {
          "output_type": "execute_result",
          "data": {
            "text/plain": [
              "tensor([[[0.0000, 0.0000, 0.0000, 0.0000, 0.0000, 0.0000, 0.0000, 0.0000,\n",
              "          0.0000, 0.0000, 0.0000, 0.0000, 0.0000, 0.0000, 0.0000, 0.0000,\n",
              "          0.0000, 0.0000, 0.0000, 0.0000, 0.0000, 0.0000, 0.0000, 0.0000,\n",
              "          0.0000, 0.0000, 0.0000, 0.0000],\n",
              "         [0.0000, 0.0000, 0.0000, 0.0000, 0.0000, 0.0000, 0.0000, 0.0000,\n",
              "          0.0000, 0.0000, 0.0000, 0.0000, 0.0000, 0.0000, 0.0000, 0.0000,\n",
              "          0.0000, 0.0000, 0.0000, 0.0000, 0.0000, 0.0000, 0.0000, 0.0000,\n",
              "          0.0000, 0.0000, 0.0000, 0.0000],\n",
              "         [0.0000, 0.0000, 0.0000, 0.0000, 0.0000, 0.0000, 0.0000, 0.0000,\n",
              "          0.0000, 0.0000, 0.0000, 0.0000, 0.0000, 0.0000, 0.0000, 0.0000,\n",
              "          0.0000, 0.0000, 0.0000, 0.0000, 0.0000, 0.0000, 0.0000, 0.0000,\n",
              "          0.0000, 0.0000, 0.0000, 0.0000],\n",
              "         [0.0000, 0.0000, 0.0000, 0.0000, 0.0000, 0.0000, 0.0000, 0.0000,\n",
              "          0.0000, 0.0000, 0.0000, 0.0000, 0.0000, 0.0000, 0.0000, 0.0000,\n",
              "          0.0000, 0.0000, 0.0000, 0.0000, 0.0000, 0.0000, 0.0000, 0.0000,\n",
              "          0.0000, 0.0000, 0.0000, 0.0000],\n",
              "         [0.0000, 0.0000, 0.0000, 0.0000, 0.0000, 0.0000, 0.0000, 0.0000,\n",
              "          0.0000, 0.0000, 0.0000, 0.0000, 0.0000, 0.0000, 0.0000, 0.0000,\n",
              "          0.0000, 0.0000, 0.0000, 0.0000, 0.0000, 0.0000, 0.0000, 0.0000,\n",
              "          0.0000, 0.0000, 0.0000, 0.0000],\n",
              "         [0.0000, 0.0000, 0.0000, 0.0000, 0.0000, 0.0000, 0.0000, 0.0000,\n",
              "          0.0000, 0.0000, 0.0000, 0.0000, 0.0000, 0.0000, 0.0000, 0.0000,\n",
              "          0.0000, 0.0000, 0.0000, 0.0000, 0.0000, 0.0000, 0.0000, 0.0000,\n",
              "          0.0000, 0.0000, 0.0000, 0.0000],\n",
              "         [0.0000, 0.0000, 0.0000, 0.0000, 0.0000, 0.0000, 0.0000, 0.0000,\n",
              "          0.0000, 0.0000, 0.0000, 0.0000, 0.0000, 0.0000, 0.0000, 0.0000,\n",
              "          0.0000, 0.0000, 0.0000, 0.0000, 0.0000, 0.0000, 0.0000, 0.0000,\n",
              "          0.0000, 0.0000, 0.0000, 0.0000],\n",
              "         [0.0000, 0.0000, 0.0000, 0.0000, 0.0000, 0.0000, 0.0000, 0.0000,\n",
              "          0.0000, 0.0000, 0.0000, 0.0000, 0.0000, 0.0000, 0.0000, 0.0000,\n",
              "          0.0000, 0.0000, 0.0000, 0.0000, 0.0000, 0.0000, 0.0000, 0.0000,\n",
              "          0.0000, 0.0000, 0.0000, 0.0000],\n",
              "         [0.0000, 0.0000, 0.0000, 0.0000, 0.0000, 0.0000, 0.0000, 0.0000,\n",
              "          0.0000, 0.0000, 0.0000, 0.0000, 0.0000, 0.0000, 0.0000, 0.0000,\n",
              "          0.0000, 0.0000, 0.0000, 0.0000, 0.0000, 0.0000, 0.0000, 0.0000,\n",
              "          0.0000, 0.0000, 0.0000, 0.0000],\n",
              "         [0.0000, 0.0000, 0.0000, 0.0000, 0.0000, 0.0000, 0.0000, 0.0000,\n",
              "          0.0000, 0.0039, 0.0039, 0.0078, 0.0000, 0.0000, 0.0000, 0.0000,\n",
              "          0.1451, 0.4078, 0.0118, 0.0000, 0.0039, 0.0000, 0.0000, 0.0039,\n",
              "          0.0039, 0.0000, 0.0000, 0.0000],\n",
              "         [0.0000, 0.0000, 0.0000, 0.0000, 0.0000, 0.0000, 0.0000, 0.0000,\n",
              "          0.0000, 0.0000, 0.0039, 0.0000, 0.0000, 0.0196, 0.2157, 0.1882,\n",
              "          0.5294, 0.8000, 0.5412, 0.0000, 0.0000, 0.0078, 0.0000, 0.0000,\n",
              "          0.0000, 0.0157, 0.0431, 0.0000],\n",
              "         [0.0000, 0.0000, 0.0000, 0.0000, 0.0078, 0.0000, 0.0000, 0.0000,\n",
              "          0.0078, 0.0000, 0.0000, 0.0000, 0.0627, 0.2824, 0.3843, 0.6196,\n",
              "          0.6000, 0.6157, 0.7020, 0.2157, 0.0000, 0.0000, 0.0000, 0.0000,\n",
              "          0.0275, 0.0510, 0.0275, 0.0000],\n",
              "         [0.0039, 0.0039, 0.0039, 0.0078, 0.0314, 0.0078, 0.0000, 0.0000,\n",
              "          0.0000, 0.0000, 0.0039, 0.2353, 0.3294, 0.5059, 0.6039, 0.5020,\n",
              "          0.6549, 0.6196, 0.6824, 0.8706, 0.6000, 0.3020, 0.0000, 0.0000,\n",
              "          0.0000, 0.0000, 0.1922, 0.0196],\n",
              "         [0.0039, 0.0000, 0.0000, 0.0000, 0.0000, 0.0000, 0.0000, 0.0000,\n",
              "          0.0824, 0.2627, 0.4667, 0.3804, 0.4627, 0.5020, 0.3647, 0.1373,\n",
              "          0.2549, 0.7020, 0.7333, 0.6627, 0.7255, 0.7882, 0.5608, 0.2784,\n",
              "          0.4039, 0.7059, 0.9686, 0.3059],\n",
              "         [0.0000, 0.0275, 0.0784, 0.1333, 0.1255, 0.1922, 0.3804, 0.2667,\n",
              "          0.3765, 0.4392, 0.5333, 0.5098, 0.5373, 0.6314, 0.0118, 0.1294,\n",
              "          0.0000, 0.1765, 0.7412, 0.5294, 0.4039, 0.3882, 0.4431, 0.4588,\n",
              "          0.7333, 0.7333, 0.7333, 0.3020],\n",
              "         [0.0392, 0.5569, 0.6314, 0.5176, 0.4863, 0.4784, 0.4392, 0.5176,\n",
              "          0.4902, 0.5647, 0.5451, 0.5843, 0.5922, 0.5412, 0.0000, 0.0039,\n",
              "          0.0000, 0.2078, 0.6824, 0.5804, 0.5882, 0.5255, 0.5843, 0.6824,\n",
              "          0.7569, 0.7294, 0.7569, 0.2784],\n",
              "         [0.0000, 0.0627, 0.1843, 0.4196, 0.6275, 0.6392, 0.5804, 0.6118,\n",
              "          0.6431, 0.6902, 0.4510, 0.5176, 0.7020, 0.8706, 0.7765, 0.4588,\n",
              "          0.5098, 0.9529, 0.9412, 0.9412, 0.9882, 1.0000, 0.9647, 0.9176,\n",
              "          0.7843, 0.6863, 0.7412, 0.1647],\n",
              "         [0.1059, 0.1765, 0.0549, 0.0039, 0.0353, 0.2078, 0.2588, 0.3412,\n",
              "          0.4392, 0.5373, 0.4549, 0.4275, 0.4392, 0.3686, 0.3569, 0.3333,\n",
              "          0.2667, 0.1569, 0.0627, 0.1020, 0.1333, 0.0627, 0.0000, 0.0000,\n",
              "          0.0000, 0.0000, 0.0000, 0.0000],\n",
              "         [0.0000, 0.1020, 0.2627, 0.2863, 0.2118, 0.1255, 0.0275, 0.0078,\n",
              "          0.0000, 0.0000, 0.0000, 0.0000, 0.0000, 0.0000, 0.0000, 0.0039,\n",
              "          0.0039, 0.0078, 0.0706, 0.0275, 0.0078, 0.0275, 0.0392, 0.0667,\n",
              "          0.0941, 0.1255, 0.2275, 0.1843],\n",
              "         [0.0000, 0.0000, 0.0000, 0.0000, 0.1059, 0.1765, 0.2392, 0.2941,\n",
              "          0.3373, 0.3451, 0.3882, 0.4431, 0.3373, 0.3255, 0.3333, 0.3137,\n",
              "          0.2824, 0.3373, 0.3882, 0.2627, 0.3098, 0.3333, 0.3373, 0.3020,\n",
              "          0.3098, 0.3020, 0.2392, 0.0549],\n",
              "         [0.0000, 0.0000, 0.0000, 0.0000, 0.0000, 0.0000, 0.0000, 0.0000,\n",
              "          0.0000, 0.0000, 0.0000, 0.0000, 0.0000, 0.0000, 0.0000, 0.0000,\n",
              "          0.0000, 0.0000, 0.0000, 0.0000, 0.0000, 0.0000, 0.0000, 0.0000,\n",
              "          0.0000, 0.0000, 0.0000, 0.0000],\n",
              "         [0.0000, 0.0000, 0.0000, 0.0000, 0.0000, 0.0000, 0.0000, 0.0000,\n",
              "          0.0000, 0.0000, 0.0000, 0.0000, 0.0000, 0.0000, 0.0000, 0.0000,\n",
              "          0.0000, 0.0000, 0.0000, 0.0000, 0.0000, 0.0000, 0.0000, 0.0000,\n",
              "          0.0000, 0.0000, 0.0000, 0.0000],\n",
              "         [0.0000, 0.0000, 0.0000, 0.0000, 0.0000, 0.0000, 0.0000, 0.0000,\n",
              "          0.0000, 0.0000, 0.0000, 0.0000, 0.0000, 0.0000, 0.0000, 0.0000,\n",
              "          0.0000, 0.0000, 0.0000, 0.0000, 0.0000, 0.0000, 0.0000, 0.0000,\n",
              "          0.0000, 0.0000, 0.0000, 0.0000],\n",
              "         [0.0000, 0.0000, 0.0000, 0.0000, 0.0000, 0.0000, 0.0000, 0.0000,\n",
              "          0.0000, 0.0000, 0.0000, 0.0000, 0.0000, 0.0000, 0.0000, 0.0000,\n",
              "          0.0000, 0.0000, 0.0000, 0.0000, 0.0000, 0.0000, 0.0000, 0.0000,\n",
              "          0.0000, 0.0000, 0.0000, 0.0000],\n",
              "         [0.0000, 0.0000, 0.0000, 0.0000, 0.0000, 0.0000, 0.0000, 0.0000,\n",
              "          0.0000, 0.0000, 0.0000, 0.0000, 0.0000, 0.0000, 0.0000, 0.0000,\n",
              "          0.0000, 0.0000, 0.0000, 0.0000, 0.0000, 0.0000, 0.0000, 0.0000,\n",
              "          0.0000, 0.0000, 0.0000, 0.0000],\n",
              "         [0.0000, 0.0000, 0.0000, 0.0000, 0.0000, 0.0000, 0.0000, 0.0000,\n",
              "          0.0000, 0.0000, 0.0000, 0.0000, 0.0000, 0.0000, 0.0000, 0.0000,\n",
              "          0.0000, 0.0000, 0.0000, 0.0000, 0.0000, 0.0000, 0.0000, 0.0000,\n",
              "          0.0000, 0.0000, 0.0000, 0.0000],\n",
              "         [0.0000, 0.0000, 0.0000, 0.0000, 0.0000, 0.0000, 0.0000, 0.0000,\n",
              "          0.0000, 0.0000, 0.0000, 0.0000, 0.0000, 0.0000, 0.0000, 0.0000,\n",
              "          0.0000, 0.0000, 0.0000, 0.0000, 0.0000, 0.0000, 0.0000, 0.0000,\n",
              "          0.0000, 0.0000, 0.0000, 0.0000],\n",
              "         [0.0000, 0.0000, 0.0000, 0.0000, 0.0000, 0.0000, 0.0000, 0.0000,\n",
              "          0.0000, 0.0000, 0.0000, 0.0000, 0.0000, 0.0000, 0.0000, 0.0000,\n",
              "          0.0000, 0.0000, 0.0000, 0.0000, 0.0000, 0.0000, 0.0000, 0.0000,\n",
              "          0.0000, 0.0000, 0.0000, 0.0000]]])"
            ]
          },
          "metadata": {},
          "execution_count": 14
        }
      ],
      "source": [
        "#model\n",
        "#flatten layer\n",
        "flatten_layer=nn.Flatten()\n",
        "\n",
        "#single sample\n",
        "x=train_features_batch[0]\n",
        "x"
      ]
    },
    {
      "cell_type": "code",
      "execution_count": 15,
      "metadata": {
        "colab": {
          "base_uri": "https://localhost:8080/"
        },
        "id": "VLzoeRGfFPPD",
        "outputId": "6e320f1c-c94f-4c0b-abf8-8048f1c551fa"
      },
      "outputs": [
        {
          "output_type": "stream",
          "name": "stdout",
          "text": [
            "shape before flattening torch.Size([1, 28, 28]) | After Flattening torch.Size([1, 784])\n"
          ]
        }
      ],
      "source": [
        "output=flatten_layer(x) #perform a single pass\n",
        "print(f'shape before flattening {x.shape} | After Flattening {output.shape}') #one value per pixel 784"
      ]
    },
    {
      "cell_type": "code",
      "execution_count": 16,
      "metadata": {
        "id": "-xuSfQd0SbGo"
      },
      "outputs": [],
      "source": [
        "class FMNIST(nn.Module):\n",
        "  def __init__(self,input_shape, hidden_units, output_shape):\n",
        "    super().__init__()\n",
        "    self.layers=nn.Sequential(\n",
        "        nn.Flatten(),\n",
        "        nn.Linear(in_features=input_shape,\n",
        "                  out_features=hidden_units),\n",
        "        nn.Linear(in_features=hidden_units, out_features=output_shape))\n",
        "  def forward(self, x):\n",
        "      return self.layers(x)\n",
        "\n"
      ]
    },
    {
      "cell_type": "code",
      "execution_count": 17,
      "metadata": {
        "colab": {
          "base_uri": "https://localhost:8080/"
        },
        "id": "X9JjLfG7TEAw",
        "outputId": "77124e62-6989-4b06-e8e4-6bacdabcdeba"
      },
      "outputs": [
        {
          "output_type": "execute_result",
          "data": {
            "text/plain": [
              "FMNIST(\n",
              "  (layers): Sequential(\n",
              "    (0): Flatten(start_dim=1, end_dim=-1)\n",
              "    (1): Linear(in_features=784, out_features=10, bias=True)\n",
              "    (2): Linear(in_features=10, out_features=10, bias=True)\n",
              "  )\n",
              ")"
            ]
          },
          "metadata": {},
          "execution_count": 17
        }
      ],
      "source": [
        "torch.cuda.manual_seed(42)\n",
        "model_0=FMNIST(input_shape=784, hidden_units=10, output_shape=10) # this is 28*28\n",
        "model_0"
      ]
    },
    {
      "cell_type": "code",
      "execution_count": 18,
      "metadata": {
        "colab": {
          "base_uri": "https://localhost:8080/"
        },
        "id": "fEHF38s9TonH",
        "outputId": "ba4e3e50-3c70-4312-9c92-ba57a3ff0fdc"
      },
      "outputs": [
        {
          "output_type": "execute_result",
          "data": {
            "text/plain": [
              "tensor([[-0.1468,  0.4757,  0.2501, -0.1791, -0.6686,  0.1190,  0.2838,  0.1840,\n",
              "         -0.1099, -0.1163]], grad_fn=<AddmmBackward0>)"
            ]
          },
          "metadata": {},
          "execution_count": 18
        }
      ],
      "source": [
        "dummy_x=torch.rand([1,1,28,28])\n",
        "model_0(dummy_x)"
      ]
    },
    {
      "cell_type": "code",
      "execution_count": 19,
      "metadata": {
        "colab": {
          "base_uri": "https://localhost:8080/"
        },
        "id": "utJOR0eCkOhq",
        "outputId": "3eb8bf88-6648-4761-89be-b787f5e5bb0d"
      },
      "outputs": [
        {
          "output_type": "execute_result",
          "data": {
            "text/plain": [
              "OrderedDict([('layers.1.weight',\n",
              "              tensor([[-0.0147,  0.0199,  0.0015,  ..., -0.0107,  0.0133,  0.0144],\n",
              "                      [-0.0342, -0.0036, -0.0237,  ...,  0.0151, -0.0304, -0.0004],\n",
              "                      [-0.0274,  0.0249, -0.0343,  ..., -0.0079, -0.0332, -0.0021],\n",
              "                      ...,\n",
              "                      [ 0.0005, -0.0020,  0.0032,  ..., -0.0147, -0.0053, -0.0016],\n",
              "                      [-0.0004,  0.0185, -0.0223,  ..., -0.0234, -0.0101,  0.0103],\n",
              "                      [-0.0191, -0.0213,  0.0204,  ...,  0.0171, -0.0088,  0.0079]])),\n",
              "             ('layers.1.bias',\n",
              "              tensor([-0.0290,  0.0054,  0.0009,  0.0242,  0.0164, -0.0270,  0.0061, -0.0289,\n",
              "                       0.0147,  0.0153])),\n",
              "             ('layers.2.weight',\n",
              "              tensor([[ 0.2877,  0.2061,  0.0480, -0.2190,  0.2812, -0.1169, -0.2332, -0.0807,\n",
              "                        0.0147,  0.0316],\n",
              "                      [-0.1918, -0.1331, -0.1352, -0.2013,  0.1926,  0.2695, -0.2639, -0.0398,\n",
              "                        0.0181, -0.0431],\n",
              "                      [ 0.3133,  0.1093, -0.2939,  0.0504, -0.0815,  0.0196,  0.0670, -0.1986,\n",
              "                        0.1802, -0.2282],\n",
              "                      [ 0.0899,  0.2354, -0.2138,  0.0137,  0.3156, -0.3142,  0.1098, -0.2834,\n",
              "                       -0.2391,  0.1843],\n",
              "                      [-0.0264,  0.2951,  0.2004, -0.0439, -0.0003, -0.1038,  0.0980, -0.1588,\n",
              "                        0.2440,  0.2056],\n",
              "                      [-0.1001, -0.2995, -0.1533, -0.0294,  0.0687,  0.2693, -0.1458,  0.3160,\n",
              "                       -0.0045, -0.0422],\n",
              "                      [-0.1823,  0.0977, -0.3155,  0.0943, -0.1114,  0.3110, -0.2627, -0.1903,\n",
              "                       -0.0982,  0.1837],\n",
              "                      [-0.0520,  0.2353,  0.0244,  0.1597, -0.2257, -0.1190, -0.0870,  0.1279,\n",
              "                       -0.2677, -0.2969],\n",
              "                      [-0.0469, -0.0746,  0.2933,  0.1757, -0.3155,  0.1135,  0.0875, -0.0628,\n",
              "                        0.0609,  0.2851],\n",
              "                      [ 0.2634,  0.1817,  0.2095,  0.2131, -0.1167, -0.2130, -0.0699,  0.1638,\n",
              "                       -0.2360,  0.2521]])),\n",
              "             ('layers.2.bias',\n",
              "              tensor([ 0.0708,  0.2189,  0.3011,  0.0646, -0.2644, -0.2770,  0.1222,  0.1220,\n",
              "                      -0.0009,  0.1161]))])"
            ]
          },
          "metadata": {},
          "execution_count": 19
        }
      ],
      "source": [
        "model_0.state_dict()"
      ]
    },
    {
      "cell_type": "code",
      "execution_count": 20,
      "metadata": {
        "id": "rEYyn9Pawx3p"
      },
      "outputs": [],
      "source": [
        "import requests\n",
        "from pathlib import Path"
      ]
    },
    {
      "cell_type": "code",
      "execution_count": 21,
      "metadata": {
        "id": "JViqV0ZhB6P-"
      },
      "outputs": [],
      "source": [
        "request=requests.get(\"https://raw.githubusercontent.com/mrdbourke/pytorch-deep-learning/main/helper_functions.py\")\n",
        "with open(\"helper_functions.py\",\"wb\") as f:\n",
        "  f.write(request.content)\n",
        "  "
      ]
    },
    {
      "cell_type": "code",
      "execution_count": 22,
      "metadata": {
        "id": "Kw394sEWCREr"
      },
      "outputs": [],
      "source": [
        "from helper_functions import accuracy_fn\n",
        "loss_fn=nn.CrossEntropyLoss()\n",
        "optim=torch.optim.SGD(params=model_0.parameters(), lr=0.1)"
      ]
    },
    {
      "cell_type": "code",
      "execution_count": 23,
      "metadata": {
        "colab": {
          "base_uri": "https://localhost:8080/"
        },
        "id": "ClVgScYvCtlJ",
        "outputId": "83821993-c720-429f-e6d8-7ae2f93e7a1d"
      },
      "outputs": [
        {
          "output_type": "stream",
          "name": "stderr",
          "text": [
            "\r  0%|          | 0/100 [00:00<?, ?it/s]"
          ]
        },
        {
          "output_type": "stream",
          "name": "stdout",
          "text": [
            "Looked at 0/ 60000 samples\n",
            "Looked at 12800/ 60000 samples\n",
            "Looked at 25600/ 60000 samples\n",
            "Looked at 38400/ 60000 samples\n",
            "Looked at 51200/ 60000 samples\n"
          ]
        },
        {
          "output_type": "stream",
          "name": "stderr",
          "text": [
            "\r  1%|          | 1/100 [00:11<19:15, 11.67s/it]"
          ]
        },
        {
          "output_type": "stream",
          "name": "stdout",
          "text": [
            "epoch 0|train loss 0.5926788449287415 | test_loss 0.5067224502563477| test_acc 82.39816293929712\n",
            "Looked at 0/ 60000 samples\n",
            "Looked at 12800/ 60000 samples\n",
            "Looked at 25600/ 60000 samples\n",
            "Looked at 38400/ 60000 samples\n",
            "Looked at 51200/ 60000 samples\n"
          ]
        },
        {
          "output_type": "stream",
          "name": "stderr",
          "text": [
            "\r  2%|▏         | 2/100 [00:20<16:31, 10.11s/it]"
          ]
        },
        {
          "output_type": "stream",
          "name": "stdout",
          "text": [
            "epoch 1|train loss 0.4800509214401245 | test_loss 0.48236799240112305| test_acc 82.97723642172524\n",
            "Looked at 0/ 60000 samples\n",
            "Looked at 12800/ 60000 samples\n",
            "Looked at 25600/ 60000 samples\n",
            "Looked at 38400/ 60000 samples\n",
            "Looked at 51200/ 60000 samples\n"
          ]
        },
        {
          "output_type": "stream",
          "name": "stderr",
          "text": [
            "\r  3%|▎         | 3/100 [00:30<15:54,  9.84s/it]"
          ]
        },
        {
          "output_type": "stream",
          "name": "stdout",
          "text": [
            "epoch 2|train loss 0.4572778046131134 | test_loss 0.4807315170764923| test_acc 83.4464856230032\n",
            "Looked at 0/ 60000 samples\n",
            "Looked at 12800/ 60000 samples\n",
            "Looked at 25600/ 60000 samples\n",
            "Looked at 38400/ 60000 samples\n",
            "Looked at 51200/ 60000 samples\n"
          ]
        },
        {
          "output_type": "stream",
          "name": "stderr",
          "text": [
            "\r  4%|▍         | 4/100 [00:39<15:30,  9.69s/it]"
          ]
        },
        {
          "output_type": "stream",
          "name": "stdout",
          "text": [
            "epoch 3|train loss 0.44387170672416687 | test_loss 0.465670645236969| test_acc 83.60623003194888\n",
            "Looked at 0/ 60000 samples\n",
            "Looked at 12800/ 60000 samples\n",
            "Looked at 25600/ 60000 samples\n",
            "Looked at 38400/ 60000 samples\n",
            "Looked at 51200/ 60000 samples\n"
          ]
        },
        {
          "output_type": "stream",
          "name": "stderr",
          "text": [
            "\r  5%|▌         | 5/100 [00:49<15:16,  9.65s/it]"
          ]
        },
        {
          "output_type": "stream",
          "name": "stdout",
          "text": [
            "epoch 4|train loss 0.4367794990539551 | test_loss 0.46858829259872437| test_acc 83.2567891373802\n",
            "Looked at 0/ 60000 samples\n",
            "Looked at 12800/ 60000 samples\n",
            "Looked at 25600/ 60000 samples\n",
            "Looked at 38400/ 60000 samples\n",
            "Looked at 51200/ 60000 samples\n"
          ]
        },
        {
          "output_type": "stream",
          "name": "stderr",
          "text": [
            "\r  6%|▌         | 6/100 [00:58<15:06,  9.65s/it]"
          ]
        },
        {
          "output_type": "stream",
          "name": "stdout",
          "text": [
            "epoch 5|train loss 0.43011581897735596 | test_loss 0.46012648940086365| test_acc 83.79592651757189\n",
            "Looked at 0/ 60000 samples\n",
            "Looked at 12800/ 60000 samples\n",
            "Looked at 25600/ 60000 samples\n",
            "Looked at 38400/ 60000 samples\n",
            "Looked at 51200/ 60000 samples\n"
          ]
        },
        {
          "output_type": "stream",
          "name": "stderr",
          "text": [
            "\r  7%|▋         | 7/100 [01:09<15:17,  9.86s/it]"
          ]
        },
        {
          "output_type": "stream",
          "name": "stdout",
          "text": [
            "epoch 6|train loss 0.4252414107322693 | test_loss 0.4899316728115082| test_acc 83.28674121405751\n",
            "Looked at 0/ 60000 samples\n",
            "Looked at 12800/ 60000 samples\n",
            "Looked at 25600/ 60000 samples\n",
            "Looked at 38400/ 60000 samples\n",
            "Looked at 51200/ 60000 samples\n"
          ]
        },
        {
          "output_type": "stream",
          "name": "stderr",
          "text": [
            "\r  8%|▊         | 8/100 [01:18<14:56,  9.75s/it]"
          ]
        },
        {
          "output_type": "stream",
          "name": "stdout",
          "text": [
            "epoch 7|train loss 0.42320677638053894 | test_loss 0.47351160645484924| test_acc 83.35662939297124\n",
            "Looked at 0/ 60000 samples\n",
            "Looked at 12800/ 60000 samples\n",
            "Looked at 25600/ 60000 samples\n",
            "Looked at 38400/ 60000 samples\n",
            "Looked at 51200/ 60000 samples\n"
          ]
        },
        {
          "output_type": "stream",
          "name": "stderr",
          "text": [
            "\r  9%|▉         | 9/100 [01:28<14:47,  9.75s/it]"
          ]
        },
        {
          "output_type": "stream",
          "name": "stdout",
          "text": [
            "epoch 8|train loss 0.4207410514354706 | test_loss 0.4745028614997864| test_acc 83.36661341853035\n",
            "Looked at 0/ 60000 samples\n",
            "Looked at 12800/ 60000 samples\n",
            "Looked at 25600/ 60000 samples\n",
            "Looked at 38400/ 60000 samples\n",
            "Looked at 51200/ 60000 samples\n"
          ]
        },
        {
          "output_type": "stream",
          "name": "stderr",
          "text": [
            "\r 10%|█         | 10/100 [01:38<14:40,  9.79s/it]"
          ]
        },
        {
          "output_type": "stream",
          "name": "stdout",
          "text": [
            "epoch 9|train loss 0.417941153049469 | test_loss 0.46226224303245544| test_acc 83.69608626198082\n",
            "Looked at 0/ 60000 samples\n",
            "Looked at 12800/ 60000 samples\n",
            "Looked at 25600/ 60000 samples\n",
            "Looked at 38400/ 60000 samples\n",
            "Looked at 51200/ 60000 samples\n"
          ]
        },
        {
          "output_type": "stream",
          "name": "stderr",
          "text": [
            "\r 11%|█         | 11/100 [01:47<14:24,  9.71s/it]"
          ]
        },
        {
          "output_type": "stream",
          "name": "stdout",
          "text": [
            "epoch 10|train loss 0.4163208603858948 | test_loss 0.4640677869319916| test_acc 83.59624600638978\n",
            "Looked at 0/ 60000 samples\n",
            "Looked at 12800/ 60000 samples\n",
            "Looked at 25600/ 60000 samples\n",
            "Looked at 38400/ 60000 samples\n",
            "Looked at 51200/ 60000 samples\n"
          ]
        },
        {
          "output_type": "stream",
          "name": "stderr",
          "text": [
            "\r 12%|█▏        | 12/100 [01:57<14:06,  9.62s/it]"
          ]
        },
        {
          "output_type": "stream",
          "name": "stdout",
          "text": [
            "epoch 11|train loss 0.41276758909225464 | test_loss 0.46384719014167786| test_acc 83.68610223642173\n",
            "Looked at 0/ 60000 samples\n",
            "Looked at 12800/ 60000 samples\n",
            "Looked at 25600/ 60000 samples\n",
            "Looked at 38400/ 60000 samples\n",
            "Looked at 51200/ 60000 samples\n"
          ]
        },
        {
          "output_type": "stream",
          "name": "stderr",
          "text": [
            "\r 13%|█▎        | 13/100 [02:06<13:46,  9.50s/it]"
          ]
        },
        {
          "output_type": "stream",
          "name": "stdout",
          "text": [
            "epoch 12|train loss 0.4108774662017822 | test_loss 0.4634283483028412| test_acc 83.995607028754\n",
            "Looked at 0/ 60000 samples\n",
            "Looked at 12800/ 60000 samples\n",
            "Looked at 25600/ 60000 samples\n",
            "Looked at 38400/ 60000 samples\n",
            "Looked at 51200/ 60000 samples\n"
          ]
        },
        {
          "output_type": "stream",
          "name": "stderr",
          "text": [
            "\r 14%|█▍        | 14/100 [02:15<13:33,  9.46s/it]"
          ]
        },
        {
          "output_type": "stream",
          "name": "stdout",
          "text": [
            "epoch 13|train loss 0.4100041687488556 | test_loss 0.4628605544567108| test_acc 84.10543130990415\n",
            "Looked at 0/ 60000 samples\n",
            "Looked at 12800/ 60000 samples\n",
            "Looked at 25600/ 60000 samples\n",
            "Looked at 38400/ 60000 samples\n",
            "Looked at 51200/ 60000 samples\n"
          ]
        },
        {
          "output_type": "stream",
          "name": "stderr",
          "text": [
            "\r 15%|█▌        | 15/100 [02:25<13:21,  9.43s/it]"
          ]
        },
        {
          "output_type": "stream",
          "name": "stdout",
          "text": [
            "epoch 14|train loss 0.4080544412136078 | test_loss 0.4759555160999298| test_acc 82.96725239616613\n",
            "Looked at 0/ 60000 samples\n",
            "Looked at 12800/ 60000 samples\n",
            "Looked at 25600/ 60000 samples\n",
            "Looked at 38400/ 60000 samples\n",
            "Looked at 51200/ 60000 samples\n"
          ]
        },
        {
          "output_type": "stream",
          "name": "stderr",
          "text": [
            "\r 16%|█▌        | 16/100 [02:34<13:10,  9.41s/it]"
          ]
        },
        {
          "output_type": "stream",
          "name": "stdout",
          "text": [
            "epoch 15|train loss 0.4082585275173187 | test_loss 0.4862426519393921| test_acc 83.14696485623003\n",
            "Looked at 0/ 60000 samples\n",
            "Looked at 12800/ 60000 samples\n",
            "Looked at 25600/ 60000 samples\n",
            "Looked at 38400/ 60000 samples\n",
            "Looked at 51200/ 60000 samples\n"
          ]
        },
        {
          "output_type": "stream",
          "name": "stderr",
          "text": [
            "\r 17%|█▋        | 17/100 [02:43<12:59,  9.39s/it]"
          ]
        },
        {
          "output_type": "stream",
          "name": "stdout",
          "text": [
            "epoch 16|train loss 0.40574902296066284 | test_loss 0.4756714105606079| test_acc 83.37659744408946\n",
            "Looked at 0/ 60000 samples\n",
            "Looked at 12800/ 60000 samples\n",
            "Looked at 25600/ 60000 samples\n",
            "Looked at 38400/ 60000 samples\n",
            "Looked at 51200/ 60000 samples\n"
          ]
        },
        {
          "output_type": "stream",
          "name": "stderr",
          "text": [
            "\r 18%|█▊        | 18/100 [02:53<12:42,  9.30s/it]"
          ]
        },
        {
          "output_type": "stream",
          "name": "stdout",
          "text": [
            "epoch 17|train loss 0.40520769357681274 | test_loss 0.5011674761772156| test_acc 82.61781150159744\n",
            "Looked at 0/ 60000 samples\n",
            "Looked at 12800/ 60000 samples\n",
            "Looked at 25600/ 60000 samples\n",
            "Looked at 38400/ 60000 samples\n",
            "Looked at 51200/ 60000 samples\n"
          ]
        },
        {
          "output_type": "stream",
          "name": "stderr",
          "text": [
            "\r 19%|█▉        | 19/100 [03:02<12:38,  9.37s/it]"
          ]
        },
        {
          "output_type": "stream",
          "name": "stdout",
          "text": [
            "epoch 18|train loss 0.4044541120529175 | test_loss 0.4702298641204834| test_acc 83.37659744408946\n",
            "Looked at 0/ 60000 samples\n",
            "Looked at 12800/ 60000 samples\n",
            "Looked at 25600/ 60000 samples\n",
            "Looked at 38400/ 60000 samples\n",
            "Looked at 51200/ 60000 samples\n"
          ]
        },
        {
          "output_type": "stream",
          "name": "stderr",
          "text": [
            "\r 20%|██        | 20/100 [03:12<12:44,  9.55s/it]"
          ]
        },
        {
          "output_type": "stream",
          "name": "stdout",
          "text": [
            "epoch 19|train loss 0.40299108624458313 | test_loss 0.4610028862953186| test_acc 83.89576677316293\n",
            "Looked at 0/ 60000 samples\n",
            "Looked at 12800/ 60000 samples\n",
            "Looked at 25600/ 60000 samples\n",
            "Looked at 38400/ 60000 samples\n",
            "Looked at 51200/ 60000 samples\n"
          ]
        },
        {
          "output_type": "stream",
          "name": "stderr",
          "text": [
            "\r 21%|██        | 21/100 [03:21<12:29,  9.49s/it]"
          ]
        },
        {
          "output_type": "stream",
          "name": "stdout",
          "text": [
            "epoch 20|train loss 0.401134192943573 | test_loss 0.4821503758430481| test_acc 83.67611821086263\n",
            "Looked at 0/ 60000 samples\n",
            "Looked at 12800/ 60000 samples\n",
            "Looked at 25600/ 60000 samples\n",
            "Looked at 38400/ 60000 samples\n",
            "Looked at 51200/ 60000 samples\n"
          ]
        },
        {
          "output_type": "stream",
          "name": "stderr",
          "text": [
            "\r 22%|██▏       | 22/100 [03:31<12:29,  9.61s/it]"
          ]
        },
        {
          "output_type": "stream",
          "name": "stdout",
          "text": [
            "epoch 21|train loss 0.40013816952705383 | test_loss 0.47887301445007324| test_acc 83.69608626198082\n",
            "Looked at 0/ 60000 samples\n",
            "Looked at 12800/ 60000 samples\n",
            "Looked at 25600/ 60000 samples\n",
            "Looked at 38400/ 60000 samples\n",
            "Looked at 51200/ 60000 samples\n"
          ]
        },
        {
          "output_type": "stream",
          "name": "stderr",
          "text": [
            "\r 23%|██▎       | 23/100 [03:41<12:13,  9.52s/it]"
          ]
        },
        {
          "output_type": "stream",
          "name": "stdout",
          "text": [
            "epoch 22|train loss 0.40140560269355774 | test_loss 0.45166367292404175| test_acc 84.23522364217253\n",
            "Looked at 0/ 60000 samples\n",
            "Looked at 12800/ 60000 samples\n",
            "Looked at 25600/ 60000 samples\n",
            "Looked at 38400/ 60000 samples\n",
            "Looked at 51200/ 60000 samples\n"
          ]
        },
        {
          "output_type": "stream",
          "name": "stderr",
          "text": [
            "\r 24%|██▍       | 24/100 [03:50<12:08,  9.58s/it]"
          ]
        },
        {
          "output_type": "stream",
          "name": "stdout",
          "text": [
            "epoch 23|train loss 0.400500625371933 | test_loss 0.45801985263824463| test_acc 83.49640575079871\n",
            "Looked at 0/ 60000 samples\n",
            "Looked at 12800/ 60000 samples\n",
            "Looked at 25600/ 60000 samples\n",
            "Looked at 38400/ 60000 samples\n",
            "Looked at 51200/ 60000 samples\n"
          ]
        },
        {
          "output_type": "stream",
          "name": "stderr",
          "text": [
            "\r 25%|██▌       | 25/100 [04:00<11:57,  9.56s/it]"
          ]
        },
        {
          "output_type": "stream",
          "name": "stdout",
          "text": [
            "epoch 24|train loss 0.39945006370544434 | test_loss 0.4682551920413971| test_acc 83.8258785942492\n",
            "Looked at 0/ 60000 samples\n",
            "Looked at 12800/ 60000 samples\n",
            "Looked at 25600/ 60000 samples\n",
            "Looked at 38400/ 60000 samples\n",
            "Looked at 51200/ 60000 samples\n"
          ]
        },
        {
          "output_type": "stream",
          "name": "stderr",
          "text": [
            "\r 26%|██▌       | 26/100 [04:09<11:46,  9.55s/it]"
          ]
        },
        {
          "output_type": "stream",
          "name": "stdout",
          "text": [
            "epoch 25|train loss 0.3979492485523224 | test_loss 0.4623469114303589| test_acc 83.8158945686901\n",
            "Looked at 0/ 60000 samples\n",
            "Looked at 12800/ 60000 samples\n",
            "Looked at 25600/ 60000 samples\n",
            "Looked at 38400/ 60000 samples\n",
            "Looked at 51200/ 60000 samples\n"
          ]
        },
        {
          "output_type": "stream",
          "name": "stderr",
          "text": [
            "\r 27%|██▋       | 27/100 [04:19<11:43,  9.64s/it]"
          ]
        },
        {
          "output_type": "stream",
          "name": "stdout",
          "text": [
            "epoch 26|train loss 0.39820900559425354 | test_loss 0.4550366997718811| test_acc 84.0055910543131\n",
            "Looked at 0/ 60000 samples\n",
            "Looked at 12800/ 60000 samples\n",
            "Looked at 25600/ 60000 samples\n",
            "Looked at 38400/ 60000 samples\n",
            "Looked at 51200/ 60000 samples\n"
          ]
        },
        {
          "output_type": "stream",
          "name": "stderr",
          "text": [
            "\r 28%|██▊       | 28/100 [04:28<11:22,  9.48s/it]"
          ]
        },
        {
          "output_type": "stream",
          "name": "stdout",
          "text": [
            "epoch 27|train loss 0.3972305357456207 | test_loss 0.44972673058509827| test_acc 84.21525559105432\n",
            "Looked at 0/ 60000 samples\n",
            "Looked at 12800/ 60000 samples\n",
            "Looked at 25600/ 60000 samples\n",
            "Looked at 38400/ 60000 samples\n",
            "Looked at 51200/ 60000 samples\n"
          ]
        },
        {
          "output_type": "stream",
          "name": "stderr",
          "text": [
            "\r 29%|██▉       | 29/100 [04:38<11:10,  9.44s/it]"
          ]
        },
        {
          "output_type": "stream",
          "name": "stdout",
          "text": [
            "epoch 28|train loss 0.39622071385383606 | test_loss 0.47771403193473816| test_acc 83.22683706070288\n",
            "Looked at 0/ 60000 samples\n",
            "Looked at 12800/ 60000 samples\n",
            "Looked at 25600/ 60000 samples\n",
            "Looked at 38400/ 60000 samples\n",
            "Looked at 51200/ 60000 samples\n"
          ]
        },
        {
          "output_type": "stream",
          "name": "stderr",
          "text": [
            "\r 30%|███       | 30/100 [04:47<11:01,  9.45s/it]"
          ]
        },
        {
          "output_type": "stream",
          "name": "stdout",
          "text": [
            "epoch 29|train loss 0.3968106806278229 | test_loss 0.4594694972038269| test_acc 83.8158945686901\n",
            "Looked at 0/ 60000 samples\n",
            "Looked at 12800/ 60000 samples\n",
            "Looked at 25600/ 60000 samples\n",
            "Looked at 38400/ 60000 samples\n",
            "Looked at 51200/ 60000 samples\n"
          ]
        },
        {
          "output_type": "stream",
          "name": "stderr",
          "text": [
            "\r 31%|███       | 31/100 [04:56<10:49,  9.42s/it]"
          ]
        },
        {
          "output_type": "stream",
          "name": "stdout",
          "text": [
            "epoch 30|train loss 0.3956136107444763 | test_loss 0.4897926449775696| test_acc 83.70607028753993\n",
            "Looked at 0/ 60000 samples\n",
            "Looked at 12800/ 60000 samples\n",
            "Looked at 25600/ 60000 samples\n",
            "Looked at 38400/ 60000 samples\n",
            "Looked at 51200/ 60000 samples\n"
          ]
        },
        {
          "output_type": "stream",
          "name": "stderr",
          "text": [
            "\r 32%|███▏      | 32/100 [05:06<10:34,  9.33s/it]"
          ]
        },
        {
          "output_type": "stream",
          "name": "stdout",
          "text": [
            "epoch 31|train loss 0.39551863074302673 | test_loss 0.46058836579322815| test_acc 83.85583067092652\n",
            "Looked at 0/ 60000 samples\n",
            "Looked at 12800/ 60000 samples\n",
            "Looked at 25600/ 60000 samples\n",
            "Looked at 38400/ 60000 samples\n",
            "Looked at 51200/ 60000 samples\n"
          ]
        },
        {
          "output_type": "stream",
          "name": "stderr",
          "text": [
            "\r 33%|███▎      | 33/100 [05:15<10:23,  9.30s/it]"
          ]
        },
        {
          "output_type": "stream",
          "name": "stdout",
          "text": [
            "epoch 32|train loss 0.39386165142059326 | test_loss 0.4623571038246155| test_acc 83.93570287539936\n",
            "Looked at 0/ 60000 samples\n",
            "Looked at 12800/ 60000 samples\n",
            "Looked at 25600/ 60000 samples\n",
            "Looked at 38400/ 60000 samples\n",
            "Looked at 51200/ 60000 samples\n"
          ]
        },
        {
          "output_type": "stream",
          "name": "stderr",
          "text": [
            "\r 34%|███▍      | 34/100 [05:24<10:14,  9.30s/it]"
          ]
        },
        {
          "output_type": "stream",
          "name": "stdout",
          "text": [
            "epoch 33|train loss 0.39501693844795227 | test_loss 0.4833088219165802| test_acc 82.94728434504792\n",
            "Looked at 0/ 60000 samples\n",
            "Looked at 12800/ 60000 samples\n",
            "Looked at 25600/ 60000 samples\n",
            "Looked at 38400/ 60000 samples\n",
            "Looked at 51200/ 60000 samples\n"
          ]
        },
        {
          "output_type": "stream",
          "name": "stderr",
          "text": [
            "\r 35%|███▌      | 35/100 [05:34<10:08,  9.36s/it]"
          ]
        },
        {
          "output_type": "stream",
          "name": "stdout",
          "text": [
            "epoch 34|train loss 0.3941463530063629 | test_loss 0.5191742777824402| test_acc 82.14856230031948\n",
            "Looked at 0/ 60000 samples\n",
            "Looked at 12800/ 60000 samples\n",
            "Looked at 25600/ 60000 samples\n",
            "Looked at 38400/ 60000 samples\n",
            "Looked at 51200/ 60000 samples\n"
          ]
        },
        {
          "output_type": "stream",
          "name": "stderr",
          "text": [
            "\r 36%|███▌      | 36/100 [05:43<09:57,  9.33s/it]"
          ]
        },
        {
          "output_type": "stream",
          "name": "stdout",
          "text": [
            "epoch 35|train loss 0.3937196731567383 | test_loss 0.4659271240234375| test_acc 83.84584664536742\n",
            "Looked at 0/ 60000 samples\n",
            "Looked at 12800/ 60000 samples\n",
            "Looked at 25600/ 60000 samples\n",
            "Looked at 38400/ 60000 samples\n",
            "Looked at 51200/ 60000 samples\n"
          ]
        },
        {
          "output_type": "stream",
          "name": "stderr",
          "text": [
            "\r 37%|███▋      | 37/100 [05:52<09:42,  9.24s/it]"
          ]
        },
        {
          "output_type": "stream",
          "name": "stdout",
          "text": [
            "epoch 36|train loss 0.3932604193687439 | test_loss 0.4842422902584076| test_acc 83.09704472843451\n",
            "Looked at 0/ 60000 samples\n",
            "Looked at 12800/ 60000 samples\n",
            "Looked at 25600/ 60000 samples\n",
            "Looked at 38400/ 60000 samples\n",
            "Looked at 51200/ 60000 samples\n"
          ]
        },
        {
          "output_type": "stream",
          "name": "stderr",
          "text": [
            "\r 38%|███▊      | 38/100 [06:01<09:36,  9.30s/it]"
          ]
        },
        {
          "output_type": "stream",
          "name": "stdout",
          "text": [
            "epoch 37|train loss 0.3915562927722931 | test_loss 0.4938074052333832| test_acc 82.74760383386581\n",
            "Looked at 0/ 60000 samples\n",
            "Looked at 12800/ 60000 samples\n",
            "Looked at 25600/ 60000 samples\n",
            "Looked at 38400/ 60000 samples\n",
            "Looked at 51200/ 60000 samples\n"
          ]
        },
        {
          "output_type": "stream",
          "name": "stderr",
          "text": [
            "\r 39%|███▉      | 39/100 [06:11<09:32,  9.38s/it]"
          ]
        },
        {
          "output_type": "stream",
          "name": "stdout",
          "text": [
            "epoch 38|train loss 0.3920830488204956 | test_loss 0.45384451746940613| test_acc 84.05551118210863\n",
            "Looked at 0/ 60000 samples\n",
            "Looked at 12800/ 60000 samples\n",
            "Looked at 25600/ 60000 samples\n",
            "Looked at 38400/ 60000 samples\n",
            "Looked at 51200/ 60000 samples\n"
          ]
        },
        {
          "output_type": "stream",
          "name": "stderr",
          "text": [
            "\r 40%|████      | 40/100 [06:20<09:23,  9.39s/it]"
          ]
        },
        {
          "output_type": "stream",
          "name": "stdout",
          "text": [
            "epoch 39|train loss 0.39190155267715454 | test_loss 0.4648994207382202| test_acc 83.38658146964856\n",
            "Looked at 0/ 60000 samples\n",
            "Looked at 12800/ 60000 samples\n",
            "Looked at 25600/ 60000 samples\n",
            "Looked at 38400/ 60000 samples\n",
            "Looked at 51200/ 60000 samples\n"
          ]
        },
        {
          "output_type": "stream",
          "name": "stderr",
          "text": [
            "\r 41%|████      | 41/100 [06:30<09:11,  9.35s/it]"
          ]
        },
        {
          "output_type": "stream",
          "name": "stdout",
          "text": [
            "epoch 40|train loss 0.3920431137084961 | test_loss 0.45383933186531067| test_acc 83.94568690095846\n",
            "Looked at 0/ 60000 samples\n",
            "Looked at 12800/ 60000 samples\n",
            "Looked at 25600/ 60000 samples\n",
            "Looked at 38400/ 60000 samples\n",
            "Looked at 51200/ 60000 samples\n"
          ]
        },
        {
          "output_type": "stream",
          "name": "stderr",
          "text": [
            "\r 42%|████▏     | 42/100 [06:39<08:56,  9.24s/it]"
          ]
        },
        {
          "output_type": "stream",
          "name": "stdout",
          "text": [
            "epoch 41|train loss 0.39164596796035767 | test_loss 0.4811725616455078| test_acc 83.54632587859425\n",
            "Looked at 0/ 60000 samples\n",
            "Looked at 12800/ 60000 samples\n",
            "Looked at 25600/ 60000 samples\n",
            "Looked at 38400/ 60000 samples\n",
            "Looked at 51200/ 60000 samples\n"
          ]
        },
        {
          "output_type": "stream",
          "name": "stderr",
          "text": [
            "\r 43%|████▎     | 43/100 [06:48<08:47,  9.26s/it]"
          ]
        },
        {
          "output_type": "stream",
          "name": "stdout",
          "text": [
            "epoch 42|train loss 0.38962095975875854 | test_loss 0.4538958966732025| test_acc 83.94568690095846\n",
            "Looked at 0/ 60000 samples\n",
            "Looked at 12800/ 60000 samples\n",
            "Looked at 25600/ 60000 samples\n",
            "Looked at 38400/ 60000 samples\n",
            "Looked at 51200/ 60000 samples\n"
          ]
        },
        {
          "output_type": "stream",
          "name": "stderr",
          "text": [
            "\r 44%|████▍     | 44/100 [06:57<08:44,  9.37s/it]"
          ]
        },
        {
          "output_type": "stream",
          "name": "stdout",
          "text": [
            "epoch 43|train loss 0.39163362979888916 | test_loss 0.4782152771949768| test_acc 82.96725239616613\n",
            "Looked at 0/ 60000 samples\n",
            "Looked at 12800/ 60000 samples\n",
            "Looked at 25600/ 60000 samples\n",
            "Looked at 38400/ 60000 samples\n",
            "Looked at 51200/ 60000 samples\n"
          ]
        },
        {
          "output_type": "stream",
          "name": "stderr",
          "text": [
            "\r 45%|████▌     | 45/100 [07:07<08:35,  9.38s/it]"
          ]
        },
        {
          "output_type": "stream",
          "name": "stdout",
          "text": [
            "epoch 44|train loss 0.38806819915771484 | test_loss 0.5246580839157104| test_acc 82.33825878594249\n",
            "Looked at 0/ 60000 samples\n",
            "Looked at 12800/ 60000 samples\n",
            "Looked at 25600/ 60000 samples\n",
            "Looked at 38400/ 60000 samples\n",
            "Looked at 51200/ 60000 samples\n"
          ]
        },
        {
          "output_type": "stream",
          "name": "stderr",
          "text": [
            "\r 46%|████▌     | 46/100 [07:16<08:27,  9.40s/it]"
          ]
        },
        {
          "output_type": "stream",
          "name": "stdout",
          "text": [
            "epoch 45|train loss 0.3896930515766144 | test_loss 0.47564879059791565| test_acc 83.65615015974441\n",
            "Looked at 0/ 60000 samples\n",
            "Looked at 12800/ 60000 samples\n",
            "Looked at 25600/ 60000 samples\n",
            "Looked at 38400/ 60000 samples\n",
            "Looked at 51200/ 60000 samples\n"
          ]
        },
        {
          "output_type": "stream",
          "name": "stderr",
          "text": [
            "\r 47%|████▋     | 47/100 [07:26<08:16,  9.36s/it]"
          ]
        },
        {
          "output_type": "stream",
          "name": "stdout",
          "text": [
            "epoch 46|train loss 0.3902314305305481 | test_loss 0.4917390048503876| test_acc 82.68769968051119\n",
            "Looked at 0/ 60000 samples\n",
            "Looked at 12800/ 60000 samples\n",
            "Looked at 25600/ 60000 samples\n",
            "Looked at 38400/ 60000 samples\n",
            "Looked at 51200/ 60000 samples\n"
          ]
        },
        {
          "output_type": "stream",
          "name": "stderr",
          "text": [
            "\r 48%|████▊     | 48/100 [07:35<08:12,  9.47s/it]"
          ]
        },
        {
          "output_type": "stream",
          "name": "stdout",
          "text": [
            "epoch 47|train loss 0.3893369138240814 | test_loss 0.5014972686767578| test_acc 82.97723642172524\n",
            "Looked at 0/ 60000 samples\n",
            "Looked at 12800/ 60000 samples\n",
            "Looked at 25600/ 60000 samples\n",
            "Looked at 38400/ 60000 samples\n",
            "Looked at 51200/ 60000 samples\n"
          ]
        },
        {
          "output_type": "stream",
          "name": "stderr",
          "text": [
            "\r 49%|████▉     | 49/100 [07:45<08:02,  9.45s/it]"
          ]
        },
        {
          "output_type": "stream",
          "name": "stdout",
          "text": [
            "epoch 48|train loss 0.38941875100135803 | test_loss 0.4860404133796692| test_acc 83.32667731629392\n",
            "Looked at 0/ 60000 samples\n",
            "Looked at 12800/ 60000 samples\n",
            "Looked at 25600/ 60000 samples\n",
            "Looked at 38400/ 60000 samples\n",
            "Looked at 51200/ 60000 samples\n"
          ]
        },
        {
          "output_type": "stream",
          "name": "stderr",
          "text": [
            "\r 50%|█████     | 50/100 [07:54<07:53,  9.47s/it]"
          ]
        },
        {
          "output_type": "stream",
          "name": "stdout",
          "text": [
            "epoch 49|train loss 0.3883141875267029 | test_loss 0.473878413438797| test_acc 83.77595846645367\n",
            "Looked at 0/ 60000 samples\n",
            "Looked at 12800/ 60000 samples\n",
            "Looked at 25600/ 60000 samples\n",
            "Looked at 38400/ 60000 samples\n",
            "Looked at 51200/ 60000 samples\n"
          ]
        },
        {
          "output_type": "stream",
          "name": "stderr",
          "text": [
            "\r 51%|█████     | 51/100 [08:03<07:38,  9.37s/it]"
          ]
        },
        {
          "output_type": "stream",
          "name": "stdout",
          "text": [
            "epoch 50|train loss 0.3878060579299927 | test_loss 0.4773983061313629| test_acc 83.4564696485623\n",
            "Looked at 0/ 60000 samples\n",
            "Looked at 12800/ 60000 samples\n",
            "Looked at 25600/ 60000 samples\n",
            "Looked at 38400/ 60000 samples\n",
            "Looked at 51200/ 60000 samples\n"
          ]
        },
        {
          "output_type": "stream",
          "name": "stderr",
          "text": [
            "\r 52%|█████▏    | 52/100 [08:13<07:29,  9.37s/it]"
          ]
        },
        {
          "output_type": "stream",
          "name": "stdout",
          "text": [
            "epoch 51|train loss 0.3877392113208771 | test_loss 0.47022679448127747| test_acc 83.50638977635782\n",
            "Looked at 0/ 60000 samples\n",
            "Looked at 12800/ 60000 samples\n",
            "Looked at 25600/ 60000 samples\n",
            "Looked at 38400/ 60000 samples\n",
            "Looked at 51200/ 60000 samples\n"
          ]
        },
        {
          "output_type": "stream",
          "name": "stderr",
          "text": [
            "\r 53%|█████▎    | 53/100 [08:22<07:18,  9.32s/it]"
          ]
        },
        {
          "output_type": "stream",
          "name": "stdout",
          "text": [
            "epoch 52|train loss 0.3877560496330261 | test_loss 0.4735437035560608| test_acc 83.65615015974441\n",
            "Looked at 0/ 60000 samples\n",
            "Looked at 12800/ 60000 samples\n",
            "Looked at 25600/ 60000 samples\n",
            "Looked at 38400/ 60000 samples\n",
            "Looked at 51200/ 60000 samples\n"
          ]
        },
        {
          "output_type": "stream",
          "name": "stderr",
          "text": [
            "\r 54%|█████▍    | 54/100 [08:31<07:09,  9.33s/it]"
          ]
        },
        {
          "output_type": "stream",
          "name": "stdout",
          "text": [
            "epoch 53|train loss 0.3869735896587372 | test_loss 0.46565914154052734| test_acc 83.8158945686901\n",
            "Looked at 0/ 60000 samples\n",
            "Looked at 12800/ 60000 samples\n",
            "Looked at 25600/ 60000 samples\n",
            "Looked at 38400/ 60000 samples\n",
            "Looked at 51200/ 60000 samples\n"
          ]
        },
        {
          "output_type": "stream",
          "name": "stderr",
          "text": [
            "\r 55%|█████▌    | 55/100 [08:41<06:59,  9.31s/it]"
          ]
        },
        {
          "output_type": "stream",
          "name": "stdout",
          "text": [
            "epoch 54|train loss 0.38772767782211304 | test_loss 0.47229117155075073| test_acc 83.79592651757189\n",
            "Looked at 0/ 60000 samples\n",
            "Looked at 12800/ 60000 samples\n",
            "Looked at 25600/ 60000 samples\n",
            "Looked at 38400/ 60000 samples\n",
            "Looked at 51200/ 60000 samples\n"
          ]
        },
        {
          "output_type": "stream",
          "name": "stderr",
          "text": [
            "\r 56%|█████▌    | 56/100 [08:50<06:48,  9.28s/it]"
          ]
        },
        {
          "output_type": "stream",
          "name": "stdout",
          "text": [
            "epoch 55|train loss 0.38735881447792053 | test_loss 0.47021931409835815| test_acc 83.8258785942492\n",
            "Looked at 0/ 60000 samples\n",
            "Looked at 12800/ 60000 samples\n",
            "Looked at 25600/ 60000 samples\n",
            "Looked at 38400/ 60000 samples\n",
            "Looked at 51200/ 60000 samples\n"
          ]
        },
        {
          "output_type": "stream",
          "name": "stderr",
          "text": [
            "\r 57%|█████▋    | 57/100 [08:59<06:38,  9.26s/it]"
          ]
        },
        {
          "output_type": "stream",
          "name": "stdout",
          "text": [
            "epoch 56|train loss 0.3883001506328583 | test_loss 0.4654417335987091| test_acc 83.66613418530352\n",
            "Looked at 0/ 60000 samples\n",
            "Looked at 12800/ 60000 samples\n",
            "Looked at 25600/ 60000 samples\n",
            "Looked at 38400/ 60000 samples\n",
            "Looked at 51200/ 60000 samples\n"
          ]
        },
        {
          "output_type": "stream",
          "name": "stderr",
          "text": [
            "\r 58%|█████▊    | 58/100 [09:09<06:32,  9.34s/it]"
          ]
        },
        {
          "output_type": "stream",
          "name": "stdout",
          "text": [
            "epoch 57|train loss 0.3871849477291107 | test_loss 0.4756588637828827| test_acc 83.32667731629392\n",
            "Looked at 0/ 60000 samples\n",
            "Looked at 12800/ 60000 samples\n",
            "Looked at 25600/ 60000 samples\n",
            "Looked at 38400/ 60000 samples\n",
            "Looked at 51200/ 60000 samples\n"
          ]
        },
        {
          "output_type": "stream",
          "name": "stderr",
          "text": [
            "\r 59%|█████▉    | 59/100 [09:18<06:25,  9.40s/it]"
          ]
        },
        {
          "output_type": "stream",
          "name": "stdout",
          "text": [
            "epoch 58|train loss 0.3868105113506317 | test_loss 0.49313685297966003| test_acc 83.03714057507987\n",
            "Looked at 0/ 60000 samples\n",
            "Looked at 12800/ 60000 samples\n",
            "Looked at 25600/ 60000 samples\n",
            "Looked at 38400/ 60000 samples\n",
            "Looked at 51200/ 60000 samples\n"
          ]
        },
        {
          "output_type": "stream",
          "name": "stderr",
          "text": [
            "\r 60%|██████    | 60/100 [09:27<06:15,  9.39s/it]"
          ]
        },
        {
          "output_type": "stream",
          "name": "stdout",
          "text": [
            "epoch 59|train loss 0.3875057101249695 | test_loss 0.46998000144958496| test_acc 83.8158945686901\n",
            "Looked at 0/ 60000 samples\n",
            "Looked at 12800/ 60000 samples\n",
            "Looked at 25600/ 60000 samples\n",
            "Looked at 38400/ 60000 samples\n",
            "Looked at 51200/ 60000 samples\n"
          ]
        },
        {
          "output_type": "stream",
          "name": "stderr",
          "text": [
            "\r 61%|██████    | 61/100 [09:37<06:02,  9.30s/it]"
          ]
        },
        {
          "output_type": "stream",
          "name": "stdout",
          "text": [
            "epoch 60|train loss 0.38638991117477417 | test_loss 0.48866501450538635| test_acc 83.4564696485623\n",
            "Looked at 0/ 60000 samples\n",
            "Looked at 12800/ 60000 samples\n",
            "Looked at 25600/ 60000 samples\n",
            "Looked at 38400/ 60000 samples\n",
            "Looked at 51200/ 60000 samples\n"
          ]
        },
        {
          "output_type": "stream",
          "name": "stderr",
          "text": [
            "\r 62%|██████▏   | 62/100 [09:46<05:52,  9.27s/it]"
          ]
        },
        {
          "output_type": "stream",
          "name": "stdout",
          "text": [
            "epoch 61|train loss 0.385941743850708 | test_loss 0.4875023066997528| test_acc 83.39656549520767\n",
            "Looked at 0/ 60000 samples\n",
            "Looked at 12800/ 60000 samples\n",
            "Looked at 25600/ 60000 samples\n",
            "Looked at 38400/ 60000 samples\n",
            "Looked at 51200/ 60000 samples\n"
          ]
        },
        {
          "output_type": "stream",
          "name": "stderr",
          "text": [
            "\r 63%|██████▎   | 63/100 [09:55<05:43,  9.28s/it]"
          ]
        },
        {
          "output_type": "stream",
          "name": "stdout",
          "text": [
            "epoch 62|train loss 0.3843352198600769 | test_loss 0.46635061502456665| test_acc 83.61621405750799\n",
            "Looked at 0/ 60000 samples\n",
            "Looked at 12800/ 60000 samples\n",
            "Looked at 25600/ 60000 samples\n",
            "Looked at 38400/ 60000 samples\n",
            "Looked at 51200/ 60000 samples\n"
          ]
        },
        {
          "output_type": "stream",
          "name": "stderr",
          "text": [
            "\r 64%|██████▍   | 64/100 [10:04<05:35,  9.31s/it]"
          ]
        },
        {
          "output_type": "stream",
          "name": "stdout",
          "text": [
            "epoch 63|train loss 0.38717108964920044 | test_loss 0.4805607497692108| test_acc 83.6361821086262\n",
            "Looked at 0/ 60000 samples\n",
            "Looked at 12800/ 60000 samples\n",
            "Looked at 25600/ 60000 samples\n",
            "Looked at 38400/ 60000 samples\n",
            "Looked at 51200/ 60000 samples\n"
          ]
        },
        {
          "output_type": "stream",
          "name": "stderr",
          "text": [
            "\r 65%|██████▌   | 65/100 [10:14<05:26,  9.34s/it]"
          ]
        },
        {
          "output_type": "stream",
          "name": "stdout",
          "text": [
            "epoch 64|train loss 0.38601404428482056 | test_loss 0.5050774216651917| test_acc 82.74760383386581\n",
            "Looked at 0/ 60000 samples\n",
            "Looked at 12800/ 60000 samples\n",
            "Looked at 25600/ 60000 samples\n",
            "Looked at 38400/ 60000 samples\n",
            "Looked at 51200/ 60000 samples\n"
          ]
        },
        {
          "output_type": "stream",
          "name": "stderr",
          "text": [
            "\r 66%|██████▌   | 66/100 [10:23<05:15,  9.27s/it]"
          ]
        },
        {
          "output_type": "stream",
          "name": "stdout",
          "text": [
            "epoch 65|train loss 0.3845798969268799 | test_loss 0.4697713553905487| test_acc 83.73602236421725\n",
            "Looked at 0/ 60000 samples\n",
            "Looked at 12800/ 60000 samples\n",
            "Looked at 25600/ 60000 samples\n",
            "Looked at 38400/ 60000 samples\n",
            "Looked at 51200/ 60000 samples\n"
          ]
        },
        {
          "output_type": "stream",
          "name": "stderr",
          "text": [
            "\r 67%|██████▋   | 67/100 [10:32<05:08,  9.35s/it]"
          ]
        },
        {
          "output_type": "stream",
          "name": "stdout",
          "text": [
            "epoch 66|train loss 0.3857535421848297 | test_loss 0.4655597507953644| test_acc 84.11541533546325\n",
            "Looked at 0/ 60000 samples\n",
            "Looked at 12800/ 60000 samples\n",
            "Looked at 25600/ 60000 samples\n",
            "Looked at 38400/ 60000 samples\n",
            "Looked at 51200/ 60000 samples\n"
          ]
        },
        {
          "output_type": "stream",
          "name": "stderr",
          "text": [
            "\r 68%|██████▊   | 68/100 [10:42<04:56,  9.28s/it]"
          ]
        },
        {
          "output_type": "stream",
          "name": "stdout",
          "text": [
            "epoch 67|train loss 0.3840160667896271 | test_loss 0.4649379849433899| test_acc 83.88578274760384\n",
            "Looked at 0/ 60000 samples\n",
            "Looked at 12800/ 60000 samples\n",
            "Looked at 25600/ 60000 samples\n",
            "Looked at 38400/ 60000 samples\n",
            "Looked at 51200/ 60000 samples\n"
          ]
        },
        {
          "output_type": "stream",
          "name": "stderr",
          "text": [
            "\r 69%|██████▉   | 69/100 [10:51<04:49,  9.33s/it]"
          ]
        },
        {
          "output_type": "stream",
          "name": "stdout",
          "text": [
            "epoch 68|train loss 0.3842986524105072 | test_loss 0.4745563268661499| test_acc 83.55630990415335\n",
            "Looked at 0/ 60000 samples\n",
            "Looked at 12800/ 60000 samples\n",
            "Looked at 25600/ 60000 samples\n",
            "Looked at 38400/ 60000 samples\n",
            "Looked at 51200/ 60000 samples\n"
          ]
        },
        {
          "output_type": "stream",
          "name": "stderr",
          "text": [
            "\r 70%|███████   | 70/100 [11:00<04:38,  9.29s/it]"
          ]
        },
        {
          "output_type": "stream",
          "name": "stdout",
          "text": [
            "epoch 69|train loss 0.38637667894363403 | test_loss 0.47055473923683167| test_acc 83.36661341853035\n",
            "Looked at 0/ 60000 samples\n",
            "Looked at 12800/ 60000 samples\n",
            "Looked at 25600/ 60000 samples\n",
            "Looked at 38400/ 60000 samples\n",
            "Looked at 51200/ 60000 samples\n"
          ]
        },
        {
          "output_type": "stream",
          "name": "stderr",
          "text": [
            "\r 71%|███████   | 71/100 [11:10<04:29,  9.31s/it]"
          ]
        },
        {
          "output_type": "stream",
          "name": "stdout",
          "text": [
            "epoch 70|train loss 0.3851134479045868 | test_loss 0.4862756133079529| test_acc 83.12699680511182\n",
            "Looked at 0/ 60000 samples\n",
            "Looked at 12800/ 60000 samples\n",
            "Looked at 25600/ 60000 samples\n",
            "Looked at 38400/ 60000 samples\n",
            "Looked at 51200/ 60000 samples\n"
          ]
        },
        {
          "output_type": "stream",
          "name": "stderr",
          "text": [
            "\r 72%|███████▏  | 72/100 [11:19<04:21,  9.34s/it]"
          ]
        },
        {
          "output_type": "stream",
          "name": "stdout",
          "text": [
            "epoch 71|train loss 0.3847521245479584 | test_loss 0.47347524762153625| test_acc 83.27675718849841\n",
            "Looked at 0/ 60000 samples\n",
            "Looked at 12800/ 60000 samples\n",
            "Looked at 25600/ 60000 samples\n",
            "Looked at 38400/ 60000 samples\n",
            "Looked at 51200/ 60000 samples\n"
          ]
        },
        {
          "output_type": "stream",
          "name": "stderr",
          "text": [
            "\r 73%|███████▎  | 73/100 [11:28<04:12,  9.35s/it]"
          ]
        },
        {
          "output_type": "stream",
          "name": "stdout",
          "text": [
            "epoch 72|train loss 0.3843501806259155 | test_loss 0.48405343294143677| test_acc 83.47643769968052\n",
            "Looked at 0/ 60000 samples\n",
            "Looked at 12800/ 60000 samples\n",
            "Looked at 25600/ 60000 samples\n",
            "Looked at 38400/ 60000 samples\n",
            "Looked at 51200/ 60000 samples\n"
          ]
        },
        {
          "output_type": "stream",
          "name": "stderr",
          "text": [
            "\r 74%|███████▍  | 74/100 [11:38<04:03,  9.36s/it]"
          ]
        },
        {
          "output_type": "stream",
          "name": "stdout",
          "text": [
            "epoch 73|train loss 0.38395917415618896 | test_loss 0.4687604308128357| test_acc 84.07547923322684\n",
            "Looked at 0/ 60000 samples\n",
            "Looked at 12800/ 60000 samples\n",
            "Looked at 25600/ 60000 samples\n",
            "Looked at 38400/ 60000 samples\n",
            "Looked at 51200/ 60000 samples\n"
          ]
        },
        {
          "output_type": "stream",
          "name": "stderr",
          "text": [
            "\r 75%|███████▌  | 75/100 [11:47<03:51,  9.27s/it]"
          ]
        },
        {
          "output_type": "stream",
          "name": "stdout",
          "text": [
            "epoch 74|train loss 0.38460057973861694 | test_loss 0.4947822690010071| test_acc 82.94728434504792\n",
            "Looked at 0/ 60000 samples\n",
            "Looked at 12800/ 60000 samples\n",
            "Looked at 25600/ 60000 samples\n",
            "Looked at 38400/ 60000 samples\n",
            "Looked at 51200/ 60000 samples\n"
          ]
        },
        {
          "output_type": "stream",
          "name": "stderr",
          "text": [
            "\r 76%|███████▌  | 76/100 [11:57<03:45,  9.41s/it]"
          ]
        },
        {
          "output_type": "stream",
          "name": "stdout",
          "text": [
            "epoch 75|train loss 0.38396695256233215 | test_loss 0.4731918275356293| test_acc 83.6261980830671\n",
            "Looked at 0/ 60000 samples\n",
            "Looked at 12800/ 60000 samples\n",
            "Looked at 25600/ 60000 samples\n",
            "Looked at 38400/ 60000 samples\n",
            "Looked at 51200/ 60000 samples\n"
          ]
        },
        {
          "output_type": "stream",
          "name": "stderr",
          "text": [
            "\r 77%|███████▋  | 77/100 [12:06<03:37,  9.44s/it]"
          ]
        },
        {
          "output_type": "stream",
          "name": "stdout",
          "text": [
            "epoch 76|train loss 0.383797287940979 | test_loss 0.48785853385925293| test_acc 83.30670926517571\n",
            "Looked at 0/ 60000 samples\n",
            "Looked at 12800/ 60000 samples\n",
            "Looked at 25600/ 60000 samples\n",
            "Looked at 38400/ 60000 samples\n",
            "Looked at 51200/ 60000 samples\n"
          ]
        },
        {
          "output_type": "stream",
          "name": "stderr",
          "text": [
            "\r 78%|███████▊  | 78/100 [12:15<03:26,  9.39s/it]"
          ]
        },
        {
          "output_type": "stream",
          "name": "stdout",
          "text": [
            "epoch 77|train loss 0.382885605096817 | test_loss 0.4843381941318512| test_acc 83.70607028753993\n",
            "Looked at 0/ 60000 samples\n",
            "Looked at 12800/ 60000 samples\n",
            "Looked at 25600/ 60000 samples\n",
            "Looked at 38400/ 60000 samples\n",
            "Looked at 51200/ 60000 samples\n"
          ]
        },
        {
          "output_type": "stream",
          "name": "stderr",
          "text": [
            "\r 79%|███████▉  | 79/100 [12:25<03:15,  9.33s/it]"
          ]
        },
        {
          "output_type": "stream",
          "name": "stdout",
          "text": [
            "epoch 78|train loss 0.3846014738082886 | test_loss 0.4873265326023102| test_acc 83.02715654952077\n",
            "Looked at 0/ 60000 samples\n",
            "Looked at 12800/ 60000 samples\n",
            "Looked at 25600/ 60000 samples\n",
            "Looked at 38400/ 60000 samples\n",
            "Looked at 51200/ 60000 samples\n"
          ]
        },
        {
          "output_type": "stream",
          "name": "stderr",
          "text": [
            "\r 80%|████████  | 80/100 [12:34<03:04,  9.23s/it]"
          ]
        },
        {
          "output_type": "stream",
          "name": "stdout",
          "text": [
            "epoch 79|train loss 0.3840334117412567 | test_loss 0.5130985975265503| test_acc 82.44808306709265\n",
            "Looked at 0/ 60000 samples\n",
            "Looked at 12800/ 60000 samples\n",
            "Looked at 25600/ 60000 samples\n",
            "Looked at 38400/ 60000 samples\n",
            "Looked at 51200/ 60000 samples\n"
          ]
        },
        {
          "output_type": "stream",
          "name": "stderr",
          "text": [
            "\r 81%|████████  | 81/100 [12:43<02:55,  9.23s/it]"
          ]
        },
        {
          "output_type": "stream",
          "name": "stdout",
          "text": [
            "epoch 80|train loss 0.3812907040119171 | test_loss 0.5050421357154846| test_acc 83.24680511182109\n",
            "Looked at 0/ 60000 samples\n",
            "Looked at 12800/ 60000 samples\n",
            "Looked at 25600/ 60000 samples\n",
            "Looked at 38400/ 60000 samples\n",
            "Looked at 51200/ 60000 samples\n"
          ]
        },
        {
          "output_type": "stream",
          "name": "stderr",
          "text": [
            "\r 82%|████████▏ | 82/100 [12:52<02:46,  9.24s/it]"
          ]
        },
        {
          "output_type": "stream",
          "name": "stdout",
          "text": [
            "epoch 81|train loss 0.38336634635925293 | test_loss 0.5031506419181824| test_acc 82.63777955271566\n",
            "Looked at 0/ 60000 samples\n",
            "Looked at 12800/ 60000 samples\n",
            "Looked at 25600/ 60000 samples\n",
            "Looked at 38400/ 60000 samples\n",
            "Looked at 51200/ 60000 samples\n"
          ]
        },
        {
          "output_type": "stream",
          "name": "stderr",
          "text": [
            "\r 83%|████████▎ | 83/100 [13:02<02:38,  9.32s/it]"
          ]
        },
        {
          "output_type": "stream",
          "name": "stdout",
          "text": [
            "epoch 82|train loss 0.38177162408828735 | test_loss 0.5139286518096924| test_acc 81.54952076677316\n",
            "Looked at 0/ 60000 samples\n",
            "Looked at 12800/ 60000 samples\n",
            "Looked at 25600/ 60000 samples\n",
            "Looked at 38400/ 60000 samples\n",
            "Looked at 51200/ 60000 samples\n"
          ]
        },
        {
          "output_type": "stream",
          "name": "stderr",
          "text": [
            "\r 84%|████████▍ | 84/100 [13:11<02:30,  9.41s/it]"
          ]
        },
        {
          "output_type": "stream",
          "name": "stdout",
          "text": [
            "epoch 83|train loss 0.38281556963920593 | test_loss 0.4668274521827698| test_acc 83.98562300319489\n",
            "Looked at 0/ 60000 samples\n",
            "Looked at 12800/ 60000 samples\n",
            "Looked at 25600/ 60000 samples\n",
            "Looked at 38400/ 60000 samples\n",
            "Looked at 51200/ 60000 samples\n"
          ]
        },
        {
          "output_type": "stream",
          "name": "stderr",
          "text": [
            "\r 85%|████████▌ | 85/100 [13:20<02:19,  9.30s/it]"
          ]
        },
        {
          "output_type": "stream",
          "name": "stdout",
          "text": [
            "epoch 84|train loss 0.38287922739982605 | test_loss 0.49301791191101074| test_acc 82.76757188498402\n",
            "Looked at 0/ 60000 samples\n",
            "Looked at 12800/ 60000 samples\n",
            "Looked at 25600/ 60000 samples\n",
            "Looked at 38400/ 60000 samples\n",
            "Looked at 51200/ 60000 samples\n"
          ]
        },
        {
          "output_type": "stream",
          "name": "stderr",
          "text": [
            "\r 86%|████████▌ | 86/100 [13:29<02:10,  9.30s/it]"
          ]
        },
        {
          "output_type": "stream",
          "name": "stdout",
          "text": [
            "epoch 85|train loss 0.3829631507396698 | test_loss 0.49488556385040283| test_acc 83.23682108626198\n",
            "Looked at 0/ 60000 samples\n",
            "Looked at 12800/ 60000 samples\n",
            "Looked at 25600/ 60000 samples\n",
            "Looked at 38400/ 60000 samples\n",
            "Looked at 51200/ 60000 samples\n"
          ]
        },
        {
          "output_type": "stream",
          "name": "stderr",
          "text": [
            "\r 87%|████████▋ | 87/100 [13:39<02:01,  9.31s/it]"
          ]
        },
        {
          "output_type": "stream",
          "name": "stdout",
          "text": [
            "epoch 86|train loss 0.3806206285953522 | test_loss 0.49097689986228943| test_acc 82.76757188498402\n",
            "Looked at 0/ 60000 samples\n",
            "Looked at 12800/ 60000 samples\n",
            "Looked at 25600/ 60000 samples\n",
            "Looked at 38400/ 60000 samples\n",
            "Looked at 51200/ 60000 samples\n"
          ]
        },
        {
          "output_type": "stream",
          "name": "stderr",
          "text": [
            "\r 88%|████████▊ | 88/100 [13:48<01:51,  9.27s/it]"
          ]
        },
        {
          "output_type": "stream",
          "name": "stdout",
          "text": [
            "epoch 87|train loss 0.38104167580604553 | test_loss 0.503803551197052| test_acc 82.87739616613419\n",
            "Looked at 0/ 60000 samples\n",
            "Looked at 12800/ 60000 samples\n",
            "Looked at 25600/ 60000 samples\n",
            "Looked at 38400/ 60000 samples\n",
            "Looked at 51200/ 60000 samples\n"
          ]
        },
        {
          "output_type": "stream",
          "name": "stderr",
          "text": [
            "\r 89%|████████▉ | 89/100 [13:57<01:41,  9.21s/it]"
          ]
        },
        {
          "output_type": "stream",
          "name": "stdout",
          "text": [
            "epoch 88|train loss 0.3828325867652893 | test_loss 0.48370370268821716| test_acc 83.37659744408946\n",
            "Looked at 0/ 60000 samples\n",
            "Looked at 12800/ 60000 samples\n",
            "Looked at 25600/ 60000 samples\n",
            "Looked at 38400/ 60000 samples\n",
            "Looked at 51200/ 60000 samples\n"
          ]
        },
        {
          "output_type": "stream",
          "name": "stderr",
          "text": [
            "\r 90%|█████████ | 90/100 [14:07<01:33,  9.32s/it]"
          ]
        },
        {
          "output_type": "stream",
          "name": "stdout",
          "text": [
            "epoch 89|train loss 0.3822382092475891 | test_loss 0.4964088797569275| test_acc 82.26837060702876\n",
            "Looked at 0/ 60000 samples\n",
            "Looked at 12800/ 60000 samples\n",
            "Looked at 25600/ 60000 samples\n",
            "Looked at 38400/ 60000 samples\n",
            "Looked at 51200/ 60000 samples\n"
          ]
        },
        {
          "output_type": "stream",
          "name": "stderr",
          "text": [
            "\r 91%|█████████ | 91/100 [14:16<01:23,  9.30s/it]"
          ]
        },
        {
          "output_type": "stream",
          "name": "stdout",
          "text": [
            "epoch 90|train loss 0.3826053738594055 | test_loss 0.5214918851852417| test_acc 81.34984025559105\n",
            "Looked at 0/ 60000 samples\n",
            "Looked at 12800/ 60000 samples\n",
            "Looked at 25600/ 60000 samples\n",
            "Looked at 38400/ 60000 samples\n",
            "Looked at 51200/ 60000 samples\n"
          ]
        },
        {
          "output_type": "stream",
          "name": "stderr",
          "text": [
            "\r 92%|█████████▏| 92/100 [14:25<01:14,  9.29s/it]"
          ]
        },
        {
          "output_type": "stream",
          "name": "stdout",
          "text": [
            "epoch 91|train loss 0.3830142021179199 | test_loss 0.5088731050491333| test_acc 81.59944089456869\n",
            "Looked at 0/ 60000 samples\n",
            "Looked at 12800/ 60000 samples\n",
            "Looked at 25600/ 60000 samples\n",
            "Looked at 38400/ 60000 samples\n",
            "Looked at 51200/ 60000 samples\n"
          ]
        },
        {
          "output_type": "stream",
          "name": "stderr",
          "text": [
            "\r 93%|█████████▎| 93/100 [14:35<01:05,  9.34s/it]"
          ]
        },
        {
          "output_type": "stream",
          "name": "stdout",
          "text": [
            "epoch 92|train loss 0.38287150859832764 | test_loss 0.5065000653266907| test_acc 82.99720447284345\n",
            "Looked at 0/ 60000 samples\n",
            "Looked at 12800/ 60000 samples\n",
            "Looked at 25600/ 60000 samples\n",
            "Looked at 38400/ 60000 samples\n",
            "Looked at 51200/ 60000 samples\n"
          ]
        },
        {
          "output_type": "stream",
          "name": "stderr",
          "text": [
            "\r 94%|█████████▍| 94/100 [14:44<00:55,  9.26s/it]"
          ]
        },
        {
          "output_type": "stream",
          "name": "stdout",
          "text": [
            "epoch 93|train loss 0.3820004165172577 | test_loss 0.49019911885261536| test_acc 83.39656549520767\n",
            "Looked at 0/ 60000 samples\n",
            "Looked at 12800/ 60000 samples\n",
            "Looked at 25600/ 60000 samples\n",
            "Looked at 38400/ 60000 samples\n",
            "Looked at 51200/ 60000 samples\n"
          ]
        },
        {
          "output_type": "stream",
          "name": "stderr",
          "text": [
            "\r 95%|█████████▌| 95/100 [14:53<00:46,  9.34s/it]"
          ]
        },
        {
          "output_type": "stream",
          "name": "stdout",
          "text": [
            "epoch 94|train loss 0.3815770745277405 | test_loss 0.4936820864677429| test_acc 82.9173322683706\n",
            "Looked at 0/ 60000 samples\n",
            "Looked at 12800/ 60000 samples\n",
            "Looked at 25600/ 60000 samples\n",
            "Looked at 38400/ 60000 samples\n",
            "Looked at 51200/ 60000 samples\n"
          ]
        },
        {
          "output_type": "stream",
          "name": "stderr",
          "text": [
            "\r 96%|█████████▌| 96/100 [15:03<00:37,  9.35s/it]"
          ]
        },
        {
          "output_type": "stream",
          "name": "stdout",
          "text": [
            "epoch 95|train loss 0.3816105127334595 | test_loss 0.48113715648651123| test_acc 83.50638977635782\n",
            "Looked at 0/ 60000 samples\n",
            "Looked at 12800/ 60000 samples\n",
            "Looked at 25600/ 60000 samples\n",
            "Looked at 38400/ 60000 samples\n",
            "Looked at 51200/ 60000 samples\n"
          ]
        },
        {
          "output_type": "stream",
          "name": "stderr",
          "text": [
            "\r 97%|█████████▋| 97/100 [15:12<00:28,  9.35s/it]"
          ]
        },
        {
          "output_type": "stream",
          "name": "stdout",
          "text": [
            "epoch 96|train loss 0.38126659393310547 | test_loss 0.48924732208251953| test_acc 83.61621405750799\n",
            "Looked at 0/ 60000 samples\n",
            "Looked at 12800/ 60000 samples\n",
            "Looked at 25600/ 60000 samples\n",
            "Looked at 38400/ 60000 samples\n",
            "Looked at 51200/ 60000 samples\n"
          ]
        },
        {
          "output_type": "stream",
          "name": "stderr",
          "text": [
            "\r 98%|█████████▊| 98/100 [15:21<00:18,  9.37s/it]"
          ]
        },
        {
          "output_type": "stream",
          "name": "stdout",
          "text": [
            "epoch 97|train loss 0.3806612193584442 | test_loss 0.47055551409721375| test_acc 83.84584664536742\n",
            "Looked at 0/ 60000 samples\n",
            "Looked at 12800/ 60000 samples\n",
            "Looked at 25600/ 60000 samples\n",
            "Looked at 38400/ 60000 samples\n",
            "Looked at 51200/ 60000 samples\n"
          ]
        },
        {
          "output_type": "stream",
          "name": "stderr",
          "text": [
            "\r 99%|█████████▉| 99/100 [15:31<00:09,  9.32s/it]"
          ]
        },
        {
          "output_type": "stream",
          "name": "stdout",
          "text": [
            "epoch 98|train loss 0.38147228956222534 | test_loss 0.49607226252555847| test_acc 83.00718849840256\n",
            "Looked at 0/ 60000 samples\n",
            "Looked at 12800/ 60000 samples\n",
            "Looked at 25600/ 60000 samples\n",
            "Looked at 38400/ 60000 samples\n",
            "Looked at 51200/ 60000 samples\n"
          ]
        },
        {
          "output_type": "stream",
          "name": "stderr",
          "text": [
            "100%|██████████| 100/100 [15:40<00:00,  9.40s/it]"
          ]
        },
        {
          "output_type": "stream",
          "name": "stdout",
          "text": [
            "epoch 99|train loss 0.380979984998703 | test_loss 0.5199794173240662| test_acc 81.9988019169329\n"
          ]
        },
        {
          "output_type": "stream",
          "name": "stderr",
          "text": [
            "\n"
          ]
        }
      ],
      "source": [
        "from tqdm import tqdm\n",
        "torch.manual_seed(42)\n",
        "#training and test loops\n",
        "epochs=100\n",
        "for epoch in tqdm(range(epochs)): #wrap it around the int for progress\n",
        "  train_loss=0\n",
        "  for batch, (x,y) in enumerate(train_dataloader):\n",
        "    model_0.train()\n",
        "    #forward pass\n",
        "    y_pred=model_0(x)\n",
        "\n",
        "    #loss\n",
        "    loss=loss_fn(y_pred,y)\n",
        "    train_loss+=loss\n",
        "\n",
        "    #optimzer zero grad\n",
        "\n",
        "    optim.zero_grad()\n",
        "\n",
        "    #loss\n",
        "\n",
        "    loss.backward()\n",
        "    \n",
        "    optim.step()  # updating models parameters once per batch\n",
        "\n",
        "    if batch %400==0:\n",
        "      print(f'Looked at {batch*len(x)}/ {len(train_dataloader.dataset)} samples')\n",
        "\n",
        "    #divide total train_loss by length of train dataloader\n",
        "\n",
        "  train_loss/=len(train_dataloader)\n",
        "\n",
        "    ##test loop\n",
        "\n",
        "  test_loss, test_acc= 0, 0\n",
        "  model_0.eval()\n",
        "  with torch.inference_mode():\n",
        "      for x_test, y_test in test_dataloader:\n",
        "        #forward pass\n",
        "        test_pred=model_0(x_test)\n",
        "        #calcuate loss\n",
        "        test_loss+=loss_fn(test_pred,y_test)\n",
        "        #calculate acc\n",
        "        test_acc+=accuracy_fn(y_true=y_test,y_pred=test_pred.argmax(dim=1))\n",
        "      #calculate test loss\n",
        "      test_loss/=len(test_dataloader)\n",
        "      #calculate  test acc per batch\n",
        "      test_acc/=len(test_dataloader)\n",
        "      print(f\"epoch {epoch}|train loss {train_loss} | test_loss {test_loss}| test_acc {test_acc}\")\n",
        "\n",
        "\n",
        "\n"
      ]
    },
    {
      "cell_type": "code",
      "execution_count": 23,
      "metadata": {
        "id": "_IYbUYIpYVxr"
      },
      "outputs": [],
      "source": []
    },
    {
      "cell_type": "code",
      "execution_count": 24,
      "metadata": {
        "id": "DrsBOVdRQD6w"
      },
      "outputs": [],
      "source": [
        "def eval_model(model, dataloader, loss_fn, accuracy_fn):\n",
        "  \"\"\" Return a dictionary containing the results of the model predicting on the data loader\"\"\"\n",
        "  loss, acc=0,0\n",
        "  model.eval()\n",
        "  with torch.no_grad():\n",
        "    for x, y, in dataloader:\n",
        "      y_pred=model(x)\n",
        "      loss+=loss_fn(y_pred,y)\n",
        "      acc+=accuracy_fn(y,y_pred.argmax(dim=1))\n",
        "\n",
        "    loss/=len(dataloader)\n",
        "    acc/=len(dataloader)\n",
        "  return {\"test_loss\": {loss.item()}, \"test_acc\": {acc}}"
      ]
    },
    {
      "cell_type": "code",
      "execution_count": 25,
      "metadata": {
        "id": "YQTudKC7WeSk"
      },
      "outputs": [],
      "source": [
        "model_0_results=eval_model(model_0, test_dataloader, loss_fn, accuracy_fn)"
      ]
    },
    {
      "cell_type": "code",
      "execution_count": 26,
      "metadata": {
        "id": "6Mod7VDHY_tf",
        "colab": {
          "base_uri": "https://localhost:8080/"
        },
        "outputId": "78ebdb06-5da7-4182-e177-6694c69c81e4"
      },
      "outputs": [
        {
          "output_type": "execute_result",
          "data": {
            "text/plain": [
              "{'test_loss': {0.5199794173240662}, 'test_acc': {81.9988019169329}}"
            ]
          },
          "metadata": {},
          "execution_count": 26
        }
      ],
      "source": [
        "model_0_results"
      ]
    },
    {
      "cell_type": "code",
      "execution_count": 27,
      "metadata": {
        "id": "Krjun4DmxIX6"
      },
      "outputs": [],
      "source": [
        "class CNN (nn.Module):\n",
        "  def __init__(self,input_shape, hidden_units, output_shape):\n",
        "    super().__init__()\n",
        "    self.conv_block=nn.Sequential(\n",
        "        nn.Conv2d(in_channels=input_shape,out_channels=hidden_units,kernel_size=3, stride=1, padding=1),\n",
        "        nn.ReLU(),\n",
        "        nn.Conv2d(in_channels=hidden_units, out_channels=hidden_units, kernel_size=3, stride=1, padding=1),\n",
        "        nn.ReLU(),\n",
        "        nn.Conv2d(in_channels=hidden_units, out_channels=hidden_units, kernel_size=3, stride=1, padding=1)\n",
        "        )\n",
        "\n",
        "    self.conv_block_1=nn.Sequential(\n",
        "        nn.Conv2d(in_channels=hidden_units, out_channels=hidden_units, kernel_size=3, stride=1, padding=1),\n",
        "        nn.ReLU(),\n",
        "        nn.Conv2d(in_channels=hidden_units, out_channels=hidden_units, kernel_size=3, stride=1, padding=1),\n",
        "        nn.ReLU(),\n",
        "        nn.MaxPool2d(kernel_size=2)\n",
        "    )\n",
        "\n",
        "    self.classifier=nn.Sequential(\n",
        "        nn.Flatten(),\n",
        "        nn.Linear(in_features=hidden_units*14*14, out_features=output_shape)\n",
        "    )\n",
        "\n",
        "  def forward(self,x):\n",
        "    z=self.conv_block(x)\n",
        "    #print(z.shape)\n",
        "    z=self.conv_block_1(z)\n",
        "    #print(z.shape)\n",
        "    z=self.classifier(z)\n",
        "    #print(z.shape)\n",
        "    return z\n"
      ]
    },
    {
      "cell_type": "code",
      "execution_count": 28,
      "metadata": {
        "id": "qEo69NXyyJc1",
        "colab": {
          "base_uri": "https://localhost:8080/"
        },
        "outputId": "62337828-73aa-4b1f-c5c7-478f1243c7b7"
      },
      "outputs": [
        {
          "output_type": "stream",
          "name": "stdout",
          "text": [
            "torch.Size([1, 28, 28])\n"
          ]
        }
      ],
      "source": [
        "print(image.shape) \n",
        "model=CNN(input_shape=1, hidden_units=10, output_shape=10)"
      ]
    },
    {
      "cell_type": "code",
      "execution_count": 29,
      "metadata": {
        "id": "Goo88RuZzMXm",
        "colab": {
          "base_uri": "https://localhost:8080/",
          "height": 36
        },
        "outputId": "33223380-da07-4771-ca68-58ae7200ae19"
      },
      "outputs": [
        {
          "output_type": "execute_result",
          "data": {
            "text/plain": [
              "'cpu'"
            ],
            "application/vnd.google.colaboratory.intrinsic+json": {
              "type": "string"
            }
          },
          "metadata": {},
          "execution_count": 29
        }
      ],
      "source": [
        "device='cuda' if torch.cuda.is_available() else 'cpu'\n",
        "device"
      ]
    },
    {
      "cell_type": "code",
      "execution_count": 30,
      "metadata": {
        "id": "TxwjSzKazKMe",
        "colab": {
          "base_uri": "https://localhost:8080/"
        },
        "outputId": "11086b17-5f25-4eb7-fc72-15f53c88bf38"
      },
      "outputs": [
        {
          "output_type": "execute_result",
          "data": {
            "text/plain": [
              "CNN(\n",
              "  (conv_block): Sequential(\n",
              "    (0): Conv2d(1, 10, kernel_size=(3, 3), stride=(1, 1), padding=(1, 1))\n",
              "    (1): ReLU()\n",
              "    (2): Conv2d(10, 10, kernel_size=(3, 3), stride=(1, 1), padding=(1, 1))\n",
              "    (3): ReLU()\n",
              "    (4): Conv2d(10, 10, kernel_size=(3, 3), stride=(1, 1), padding=(1, 1))\n",
              "  )\n",
              "  (conv_block_1): Sequential(\n",
              "    (0): Conv2d(10, 10, kernel_size=(3, 3), stride=(1, 1), padding=(1, 1))\n",
              "    (1): ReLU()\n",
              "    (2): Conv2d(10, 10, kernel_size=(3, 3), stride=(1, 1), padding=(1, 1))\n",
              "    (3): ReLU()\n",
              "    (4): MaxPool2d(kernel_size=2, stride=2, padding=0, dilation=1, ceil_mode=False)\n",
              "  )\n",
              "  (classifier): Sequential(\n",
              "    (0): Flatten(start_dim=1, end_dim=-1)\n",
              "    (1): Linear(in_features=1960, out_features=10, bias=True)\n",
              "  )\n",
              ")"
            ]
          },
          "metadata": {},
          "execution_count": 30
        }
      ],
      "source": [
        "model.state_dict()\n",
        "model.to(device)"
      ]
    },
    {
      "cell_type": "code",
      "source": [],
      "metadata": {
        "id": "IZrSwwCVO78Y"
      },
      "execution_count": 30,
      "outputs": []
    },
    {
      "cell_type": "code",
      "source": [
        "def accuracy_function(y_pred,y_true):\n",
        "  correct=torch.eq(y_pred,y_true).sum().item()\n",
        "  return (correct/len(y_pred))*100"
      ],
      "metadata": {
        "id": "fwlPw0GoKzp_"
      },
      "execution_count": 35,
      "outputs": []
    },
    {
      "cell_type": "code",
      "source": [
        "accuracy_function(y_pred_train.argmax(dim=1),y_train)"
      ],
      "metadata": {
        "colab": {
          "base_uri": "https://localhost:8080/"
        },
        "id": "2r6wfWl-1Bk7",
        "outputId": "6cd835e9-bc4e-427e-db72-491a4b6ede7c"
      },
      "execution_count": 41,
      "outputs": [
        {
          "output_type": "execute_result",
          "data": {
            "text/plain": [
              "96.875"
            ]
          },
          "metadata": {},
          "execution_count": 41
        }
      ]
    },
    {
      "cell_type": "code",
      "source": [
        "96.875/len(train_dataloader)"
      ],
      "metadata": {
        "colab": {
          "base_uri": "https://localhost:8080/"
        },
        "id": "eKH9upTX1PtD",
        "outputId": "f469c489-9e2c-406c-df9a-ac4f385bb394"
      },
      "execution_count": 43,
      "outputs": [
        {
          "output_type": "execute_result",
          "data": {
            "text/plain": [
              "0.051666666666666666"
            ]
          },
          "metadata": {},
          "execution_count": 43
        }
      ]
    },
    {
      "cell_type": "code",
      "source": [
        "loss_fn=nn.CrossEntropyLoss()\n",
        "optimizer=torch.optim.SGD(model.parameters(), lr=0.001)"
      ],
      "metadata": {
        "id": "nRf2YKIGOo1Q"
      },
      "execution_count": 36,
      "outputs": []
    },
    {
      "cell_type": "code",
      "source": [
        "len(train_dataloader)"
      ],
      "metadata": {
        "colab": {
          "base_uri": "https://localhost:8080/"
        },
        "id": "6aYBlu9wSxWv",
        "outputId": "9d93d933-3f96-4301-8eb9-425c700afc7b"
      },
      "execution_count": 37,
      "outputs": [
        {
          "output_type": "execute_result",
          "data": {
            "text/plain": [
              "1875"
            ]
          },
          "metadata": {},
          "execution_count": 37
        }
      ]
    },
    {
      "cell_type": "code",
      "source": [
        "epochs=100\n",
        "train_loss=0\n",
        "test_loss=0\n",
        "train_acc=0\n",
        "test_acc=0\n",
        "\n",
        "for e in tqdm(range(epochs)):\n",
        "  model.train()\n",
        "  for batch,(x_train,y_train) in enumerate(train_dataloader):\n",
        "    y_pred_train=model(x_train)\n",
        "    loss=loss_fn(y_pred_train,y_train)\n",
        "    optimizer.zero_grad()\n",
        "    loss.backward()\n",
        "    optimizer.step()\n",
        "    \n",
        "    train_loss+=loss\n",
        "    \n",
        "    train_acc+=accuracy_function(y_pred_train.argmax(dim=1),y_train)\n",
        "    \n",
        "    if batch%400==0:\n",
        "      print(f'looked at {batch*len(x_train)}/{len(train_dataloader.dataset)} samples')\n",
        "  train_loss/=len(train_dataloader)\n",
        "  train_acc/=len(train_dataloader)\n",
        "  print(f'Average Train_Accuracy {train_acc}| Average Train Loss {train_loss}')\n",
        "  model.eval()\n",
        "  with torch.inference_mode():\n",
        "    for x_test,y_test in test_dataloader:\n",
        "      y_pred_test=model(x_test)\n",
        "      loss_test=loss_fn(y_pred_test,y_test)\n",
        "      test_loss+=loss_test\n",
        "      test_acc+=accuracy_function(y_pred_test.argmax(dim=1),y_test)\n",
        "    test_acc/=len(test_dataloader)\n",
        "    test_loss/=len(test_dataloader)\n",
        "    print(f'Average Test Accuracy {test_acc} | Average Test Loss {test_loss} ')\n",
        "\n",
        "\n"
      ],
      "metadata": {
        "id": "QA092OAIPl_U"
      },
      "execution_count": null,
      "outputs": []
    },
    {
      "cell_type": "code",
      "source": [],
      "metadata": {
        "colab": {
          "base_uri": "https://localhost:8080/"
        },
        "id": "qlre6KHc0rki",
        "outputId": "52a8513d-eb85-40c8-be99-8a44df41ef31"
      },
      "execution_count": 40,
      "outputs": [
        {
          "output_type": "execute_result",
          "data": {
            "text/plain": [
              "tensor([7, 1, 7, 9, 3, 9, 2, 7, 5, 0, 4, 2, 9, 7, 9, 6, 3, 1, 1, 0, 5, 1, 5, 7,\n",
              "        7, 8, 2, 4, 6, 7, 0, 8])"
            ]
          },
          "metadata": {},
          "execution_count": 40
        }
      ]
    },
    {
      "cell_type": "code",
      "source": [
        "def eval_model(model,dataset,accc_fn):\n",
        "  with torch.no_grad():\n",
        "    model.eval()\n",
        "    for x,y in dataset:\n",
        "      y_pred=model(x)\n",
        "    acc_fn=accuracy_function(y_pred.argmax(dim=1),y_test)\n",
        "  return acc_fn"
      ],
      "metadata": {
        "id": "T14_i7SCjrtM"
      },
      "execution_count": 47,
      "outputs": []
    },
    {
      "cell_type": "code",
      "source": [
        "eval_model(model,test_dataloader,accuracy_function)"
      ],
      "metadata": {
        "colab": {
          "base_uri": "https://localhost:8080/"
        },
        "id": "rgh52-zLkkUm",
        "outputId": "9aac8b07-b64a-473f-8fed-28af9c3fb558"
      },
      "execution_count": 48,
      "outputs": [
        {
          "output_type": "execute_result",
          "data": {
            "text/plain": [
              "93.75"
            ]
          },
          "metadata": {},
          "execution_count": 48
        }
      ]
    },
    {
      "cell_type": "code",
      "source": [
        "for x, y in test_dataloader:\n",
        "  print(x.shape,y.shape)"
      ],
      "metadata": {
        "id": "BUg28fUTqKCP"
      },
      "execution_count": null,
      "outputs": []
    },
    {
      "cell_type": "code",
      "source": [
        "def make_predictions(model, data):\n",
        "  pred_prob=[]\n",
        "  model.eval()\n",
        "  with torch.inference_mode():\n",
        "    for sample in data:\n",
        "      sample=torch.unsqueeze(sample,dim=0) #unsqueeze for adding the batch dimension\n",
        "      pred_logit=model(sample)\n",
        "      pred_probs=torch.softmax(pred_logit.squeeze(),dim=0)#getting rid of the extra dimensions\n",
        "      pred_labels=pred_logit.argmax(dim=1)\n",
        "\n",
        "      pred_prob.append(pred_probs)\n",
        "  return torch.stack(pred_prob)\n"
      ],
      "metadata": {
        "id": "IeTfX8w4il_Q"
      },
      "execution_count": 133,
      "outputs": []
    },
    {
      "cell_type": "code",
      "source": [],
      "metadata": {
        "id": "AE1MzsxPmc9n"
      },
      "execution_count": 96,
      "outputs": []
    },
    {
      "cell_type": "code",
      "source": [
        "image, label=test_data[0]\n",
        "image.shape, label"
      ],
      "metadata": {
        "colab": {
          "base_uri": "https://localhost:8080/"
        },
        "id": "X8MRH3Y9lHAX",
        "outputId": "b3a5b688-541b-4a79-9ef5-038ee7c53cdb"
      },
      "execution_count": 99,
      "outputs": [
        {
          "output_type": "execute_result",
          "data": {
            "text/plain": [
              "(torch.Size([1, 28, 28]), 9)"
            ]
          },
          "metadata": {},
          "execution_count": 99
        }
      ]
    },
    {
      "cell_type": "code",
      "source": [
        "for sample, label in random.sample(list(test_data),k=9):\n",
        "  print(sample),print(label)"
      ],
      "metadata": {
        "id": "zNrVaZlZk2W0"
      },
      "execution_count": null,
      "outputs": []
    },
    {
      "cell_type": "code",
      "source": [
        "image,label=test_data[0][:10]\n",
        "image.shape, label"
      ],
      "metadata": {
        "colab": {
          "base_uri": "https://localhost:8080/"
        },
        "id": "PufohMvUjfiF",
        "outputId": "30428888-9c22-4a41-b35b-af6db0b736ce"
      },
      "execution_count": 138,
      "outputs": [
        {
          "output_type": "execute_result",
          "data": {
            "text/plain": [
              "(torch.Size([1, 28, 28]), 9)"
            ]
          },
          "metadata": {},
          "execution_count": 138
        }
      ]
    },
    {
      "cell_type": "code",
      "source": [
        "torch.unsqueeze(image,dim=0).shape"
      ],
      "metadata": {
        "colab": {
          "base_uri": "https://localhost:8080/"
        },
        "id": "gCzCw-0wnAxb",
        "outputId": "30cba822-1df0-453f-802c-1d02e03f6fcc"
      },
      "execution_count": 107,
      "outputs": [
        {
          "output_type": "execute_result",
          "data": {
            "text/plain": [
              "torch.Size([1, 1, 28, 28])"
            ]
          },
          "metadata": {},
          "execution_count": 107
        }
      ]
    },
    {
      "cell_type": "code",
      "source": [
        "model(torch.unsqueeze(image,dim=0))"
      ],
      "metadata": {
        "colab": {
          "base_uri": "https://localhost:8080/"
        },
        "id": "yLOBgOzTm157",
        "outputId": "0e7744f2-5d72-4aa8-ec36-5e1e9130c424"
      },
      "execution_count": 115,
      "outputs": [
        {
          "output_type": "execute_result",
          "data": {
            "text/plain": [
              "tensor([[ -6.2751, -20.6531,  -3.5990,  -9.7780, -10.5397,  13.6479,  -5.1444,\n",
              "          16.5187,   8.2892,  23.3849]], grad_fn=<AddmmBackward0>)"
            ]
          },
          "metadata": {},
          "execution_count": 115
        }
      ]
    },
    {
      "cell_type": "code",
      "source": [],
      "metadata": {
        "id": "xYEvxo42nXAb"
      },
      "execution_count": 142,
      "outputs": []
    },
    {
      "cell_type": "code",
      "source": [
        "import random\n",
        "test_samples=[]\n",
        "test_labels=[]\n",
        "for sample, label in random.sample(list(test_data),k=9):\n",
        "  test_samples.append(sample)\n",
        "  test_labels.append(label)\n",
        "\n"
      ],
      "metadata": {
        "id": "qHjmZ4FhjRyr"
      },
      "execution_count": 58,
      "outputs": []
    },
    {
      "cell_type": "code",
      "source": [
        "pred_logit=model(sample.unsqueeze(dim=1))\n",
        "\n",
        "pred_probs=torch.softmax(pred_logit.squeeze(),dim=0)\n",
        "pred_probs"
      ],
      "metadata": {
        "colab": {
          "base_uri": "https://localhost:8080/"
        },
        "id": "9tx9q5DHmufZ",
        "outputId": "d743ab83-c245-48c0-b45a-e1da9048e40a"
      },
      "execution_count": 130,
      "outputs": [
        {
          "output_type": "execute_result",
          "data": {
            "text/plain": [
              "tensor([3.7413e-08, 5.0122e-10, 3.6566e-06, 9.9781e-01, 2.1846e-03, 1.9521e-10,\n",
              "        1.8419e-06, 9.0689e-19, 1.8760e-08, 2.4980e-16],\n",
              "       grad_fn=<SoftmaxBackward0>)"
            ]
          },
          "metadata": {},
          "execution_count": 130
        }
      ]
    },
    {
      "cell_type": "code",
      "source": [
        "pred_probs=make_predictions(model,test_samples)\n",
        "pred_classes=pred_probs.argmax(dim=1)\n",
        "pred_classes"
      ],
      "metadata": {
        "colab": {
          "base_uri": "https://localhost:8080/"
        },
        "id": "UPnF-uvpkLGR",
        "outputId": "c0f4e5c3-b346-494a-c39b-9a5c2147d446"
      },
      "execution_count": 134,
      "outputs": [
        {
          "output_type": "execute_result",
          "data": {
            "text/plain": [
              "tensor([1, 2, 7, 1, 3, 0, 9, 0, 5])"
            ]
          },
          "metadata": {},
          "execution_count": 134
        }
      ]
    },
    {
      "cell_type": "code",
      "source": [
        "train_feature_batch_size,train_labels= next(iter(train_dataloader))\n",
        "train_feature_batch_size.shape, train_labels.shape"
      ],
      "metadata": {
        "colab": {
          "base_uri": "https://localhost:8080/"
        },
        "id": "z1oMYoK4lwX7",
        "outputId": "152883d2-908e-4556-c49c-655ed1d9eb01"
      },
      "execution_count": 94,
      "outputs": [
        {
          "output_type": "execute_result",
          "data": {
            "text/plain": [
              "(torch.Size([32, 1, 28, 28]), torch.Size([32]))"
            ]
          },
          "metadata": {},
          "execution_count": 94
        }
      ]
    },
    {
      "cell_type": "code",
      "source": [
        "train_labels_batch"
      ],
      "metadata": {
        "colab": {
          "base_uri": "https://localhost:8080/"
        },
        "id": "rXRePGKqmB-g",
        "outputId": "f4becf06-b818-4201-f80f-a2726ebfc46e"
      },
      "execution_count": 91,
      "outputs": [
        {
          "output_type": "execute_result",
          "data": {
            "text/plain": [
              "tensor([7, 5, 5, 4, 8, 5, 0, 9, 9, 8, 2, 6, 4, 8, 1, 1, 6, 7, 4, 5, 8, 4, 1, 6,\n",
              "        2, 9, 0, 0, 6, 5, 4, 8])"
            ]
          },
          "metadata": {},
          "execution_count": 91
        }
      ]
    }
  ],
  "metadata": {
    "colab": {
      "provenance": [],
      "machine_shape": "hm",
      "authorship_tag": "ABX9TyMf291UbWXmzP2FHlWIDRu5",
      "include_colab_link": true
    },
    "gpuClass": "premium",
    "kernelspec": {
      "display_name": "Python 3",
      "name": "python3"
    },
    "language_info": {
      "name": "python"
    },
    "widgets": {
      "application/vnd.jupyter.widget-state+json": {
        "6551cc44b29e46f6894f0fcae598aeae": {
          "model_module": "@jupyter-widgets/controls",
          "model_name": "HBoxModel",
          "model_module_version": "1.5.0",
          "state": {
            "_dom_classes": [],
            "_model_module": "@jupyter-widgets/controls",
            "_model_module_version": "1.5.0",
            "_model_name": "HBoxModel",
            "_view_count": null,
            "_view_module": "@jupyter-widgets/controls",
            "_view_module_version": "1.5.0",
            "_view_name": "HBoxView",
            "box_style": "",
            "children": [
              "IPY_MODEL_af9cf364c1784e53ad40098b644cc835",
              "IPY_MODEL_f554610bb7d748acaa320610946b92ad",
              "IPY_MODEL_bf7cdbe64e5143a09b45c01d422cbf43"
            ],
            "layout": "IPY_MODEL_1b6e13ee75bd4677a9579d6ab62b4955"
          }
        },
        "af9cf364c1784e53ad40098b644cc835": {
          "model_module": "@jupyter-widgets/controls",
          "model_name": "HTMLModel",
          "model_module_version": "1.5.0",
          "state": {
            "_dom_classes": [],
            "_model_module": "@jupyter-widgets/controls",
            "_model_module_version": "1.5.0",
            "_model_name": "HTMLModel",
            "_view_count": null,
            "_view_module": "@jupyter-widgets/controls",
            "_view_module_version": "1.5.0",
            "_view_name": "HTMLView",
            "description": "",
            "description_tooltip": null,
            "layout": "IPY_MODEL_d100ee8bd40f47edb44b3c470928d465",
            "placeholder": "​",
            "style": "IPY_MODEL_244c0e4c5e9f4d188aafd3e691063a0e",
            "value": "100%"
          }
        },
        "f554610bb7d748acaa320610946b92ad": {
          "model_module": "@jupyter-widgets/controls",
          "model_name": "FloatProgressModel",
          "model_module_version": "1.5.0",
          "state": {
            "_dom_classes": [],
            "_model_module": "@jupyter-widgets/controls",
            "_model_module_version": "1.5.0",
            "_model_name": "FloatProgressModel",
            "_view_count": null,
            "_view_module": "@jupyter-widgets/controls",
            "_view_module_version": "1.5.0",
            "_view_name": "ProgressView",
            "bar_style": "success",
            "description": "",
            "description_tooltip": null,
            "layout": "IPY_MODEL_10d8110dd3c34fabad2f50a8ff23a967",
            "max": 26421880,
            "min": 0,
            "orientation": "horizontal",
            "style": "IPY_MODEL_2f844091d7e34748bbbfdadf4e109a36",
            "value": 26421880
          }
        },
        "bf7cdbe64e5143a09b45c01d422cbf43": {
          "model_module": "@jupyter-widgets/controls",
          "model_name": "HTMLModel",
          "model_module_version": "1.5.0",
          "state": {
            "_dom_classes": [],
            "_model_module": "@jupyter-widgets/controls",
            "_model_module_version": "1.5.0",
            "_model_name": "HTMLModel",
            "_view_count": null,
            "_view_module": "@jupyter-widgets/controls",
            "_view_module_version": "1.5.0",
            "_view_name": "HTMLView",
            "description": "",
            "description_tooltip": null,
            "layout": "IPY_MODEL_f54124543f2c4725b6a4d4d960dc546f",
            "placeholder": "​",
            "style": "IPY_MODEL_5aeeac7b59f34b29876ff6d3abae1082",
            "value": " 26421880/26421880 [00:01&lt;00:00, 28434234.00it/s]"
          }
        },
        "1b6e13ee75bd4677a9579d6ab62b4955": {
          "model_module": "@jupyter-widgets/base",
          "model_name": "LayoutModel",
          "model_module_version": "1.2.0",
          "state": {
            "_model_module": "@jupyter-widgets/base",
            "_model_module_version": "1.2.0",
            "_model_name": "LayoutModel",
            "_view_count": null,
            "_view_module": "@jupyter-widgets/base",
            "_view_module_version": "1.2.0",
            "_view_name": "LayoutView",
            "align_content": null,
            "align_items": null,
            "align_self": null,
            "border": null,
            "bottom": null,
            "display": null,
            "flex": null,
            "flex_flow": null,
            "grid_area": null,
            "grid_auto_columns": null,
            "grid_auto_flow": null,
            "grid_auto_rows": null,
            "grid_column": null,
            "grid_gap": null,
            "grid_row": null,
            "grid_template_areas": null,
            "grid_template_columns": null,
            "grid_template_rows": null,
            "height": null,
            "justify_content": null,
            "justify_items": null,
            "left": null,
            "margin": null,
            "max_height": null,
            "max_width": null,
            "min_height": null,
            "min_width": null,
            "object_fit": null,
            "object_position": null,
            "order": null,
            "overflow": null,
            "overflow_x": null,
            "overflow_y": null,
            "padding": null,
            "right": null,
            "top": null,
            "visibility": null,
            "width": null
          }
        },
        "d100ee8bd40f47edb44b3c470928d465": {
          "model_module": "@jupyter-widgets/base",
          "model_name": "LayoutModel",
          "model_module_version": "1.2.0",
          "state": {
            "_model_module": "@jupyter-widgets/base",
            "_model_module_version": "1.2.0",
            "_model_name": "LayoutModel",
            "_view_count": null,
            "_view_module": "@jupyter-widgets/base",
            "_view_module_version": "1.2.0",
            "_view_name": "LayoutView",
            "align_content": null,
            "align_items": null,
            "align_self": null,
            "border": null,
            "bottom": null,
            "display": null,
            "flex": null,
            "flex_flow": null,
            "grid_area": null,
            "grid_auto_columns": null,
            "grid_auto_flow": null,
            "grid_auto_rows": null,
            "grid_column": null,
            "grid_gap": null,
            "grid_row": null,
            "grid_template_areas": null,
            "grid_template_columns": null,
            "grid_template_rows": null,
            "height": null,
            "justify_content": null,
            "justify_items": null,
            "left": null,
            "margin": null,
            "max_height": null,
            "max_width": null,
            "min_height": null,
            "min_width": null,
            "object_fit": null,
            "object_position": null,
            "order": null,
            "overflow": null,
            "overflow_x": null,
            "overflow_y": null,
            "padding": null,
            "right": null,
            "top": null,
            "visibility": null,
            "width": null
          }
        },
        "244c0e4c5e9f4d188aafd3e691063a0e": {
          "model_module": "@jupyter-widgets/controls",
          "model_name": "DescriptionStyleModel",
          "model_module_version": "1.5.0",
          "state": {
            "_model_module": "@jupyter-widgets/controls",
            "_model_module_version": "1.5.0",
            "_model_name": "DescriptionStyleModel",
            "_view_count": null,
            "_view_module": "@jupyter-widgets/base",
            "_view_module_version": "1.2.0",
            "_view_name": "StyleView",
            "description_width": ""
          }
        },
        "10d8110dd3c34fabad2f50a8ff23a967": {
          "model_module": "@jupyter-widgets/base",
          "model_name": "LayoutModel",
          "model_module_version": "1.2.0",
          "state": {
            "_model_module": "@jupyter-widgets/base",
            "_model_module_version": "1.2.0",
            "_model_name": "LayoutModel",
            "_view_count": null,
            "_view_module": "@jupyter-widgets/base",
            "_view_module_version": "1.2.0",
            "_view_name": "LayoutView",
            "align_content": null,
            "align_items": null,
            "align_self": null,
            "border": null,
            "bottom": null,
            "display": null,
            "flex": null,
            "flex_flow": null,
            "grid_area": null,
            "grid_auto_columns": null,
            "grid_auto_flow": null,
            "grid_auto_rows": null,
            "grid_column": null,
            "grid_gap": null,
            "grid_row": null,
            "grid_template_areas": null,
            "grid_template_columns": null,
            "grid_template_rows": null,
            "height": null,
            "justify_content": null,
            "justify_items": null,
            "left": null,
            "margin": null,
            "max_height": null,
            "max_width": null,
            "min_height": null,
            "min_width": null,
            "object_fit": null,
            "object_position": null,
            "order": null,
            "overflow": null,
            "overflow_x": null,
            "overflow_y": null,
            "padding": null,
            "right": null,
            "top": null,
            "visibility": null,
            "width": null
          }
        },
        "2f844091d7e34748bbbfdadf4e109a36": {
          "model_module": "@jupyter-widgets/controls",
          "model_name": "ProgressStyleModel",
          "model_module_version": "1.5.0",
          "state": {
            "_model_module": "@jupyter-widgets/controls",
            "_model_module_version": "1.5.0",
            "_model_name": "ProgressStyleModel",
            "_view_count": null,
            "_view_module": "@jupyter-widgets/base",
            "_view_module_version": "1.2.0",
            "_view_name": "StyleView",
            "bar_color": null,
            "description_width": ""
          }
        },
        "f54124543f2c4725b6a4d4d960dc546f": {
          "model_module": "@jupyter-widgets/base",
          "model_name": "LayoutModel",
          "model_module_version": "1.2.0",
          "state": {
            "_model_module": "@jupyter-widgets/base",
            "_model_module_version": "1.2.0",
            "_model_name": "LayoutModel",
            "_view_count": null,
            "_view_module": "@jupyter-widgets/base",
            "_view_module_version": "1.2.0",
            "_view_name": "LayoutView",
            "align_content": null,
            "align_items": null,
            "align_self": null,
            "border": null,
            "bottom": null,
            "display": null,
            "flex": null,
            "flex_flow": null,
            "grid_area": null,
            "grid_auto_columns": null,
            "grid_auto_flow": null,
            "grid_auto_rows": null,
            "grid_column": null,
            "grid_gap": null,
            "grid_row": null,
            "grid_template_areas": null,
            "grid_template_columns": null,
            "grid_template_rows": null,
            "height": null,
            "justify_content": null,
            "justify_items": null,
            "left": null,
            "margin": null,
            "max_height": null,
            "max_width": null,
            "min_height": null,
            "min_width": null,
            "object_fit": null,
            "object_position": null,
            "order": null,
            "overflow": null,
            "overflow_x": null,
            "overflow_y": null,
            "padding": null,
            "right": null,
            "top": null,
            "visibility": null,
            "width": null
          }
        },
        "5aeeac7b59f34b29876ff6d3abae1082": {
          "model_module": "@jupyter-widgets/controls",
          "model_name": "DescriptionStyleModel",
          "model_module_version": "1.5.0",
          "state": {
            "_model_module": "@jupyter-widgets/controls",
            "_model_module_version": "1.5.0",
            "_model_name": "DescriptionStyleModel",
            "_view_count": null,
            "_view_module": "@jupyter-widgets/base",
            "_view_module_version": "1.2.0",
            "_view_name": "StyleView",
            "description_width": ""
          }
        },
        "c629b2cf96d6443e938aa53a156b5228": {
          "model_module": "@jupyter-widgets/controls",
          "model_name": "HBoxModel",
          "model_module_version": "1.5.0",
          "state": {
            "_dom_classes": [],
            "_model_module": "@jupyter-widgets/controls",
            "_model_module_version": "1.5.0",
            "_model_name": "HBoxModel",
            "_view_count": null,
            "_view_module": "@jupyter-widgets/controls",
            "_view_module_version": "1.5.0",
            "_view_name": "HBoxView",
            "box_style": "",
            "children": [
              "IPY_MODEL_4d1636f3f0f84eceb09c78d12bcd938f",
              "IPY_MODEL_66a44920c8234be3a5d362044ab6c6cb",
              "IPY_MODEL_2f3a71f5375743a6a32f6384c49700aa"
            ],
            "layout": "IPY_MODEL_d250177619a74c7a8c354a5d1001ccf0"
          }
        },
        "4d1636f3f0f84eceb09c78d12bcd938f": {
          "model_module": "@jupyter-widgets/controls",
          "model_name": "HTMLModel",
          "model_module_version": "1.5.0",
          "state": {
            "_dom_classes": [],
            "_model_module": "@jupyter-widgets/controls",
            "_model_module_version": "1.5.0",
            "_model_name": "HTMLModel",
            "_view_count": null,
            "_view_module": "@jupyter-widgets/controls",
            "_view_module_version": "1.5.0",
            "_view_name": "HTMLView",
            "description": "",
            "description_tooltip": null,
            "layout": "IPY_MODEL_893a7f78787f46739038f596aaef9ae7",
            "placeholder": "​",
            "style": "IPY_MODEL_d5b174c110a74cb384c57a63e6156d8d",
            "value": "100%"
          }
        },
        "66a44920c8234be3a5d362044ab6c6cb": {
          "model_module": "@jupyter-widgets/controls",
          "model_name": "FloatProgressModel",
          "model_module_version": "1.5.0",
          "state": {
            "_dom_classes": [],
            "_model_module": "@jupyter-widgets/controls",
            "_model_module_version": "1.5.0",
            "_model_name": "FloatProgressModel",
            "_view_count": null,
            "_view_module": "@jupyter-widgets/controls",
            "_view_module_version": "1.5.0",
            "_view_name": "ProgressView",
            "bar_style": "success",
            "description": "",
            "description_tooltip": null,
            "layout": "IPY_MODEL_99500b2d72e84be9a5996eeb1b4c2435",
            "max": 29515,
            "min": 0,
            "orientation": "horizontal",
            "style": "IPY_MODEL_46983029c6fe479d801d57af01e25f6a",
            "value": 29515
          }
        },
        "2f3a71f5375743a6a32f6384c49700aa": {
          "model_module": "@jupyter-widgets/controls",
          "model_name": "HTMLModel",
          "model_module_version": "1.5.0",
          "state": {
            "_dom_classes": [],
            "_model_module": "@jupyter-widgets/controls",
            "_model_module_version": "1.5.0",
            "_model_name": "HTMLModel",
            "_view_count": null,
            "_view_module": "@jupyter-widgets/controls",
            "_view_module_version": "1.5.0",
            "_view_name": "HTMLView",
            "description": "",
            "description_tooltip": null,
            "layout": "IPY_MODEL_35a19f4ba69c4aafa490385db46ea25d",
            "placeholder": "​",
            "style": "IPY_MODEL_a4f9fc1711ce4fc79a3b71d28f46935f",
            "value": " 29515/29515 [00:00&lt;00:00, 300461.35it/s]"
          }
        },
        "d250177619a74c7a8c354a5d1001ccf0": {
          "model_module": "@jupyter-widgets/base",
          "model_name": "LayoutModel",
          "model_module_version": "1.2.0",
          "state": {
            "_model_module": "@jupyter-widgets/base",
            "_model_module_version": "1.2.0",
            "_model_name": "LayoutModel",
            "_view_count": null,
            "_view_module": "@jupyter-widgets/base",
            "_view_module_version": "1.2.0",
            "_view_name": "LayoutView",
            "align_content": null,
            "align_items": null,
            "align_self": null,
            "border": null,
            "bottom": null,
            "display": null,
            "flex": null,
            "flex_flow": null,
            "grid_area": null,
            "grid_auto_columns": null,
            "grid_auto_flow": null,
            "grid_auto_rows": null,
            "grid_column": null,
            "grid_gap": null,
            "grid_row": null,
            "grid_template_areas": null,
            "grid_template_columns": null,
            "grid_template_rows": null,
            "height": null,
            "justify_content": null,
            "justify_items": null,
            "left": null,
            "margin": null,
            "max_height": null,
            "max_width": null,
            "min_height": null,
            "min_width": null,
            "object_fit": null,
            "object_position": null,
            "order": null,
            "overflow": null,
            "overflow_x": null,
            "overflow_y": null,
            "padding": null,
            "right": null,
            "top": null,
            "visibility": null,
            "width": null
          }
        },
        "893a7f78787f46739038f596aaef9ae7": {
          "model_module": "@jupyter-widgets/base",
          "model_name": "LayoutModel",
          "model_module_version": "1.2.0",
          "state": {
            "_model_module": "@jupyter-widgets/base",
            "_model_module_version": "1.2.0",
            "_model_name": "LayoutModel",
            "_view_count": null,
            "_view_module": "@jupyter-widgets/base",
            "_view_module_version": "1.2.0",
            "_view_name": "LayoutView",
            "align_content": null,
            "align_items": null,
            "align_self": null,
            "border": null,
            "bottom": null,
            "display": null,
            "flex": null,
            "flex_flow": null,
            "grid_area": null,
            "grid_auto_columns": null,
            "grid_auto_flow": null,
            "grid_auto_rows": null,
            "grid_column": null,
            "grid_gap": null,
            "grid_row": null,
            "grid_template_areas": null,
            "grid_template_columns": null,
            "grid_template_rows": null,
            "height": null,
            "justify_content": null,
            "justify_items": null,
            "left": null,
            "margin": null,
            "max_height": null,
            "max_width": null,
            "min_height": null,
            "min_width": null,
            "object_fit": null,
            "object_position": null,
            "order": null,
            "overflow": null,
            "overflow_x": null,
            "overflow_y": null,
            "padding": null,
            "right": null,
            "top": null,
            "visibility": null,
            "width": null
          }
        },
        "d5b174c110a74cb384c57a63e6156d8d": {
          "model_module": "@jupyter-widgets/controls",
          "model_name": "DescriptionStyleModel",
          "model_module_version": "1.5.0",
          "state": {
            "_model_module": "@jupyter-widgets/controls",
            "_model_module_version": "1.5.0",
            "_model_name": "DescriptionStyleModel",
            "_view_count": null,
            "_view_module": "@jupyter-widgets/base",
            "_view_module_version": "1.2.0",
            "_view_name": "StyleView",
            "description_width": ""
          }
        },
        "99500b2d72e84be9a5996eeb1b4c2435": {
          "model_module": "@jupyter-widgets/base",
          "model_name": "LayoutModel",
          "model_module_version": "1.2.0",
          "state": {
            "_model_module": "@jupyter-widgets/base",
            "_model_module_version": "1.2.0",
            "_model_name": "LayoutModel",
            "_view_count": null,
            "_view_module": "@jupyter-widgets/base",
            "_view_module_version": "1.2.0",
            "_view_name": "LayoutView",
            "align_content": null,
            "align_items": null,
            "align_self": null,
            "border": null,
            "bottom": null,
            "display": null,
            "flex": null,
            "flex_flow": null,
            "grid_area": null,
            "grid_auto_columns": null,
            "grid_auto_flow": null,
            "grid_auto_rows": null,
            "grid_column": null,
            "grid_gap": null,
            "grid_row": null,
            "grid_template_areas": null,
            "grid_template_columns": null,
            "grid_template_rows": null,
            "height": null,
            "justify_content": null,
            "justify_items": null,
            "left": null,
            "margin": null,
            "max_height": null,
            "max_width": null,
            "min_height": null,
            "min_width": null,
            "object_fit": null,
            "object_position": null,
            "order": null,
            "overflow": null,
            "overflow_x": null,
            "overflow_y": null,
            "padding": null,
            "right": null,
            "top": null,
            "visibility": null,
            "width": null
          }
        },
        "46983029c6fe479d801d57af01e25f6a": {
          "model_module": "@jupyter-widgets/controls",
          "model_name": "ProgressStyleModel",
          "model_module_version": "1.5.0",
          "state": {
            "_model_module": "@jupyter-widgets/controls",
            "_model_module_version": "1.5.0",
            "_model_name": "ProgressStyleModel",
            "_view_count": null,
            "_view_module": "@jupyter-widgets/base",
            "_view_module_version": "1.2.0",
            "_view_name": "StyleView",
            "bar_color": null,
            "description_width": ""
          }
        },
        "35a19f4ba69c4aafa490385db46ea25d": {
          "model_module": "@jupyter-widgets/base",
          "model_name": "LayoutModel",
          "model_module_version": "1.2.0",
          "state": {
            "_model_module": "@jupyter-widgets/base",
            "_model_module_version": "1.2.0",
            "_model_name": "LayoutModel",
            "_view_count": null,
            "_view_module": "@jupyter-widgets/base",
            "_view_module_version": "1.2.0",
            "_view_name": "LayoutView",
            "align_content": null,
            "align_items": null,
            "align_self": null,
            "border": null,
            "bottom": null,
            "display": null,
            "flex": null,
            "flex_flow": null,
            "grid_area": null,
            "grid_auto_columns": null,
            "grid_auto_flow": null,
            "grid_auto_rows": null,
            "grid_column": null,
            "grid_gap": null,
            "grid_row": null,
            "grid_template_areas": null,
            "grid_template_columns": null,
            "grid_template_rows": null,
            "height": null,
            "justify_content": null,
            "justify_items": null,
            "left": null,
            "margin": null,
            "max_height": null,
            "max_width": null,
            "min_height": null,
            "min_width": null,
            "object_fit": null,
            "object_position": null,
            "order": null,
            "overflow": null,
            "overflow_x": null,
            "overflow_y": null,
            "padding": null,
            "right": null,
            "top": null,
            "visibility": null,
            "width": null
          }
        },
        "a4f9fc1711ce4fc79a3b71d28f46935f": {
          "model_module": "@jupyter-widgets/controls",
          "model_name": "DescriptionStyleModel",
          "model_module_version": "1.5.0",
          "state": {
            "_model_module": "@jupyter-widgets/controls",
            "_model_module_version": "1.5.0",
            "_model_name": "DescriptionStyleModel",
            "_view_count": null,
            "_view_module": "@jupyter-widgets/base",
            "_view_module_version": "1.2.0",
            "_view_name": "StyleView",
            "description_width": ""
          }
        },
        "0f61ba0a0bb54e719785e89afb2abadc": {
          "model_module": "@jupyter-widgets/controls",
          "model_name": "HBoxModel",
          "model_module_version": "1.5.0",
          "state": {
            "_dom_classes": [],
            "_model_module": "@jupyter-widgets/controls",
            "_model_module_version": "1.5.0",
            "_model_name": "HBoxModel",
            "_view_count": null,
            "_view_module": "@jupyter-widgets/controls",
            "_view_module_version": "1.5.0",
            "_view_name": "HBoxView",
            "box_style": "",
            "children": [
              "IPY_MODEL_a927bc63b3cc482fb379ce430d8ec61f",
              "IPY_MODEL_d26d154ba7344cc880e8f2792a778ead",
              "IPY_MODEL_3d1ecedf35c44d2cb52e1f30b77f38cc"
            ],
            "layout": "IPY_MODEL_3fd8f7a559b9493f9902beff819e72ae"
          }
        },
        "a927bc63b3cc482fb379ce430d8ec61f": {
          "model_module": "@jupyter-widgets/controls",
          "model_name": "HTMLModel",
          "model_module_version": "1.5.0",
          "state": {
            "_dom_classes": [],
            "_model_module": "@jupyter-widgets/controls",
            "_model_module_version": "1.5.0",
            "_model_name": "HTMLModel",
            "_view_count": null,
            "_view_module": "@jupyter-widgets/controls",
            "_view_module_version": "1.5.0",
            "_view_name": "HTMLView",
            "description": "",
            "description_tooltip": null,
            "layout": "IPY_MODEL_01603e5c871248c59227752c9264fb8f",
            "placeholder": "​",
            "style": "IPY_MODEL_525e28d7e8e94397b7b4d154b35c2a20",
            "value": "100%"
          }
        },
        "d26d154ba7344cc880e8f2792a778ead": {
          "model_module": "@jupyter-widgets/controls",
          "model_name": "FloatProgressModel",
          "model_module_version": "1.5.0",
          "state": {
            "_dom_classes": [],
            "_model_module": "@jupyter-widgets/controls",
            "_model_module_version": "1.5.0",
            "_model_name": "FloatProgressModel",
            "_view_count": null,
            "_view_module": "@jupyter-widgets/controls",
            "_view_module_version": "1.5.0",
            "_view_name": "ProgressView",
            "bar_style": "success",
            "description": "",
            "description_tooltip": null,
            "layout": "IPY_MODEL_7243fc2302ad40d79be3685f8242fdcd",
            "max": 4422102,
            "min": 0,
            "orientation": "horizontal",
            "style": "IPY_MODEL_09bad300855d4750baf2b8ff6df40610",
            "value": 4422102
          }
        },
        "3d1ecedf35c44d2cb52e1f30b77f38cc": {
          "model_module": "@jupyter-widgets/controls",
          "model_name": "HTMLModel",
          "model_module_version": "1.5.0",
          "state": {
            "_dom_classes": [],
            "_model_module": "@jupyter-widgets/controls",
            "_model_module_version": "1.5.0",
            "_model_name": "HTMLModel",
            "_view_count": null,
            "_view_module": "@jupyter-widgets/controls",
            "_view_module_version": "1.5.0",
            "_view_name": "HTMLView",
            "description": "",
            "description_tooltip": null,
            "layout": "IPY_MODEL_843efb47799a494886ec79fc31684fe5",
            "placeholder": "​",
            "style": "IPY_MODEL_25a7b2d1e62e482fb583e52157e68024",
            "value": " 4422102/4422102 [00:00&lt;00:00, 8092942.48it/s]"
          }
        },
        "3fd8f7a559b9493f9902beff819e72ae": {
          "model_module": "@jupyter-widgets/base",
          "model_name": "LayoutModel",
          "model_module_version": "1.2.0",
          "state": {
            "_model_module": "@jupyter-widgets/base",
            "_model_module_version": "1.2.0",
            "_model_name": "LayoutModel",
            "_view_count": null,
            "_view_module": "@jupyter-widgets/base",
            "_view_module_version": "1.2.0",
            "_view_name": "LayoutView",
            "align_content": null,
            "align_items": null,
            "align_self": null,
            "border": null,
            "bottom": null,
            "display": null,
            "flex": null,
            "flex_flow": null,
            "grid_area": null,
            "grid_auto_columns": null,
            "grid_auto_flow": null,
            "grid_auto_rows": null,
            "grid_column": null,
            "grid_gap": null,
            "grid_row": null,
            "grid_template_areas": null,
            "grid_template_columns": null,
            "grid_template_rows": null,
            "height": null,
            "justify_content": null,
            "justify_items": null,
            "left": null,
            "margin": null,
            "max_height": null,
            "max_width": null,
            "min_height": null,
            "min_width": null,
            "object_fit": null,
            "object_position": null,
            "order": null,
            "overflow": null,
            "overflow_x": null,
            "overflow_y": null,
            "padding": null,
            "right": null,
            "top": null,
            "visibility": null,
            "width": null
          }
        },
        "01603e5c871248c59227752c9264fb8f": {
          "model_module": "@jupyter-widgets/base",
          "model_name": "LayoutModel",
          "model_module_version": "1.2.0",
          "state": {
            "_model_module": "@jupyter-widgets/base",
            "_model_module_version": "1.2.0",
            "_model_name": "LayoutModel",
            "_view_count": null,
            "_view_module": "@jupyter-widgets/base",
            "_view_module_version": "1.2.0",
            "_view_name": "LayoutView",
            "align_content": null,
            "align_items": null,
            "align_self": null,
            "border": null,
            "bottom": null,
            "display": null,
            "flex": null,
            "flex_flow": null,
            "grid_area": null,
            "grid_auto_columns": null,
            "grid_auto_flow": null,
            "grid_auto_rows": null,
            "grid_column": null,
            "grid_gap": null,
            "grid_row": null,
            "grid_template_areas": null,
            "grid_template_columns": null,
            "grid_template_rows": null,
            "height": null,
            "justify_content": null,
            "justify_items": null,
            "left": null,
            "margin": null,
            "max_height": null,
            "max_width": null,
            "min_height": null,
            "min_width": null,
            "object_fit": null,
            "object_position": null,
            "order": null,
            "overflow": null,
            "overflow_x": null,
            "overflow_y": null,
            "padding": null,
            "right": null,
            "top": null,
            "visibility": null,
            "width": null
          }
        },
        "525e28d7e8e94397b7b4d154b35c2a20": {
          "model_module": "@jupyter-widgets/controls",
          "model_name": "DescriptionStyleModel",
          "model_module_version": "1.5.0",
          "state": {
            "_model_module": "@jupyter-widgets/controls",
            "_model_module_version": "1.5.0",
            "_model_name": "DescriptionStyleModel",
            "_view_count": null,
            "_view_module": "@jupyter-widgets/base",
            "_view_module_version": "1.2.0",
            "_view_name": "StyleView",
            "description_width": ""
          }
        },
        "7243fc2302ad40d79be3685f8242fdcd": {
          "model_module": "@jupyter-widgets/base",
          "model_name": "LayoutModel",
          "model_module_version": "1.2.0",
          "state": {
            "_model_module": "@jupyter-widgets/base",
            "_model_module_version": "1.2.0",
            "_model_name": "LayoutModel",
            "_view_count": null,
            "_view_module": "@jupyter-widgets/base",
            "_view_module_version": "1.2.0",
            "_view_name": "LayoutView",
            "align_content": null,
            "align_items": null,
            "align_self": null,
            "border": null,
            "bottom": null,
            "display": null,
            "flex": null,
            "flex_flow": null,
            "grid_area": null,
            "grid_auto_columns": null,
            "grid_auto_flow": null,
            "grid_auto_rows": null,
            "grid_column": null,
            "grid_gap": null,
            "grid_row": null,
            "grid_template_areas": null,
            "grid_template_columns": null,
            "grid_template_rows": null,
            "height": null,
            "justify_content": null,
            "justify_items": null,
            "left": null,
            "margin": null,
            "max_height": null,
            "max_width": null,
            "min_height": null,
            "min_width": null,
            "object_fit": null,
            "object_position": null,
            "order": null,
            "overflow": null,
            "overflow_x": null,
            "overflow_y": null,
            "padding": null,
            "right": null,
            "top": null,
            "visibility": null,
            "width": null
          }
        },
        "09bad300855d4750baf2b8ff6df40610": {
          "model_module": "@jupyter-widgets/controls",
          "model_name": "ProgressStyleModel",
          "model_module_version": "1.5.0",
          "state": {
            "_model_module": "@jupyter-widgets/controls",
            "_model_module_version": "1.5.0",
            "_model_name": "ProgressStyleModel",
            "_view_count": null,
            "_view_module": "@jupyter-widgets/base",
            "_view_module_version": "1.2.0",
            "_view_name": "StyleView",
            "bar_color": null,
            "description_width": ""
          }
        },
        "843efb47799a494886ec79fc31684fe5": {
          "model_module": "@jupyter-widgets/base",
          "model_name": "LayoutModel",
          "model_module_version": "1.2.0",
          "state": {
            "_model_module": "@jupyter-widgets/base",
            "_model_module_version": "1.2.0",
            "_model_name": "LayoutModel",
            "_view_count": null,
            "_view_module": "@jupyter-widgets/base",
            "_view_module_version": "1.2.0",
            "_view_name": "LayoutView",
            "align_content": null,
            "align_items": null,
            "align_self": null,
            "border": null,
            "bottom": null,
            "display": null,
            "flex": null,
            "flex_flow": null,
            "grid_area": null,
            "grid_auto_columns": null,
            "grid_auto_flow": null,
            "grid_auto_rows": null,
            "grid_column": null,
            "grid_gap": null,
            "grid_row": null,
            "grid_template_areas": null,
            "grid_template_columns": null,
            "grid_template_rows": null,
            "height": null,
            "justify_content": null,
            "justify_items": null,
            "left": null,
            "margin": null,
            "max_height": null,
            "max_width": null,
            "min_height": null,
            "min_width": null,
            "object_fit": null,
            "object_position": null,
            "order": null,
            "overflow": null,
            "overflow_x": null,
            "overflow_y": null,
            "padding": null,
            "right": null,
            "top": null,
            "visibility": null,
            "width": null
          }
        },
        "25a7b2d1e62e482fb583e52157e68024": {
          "model_module": "@jupyter-widgets/controls",
          "model_name": "DescriptionStyleModel",
          "model_module_version": "1.5.0",
          "state": {
            "_model_module": "@jupyter-widgets/controls",
            "_model_module_version": "1.5.0",
            "_model_name": "DescriptionStyleModel",
            "_view_count": null,
            "_view_module": "@jupyter-widgets/base",
            "_view_module_version": "1.2.0",
            "_view_name": "StyleView",
            "description_width": ""
          }
        },
        "f35adbb09d114238bf04d3bb7624278a": {
          "model_module": "@jupyter-widgets/controls",
          "model_name": "HBoxModel",
          "model_module_version": "1.5.0",
          "state": {
            "_dom_classes": [],
            "_model_module": "@jupyter-widgets/controls",
            "_model_module_version": "1.5.0",
            "_model_name": "HBoxModel",
            "_view_count": null,
            "_view_module": "@jupyter-widgets/controls",
            "_view_module_version": "1.5.0",
            "_view_name": "HBoxView",
            "box_style": "",
            "children": [
              "IPY_MODEL_3fe8805f3dd3454b9a5a3fa4f9d37234",
              "IPY_MODEL_1d773c2fb8d04618ae1f535909605c23",
              "IPY_MODEL_cee689d2e66c4406b19ad7e28fe7a8ff"
            ],
            "layout": "IPY_MODEL_51e0a4585bfd46deb3ccfc846f0412f4"
          }
        },
        "3fe8805f3dd3454b9a5a3fa4f9d37234": {
          "model_module": "@jupyter-widgets/controls",
          "model_name": "HTMLModel",
          "model_module_version": "1.5.0",
          "state": {
            "_dom_classes": [],
            "_model_module": "@jupyter-widgets/controls",
            "_model_module_version": "1.5.0",
            "_model_name": "HTMLModel",
            "_view_count": null,
            "_view_module": "@jupyter-widgets/controls",
            "_view_module_version": "1.5.0",
            "_view_name": "HTMLView",
            "description": "",
            "description_tooltip": null,
            "layout": "IPY_MODEL_73960eba1a1e461c92df1d57edcd5fe0",
            "placeholder": "​",
            "style": "IPY_MODEL_c3776de518ff4a56974a7099cab9d568",
            "value": "100%"
          }
        },
        "1d773c2fb8d04618ae1f535909605c23": {
          "model_module": "@jupyter-widgets/controls",
          "model_name": "FloatProgressModel",
          "model_module_version": "1.5.0",
          "state": {
            "_dom_classes": [],
            "_model_module": "@jupyter-widgets/controls",
            "_model_module_version": "1.5.0",
            "_model_name": "FloatProgressModel",
            "_view_count": null,
            "_view_module": "@jupyter-widgets/controls",
            "_view_module_version": "1.5.0",
            "_view_name": "ProgressView",
            "bar_style": "success",
            "description": "",
            "description_tooltip": null,
            "layout": "IPY_MODEL_2512916a94494a35b5b0591c1d53dc21",
            "max": 5148,
            "min": 0,
            "orientation": "horizontal",
            "style": "IPY_MODEL_5cc2cd1b55b340a6897b73bf43cf53b2",
            "value": 5148
          }
        },
        "cee689d2e66c4406b19ad7e28fe7a8ff": {
          "model_module": "@jupyter-widgets/controls",
          "model_name": "HTMLModel",
          "model_module_version": "1.5.0",
          "state": {
            "_dom_classes": [],
            "_model_module": "@jupyter-widgets/controls",
            "_model_module_version": "1.5.0",
            "_model_name": "HTMLModel",
            "_view_count": null,
            "_view_module": "@jupyter-widgets/controls",
            "_view_module_version": "1.5.0",
            "_view_name": "HTMLView",
            "description": "",
            "description_tooltip": null,
            "layout": "IPY_MODEL_0b1c5d2b708648e4802db76e278b3ab6",
            "placeholder": "​",
            "style": "IPY_MODEL_a943dbfd4223411d9359817e98082638",
            "value": " 5148/5148 [00:00&lt;00:00, 132677.96it/s]"
          }
        },
        "51e0a4585bfd46deb3ccfc846f0412f4": {
          "model_module": "@jupyter-widgets/base",
          "model_name": "LayoutModel",
          "model_module_version": "1.2.0",
          "state": {
            "_model_module": "@jupyter-widgets/base",
            "_model_module_version": "1.2.0",
            "_model_name": "LayoutModel",
            "_view_count": null,
            "_view_module": "@jupyter-widgets/base",
            "_view_module_version": "1.2.0",
            "_view_name": "LayoutView",
            "align_content": null,
            "align_items": null,
            "align_self": null,
            "border": null,
            "bottom": null,
            "display": null,
            "flex": null,
            "flex_flow": null,
            "grid_area": null,
            "grid_auto_columns": null,
            "grid_auto_flow": null,
            "grid_auto_rows": null,
            "grid_column": null,
            "grid_gap": null,
            "grid_row": null,
            "grid_template_areas": null,
            "grid_template_columns": null,
            "grid_template_rows": null,
            "height": null,
            "justify_content": null,
            "justify_items": null,
            "left": null,
            "margin": null,
            "max_height": null,
            "max_width": null,
            "min_height": null,
            "min_width": null,
            "object_fit": null,
            "object_position": null,
            "order": null,
            "overflow": null,
            "overflow_x": null,
            "overflow_y": null,
            "padding": null,
            "right": null,
            "top": null,
            "visibility": null,
            "width": null
          }
        },
        "73960eba1a1e461c92df1d57edcd5fe0": {
          "model_module": "@jupyter-widgets/base",
          "model_name": "LayoutModel",
          "model_module_version": "1.2.0",
          "state": {
            "_model_module": "@jupyter-widgets/base",
            "_model_module_version": "1.2.0",
            "_model_name": "LayoutModel",
            "_view_count": null,
            "_view_module": "@jupyter-widgets/base",
            "_view_module_version": "1.2.0",
            "_view_name": "LayoutView",
            "align_content": null,
            "align_items": null,
            "align_self": null,
            "border": null,
            "bottom": null,
            "display": null,
            "flex": null,
            "flex_flow": null,
            "grid_area": null,
            "grid_auto_columns": null,
            "grid_auto_flow": null,
            "grid_auto_rows": null,
            "grid_column": null,
            "grid_gap": null,
            "grid_row": null,
            "grid_template_areas": null,
            "grid_template_columns": null,
            "grid_template_rows": null,
            "height": null,
            "justify_content": null,
            "justify_items": null,
            "left": null,
            "margin": null,
            "max_height": null,
            "max_width": null,
            "min_height": null,
            "min_width": null,
            "object_fit": null,
            "object_position": null,
            "order": null,
            "overflow": null,
            "overflow_x": null,
            "overflow_y": null,
            "padding": null,
            "right": null,
            "top": null,
            "visibility": null,
            "width": null
          }
        },
        "c3776de518ff4a56974a7099cab9d568": {
          "model_module": "@jupyter-widgets/controls",
          "model_name": "DescriptionStyleModel",
          "model_module_version": "1.5.0",
          "state": {
            "_model_module": "@jupyter-widgets/controls",
            "_model_module_version": "1.5.0",
            "_model_name": "DescriptionStyleModel",
            "_view_count": null,
            "_view_module": "@jupyter-widgets/base",
            "_view_module_version": "1.2.0",
            "_view_name": "StyleView",
            "description_width": ""
          }
        },
        "2512916a94494a35b5b0591c1d53dc21": {
          "model_module": "@jupyter-widgets/base",
          "model_name": "LayoutModel",
          "model_module_version": "1.2.0",
          "state": {
            "_model_module": "@jupyter-widgets/base",
            "_model_module_version": "1.2.0",
            "_model_name": "LayoutModel",
            "_view_count": null,
            "_view_module": "@jupyter-widgets/base",
            "_view_module_version": "1.2.0",
            "_view_name": "LayoutView",
            "align_content": null,
            "align_items": null,
            "align_self": null,
            "border": null,
            "bottom": null,
            "display": null,
            "flex": null,
            "flex_flow": null,
            "grid_area": null,
            "grid_auto_columns": null,
            "grid_auto_flow": null,
            "grid_auto_rows": null,
            "grid_column": null,
            "grid_gap": null,
            "grid_row": null,
            "grid_template_areas": null,
            "grid_template_columns": null,
            "grid_template_rows": null,
            "height": null,
            "justify_content": null,
            "justify_items": null,
            "left": null,
            "margin": null,
            "max_height": null,
            "max_width": null,
            "min_height": null,
            "min_width": null,
            "object_fit": null,
            "object_position": null,
            "order": null,
            "overflow": null,
            "overflow_x": null,
            "overflow_y": null,
            "padding": null,
            "right": null,
            "top": null,
            "visibility": null,
            "width": null
          }
        },
        "5cc2cd1b55b340a6897b73bf43cf53b2": {
          "model_module": "@jupyter-widgets/controls",
          "model_name": "ProgressStyleModel",
          "model_module_version": "1.5.0",
          "state": {
            "_model_module": "@jupyter-widgets/controls",
            "_model_module_version": "1.5.0",
            "_model_name": "ProgressStyleModel",
            "_view_count": null,
            "_view_module": "@jupyter-widgets/base",
            "_view_module_version": "1.2.0",
            "_view_name": "StyleView",
            "bar_color": null,
            "description_width": ""
          }
        },
        "0b1c5d2b708648e4802db76e278b3ab6": {
          "model_module": "@jupyter-widgets/base",
          "model_name": "LayoutModel",
          "model_module_version": "1.2.0",
          "state": {
            "_model_module": "@jupyter-widgets/base",
            "_model_module_version": "1.2.0",
            "_model_name": "LayoutModel",
            "_view_count": null,
            "_view_module": "@jupyter-widgets/base",
            "_view_module_version": "1.2.0",
            "_view_name": "LayoutView",
            "align_content": null,
            "align_items": null,
            "align_self": null,
            "border": null,
            "bottom": null,
            "display": null,
            "flex": null,
            "flex_flow": null,
            "grid_area": null,
            "grid_auto_columns": null,
            "grid_auto_flow": null,
            "grid_auto_rows": null,
            "grid_column": null,
            "grid_gap": null,
            "grid_row": null,
            "grid_template_areas": null,
            "grid_template_columns": null,
            "grid_template_rows": null,
            "height": null,
            "justify_content": null,
            "justify_items": null,
            "left": null,
            "margin": null,
            "max_height": null,
            "max_width": null,
            "min_height": null,
            "min_width": null,
            "object_fit": null,
            "object_position": null,
            "order": null,
            "overflow": null,
            "overflow_x": null,
            "overflow_y": null,
            "padding": null,
            "right": null,
            "top": null,
            "visibility": null,
            "width": null
          }
        },
        "a943dbfd4223411d9359817e98082638": {
          "model_module": "@jupyter-widgets/controls",
          "model_name": "DescriptionStyleModel",
          "model_module_version": "1.5.0",
          "state": {
            "_model_module": "@jupyter-widgets/controls",
            "_model_module_version": "1.5.0",
            "_model_name": "DescriptionStyleModel",
            "_view_count": null,
            "_view_module": "@jupyter-widgets/base",
            "_view_module_version": "1.2.0",
            "_view_name": "StyleView",
            "description_width": ""
          }
        }
      }
    }
  },
  "nbformat": 4,
  "nbformat_minor": 0
}