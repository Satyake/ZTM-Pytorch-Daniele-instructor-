{
  "nbformat": 4,
  "nbformat_minor": 0,
  "metadata": {
    "colab": {
      "provenance": [],
      "authorship_tag": "ABX9TyPE+NrVN0by3HquhWRKD6n7",
      "include_colab_link": true
    },
    "kernelspec": {
      "name": "python3",
      "display_name": "Python 3"
    },
    "language_info": {
      "name": "python"
    },
    "accelerator": "GPU",
    "gpuClass": "standard"
  },
  "cells": [
    {
      "cell_type": "markdown",
      "metadata": {
        "id": "view-in-github",
        "colab_type": "text"
      },
      "source": [
        "<a href=\"https://colab.research.google.com/github/Satyake/ZTM-Pytorch-Daniele-instructor-/blob/main/Classification_PT.ipynb\" target=\"_parent\"><img src=\"https://colab.research.google.com/assets/colab-badge.svg\" alt=\"Open In Colab\"/></a>"
      ]
    },
    {
      "cell_type": "code",
      "execution_count": 6,
      "metadata": {
        "id": "XOWtTUwQ5LBF"
      },
      "outputs": [],
      "source": [
        "device='cuda' if torch.cuda.is_available() else 'cpu'"
      ]
    },
    {
      "cell_type": "code",
      "source": [
        "import torch\n",
        "import pandas as pd \n",
        "data=pd.read_csv('/content/heart_failure_clinical_records_dataset.csv')"
      ],
      "metadata": {
        "colab": {
          "base_uri": "https://localhost:8080/",
          "height": 380
        },
        "id": "O6HlTEA2LIVN",
        "outputId": "e9721bc9-4f01-437c-f6c0-1a09435fdf65"
      },
      "execution_count": 7,
      "outputs": [
        {
          "output_type": "error",
          "ename": "FileNotFoundError",
          "evalue": "ignored",
          "traceback": [
            "\u001b[0;31m---------------------------------------------------------------------------\u001b[0m",
            "\u001b[0;31mFileNotFoundError\u001b[0m                         Traceback (most recent call last)",
            "\u001b[0;32m<ipython-input-7-44cc11a3011f>\u001b[0m in \u001b[0;36m<module>\u001b[0;34m\u001b[0m\n\u001b[1;32m      1\u001b[0m \u001b[0;32mimport\u001b[0m \u001b[0mtorch\u001b[0m\u001b[0;34m\u001b[0m\u001b[0;34m\u001b[0m\u001b[0m\n\u001b[1;32m      2\u001b[0m \u001b[0;32mimport\u001b[0m \u001b[0mpandas\u001b[0m \u001b[0;32mas\u001b[0m \u001b[0mpd\u001b[0m\u001b[0;34m\u001b[0m\u001b[0;34m\u001b[0m\u001b[0m\n\u001b[0;32m----> 3\u001b[0;31m \u001b[0mdata\u001b[0m\u001b[0;34m=\u001b[0m\u001b[0mpd\u001b[0m\u001b[0;34m.\u001b[0m\u001b[0mread_csv\u001b[0m\u001b[0;34m(\u001b[0m\u001b[0;34m'/content/heart_failure_clinical_records_dataset.csv'\u001b[0m\u001b[0;34m)\u001b[0m\u001b[0;34m\u001b[0m\u001b[0;34m\u001b[0m\u001b[0m\n\u001b[0m",
            "\u001b[0;32m/usr/local/lib/python3.8/dist-packages/pandas/util/_decorators.py\u001b[0m in \u001b[0;36mwrapper\u001b[0;34m(*args, **kwargs)\u001b[0m\n\u001b[1;32m    309\u001b[0m                     \u001b[0mstacklevel\u001b[0m\u001b[0;34m=\u001b[0m\u001b[0mstacklevel\u001b[0m\u001b[0;34m,\u001b[0m\u001b[0;34m\u001b[0m\u001b[0;34m\u001b[0m\u001b[0m\n\u001b[1;32m    310\u001b[0m                 )\n\u001b[0;32m--> 311\u001b[0;31m             \u001b[0;32mreturn\u001b[0m \u001b[0mfunc\u001b[0m\u001b[0;34m(\u001b[0m\u001b[0;34m*\u001b[0m\u001b[0margs\u001b[0m\u001b[0;34m,\u001b[0m \u001b[0;34m**\u001b[0m\u001b[0mkwargs\u001b[0m\u001b[0;34m)\u001b[0m\u001b[0;34m\u001b[0m\u001b[0;34m\u001b[0m\u001b[0m\n\u001b[0m\u001b[1;32m    312\u001b[0m \u001b[0;34m\u001b[0m\u001b[0m\n\u001b[1;32m    313\u001b[0m         \u001b[0;32mreturn\u001b[0m \u001b[0mwrapper\u001b[0m\u001b[0;34m\u001b[0m\u001b[0;34m\u001b[0m\u001b[0m\n",
            "\u001b[0;32m/usr/local/lib/python3.8/dist-packages/pandas/io/parsers/readers.py\u001b[0m in \u001b[0;36mread_csv\u001b[0;34m(filepath_or_buffer, sep, delimiter, header, names, index_col, usecols, squeeze, prefix, mangle_dupe_cols, dtype, engine, converters, true_values, false_values, skipinitialspace, skiprows, skipfooter, nrows, na_values, keep_default_na, na_filter, verbose, skip_blank_lines, parse_dates, infer_datetime_format, keep_date_col, date_parser, dayfirst, cache_dates, iterator, chunksize, compression, thousands, decimal, lineterminator, quotechar, quoting, doublequote, escapechar, comment, encoding, encoding_errors, dialect, error_bad_lines, warn_bad_lines, on_bad_lines, delim_whitespace, low_memory, memory_map, float_precision, storage_options)\u001b[0m\n\u001b[1;32m    584\u001b[0m     \u001b[0mkwds\u001b[0m\u001b[0;34m.\u001b[0m\u001b[0mupdate\u001b[0m\u001b[0;34m(\u001b[0m\u001b[0mkwds_defaults\u001b[0m\u001b[0;34m)\u001b[0m\u001b[0;34m\u001b[0m\u001b[0;34m\u001b[0m\u001b[0m\n\u001b[1;32m    585\u001b[0m \u001b[0;34m\u001b[0m\u001b[0m\n\u001b[0;32m--> 586\u001b[0;31m     \u001b[0;32mreturn\u001b[0m \u001b[0m_read\u001b[0m\u001b[0;34m(\u001b[0m\u001b[0mfilepath_or_buffer\u001b[0m\u001b[0;34m,\u001b[0m \u001b[0mkwds\u001b[0m\u001b[0;34m)\u001b[0m\u001b[0;34m\u001b[0m\u001b[0;34m\u001b[0m\u001b[0m\n\u001b[0m\u001b[1;32m    587\u001b[0m \u001b[0;34m\u001b[0m\u001b[0m\n\u001b[1;32m    588\u001b[0m \u001b[0;34m\u001b[0m\u001b[0m\n",
            "\u001b[0;32m/usr/local/lib/python3.8/dist-packages/pandas/io/parsers/readers.py\u001b[0m in \u001b[0;36m_read\u001b[0;34m(filepath_or_buffer, kwds)\u001b[0m\n\u001b[1;32m    480\u001b[0m \u001b[0;34m\u001b[0m\u001b[0m\n\u001b[1;32m    481\u001b[0m     \u001b[0;31m# Create the parser.\u001b[0m\u001b[0;34m\u001b[0m\u001b[0;34m\u001b[0m\u001b[0;34m\u001b[0m\u001b[0m\n\u001b[0;32m--> 482\u001b[0;31m     \u001b[0mparser\u001b[0m \u001b[0;34m=\u001b[0m \u001b[0mTextFileReader\u001b[0m\u001b[0;34m(\u001b[0m\u001b[0mfilepath_or_buffer\u001b[0m\u001b[0;34m,\u001b[0m \u001b[0;34m**\u001b[0m\u001b[0mkwds\u001b[0m\u001b[0;34m)\u001b[0m\u001b[0;34m\u001b[0m\u001b[0;34m\u001b[0m\u001b[0m\n\u001b[0m\u001b[1;32m    483\u001b[0m \u001b[0;34m\u001b[0m\u001b[0m\n\u001b[1;32m    484\u001b[0m     \u001b[0;32mif\u001b[0m \u001b[0mchunksize\u001b[0m \u001b[0;32mor\u001b[0m \u001b[0miterator\u001b[0m\u001b[0;34m:\u001b[0m\u001b[0;34m\u001b[0m\u001b[0;34m\u001b[0m\u001b[0m\n",
            "\u001b[0;32m/usr/local/lib/python3.8/dist-packages/pandas/io/parsers/readers.py\u001b[0m in \u001b[0;36m__init__\u001b[0;34m(self, f, engine, **kwds)\u001b[0m\n\u001b[1;32m    809\u001b[0m             \u001b[0mself\u001b[0m\u001b[0;34m.\u001b[0m\u001b[0moptions\u001b[0m\u001b[0;34m[\u001b[0m\u001b[0;34m\"has_index_names\"\u001b[0m\u001b[0;34m]\u001b[0m \u001b[0;34m=\u001b[0m \u001b[0mkwds\u001b[0m\u001b[0;34m[\u001b[0m\u001b[0;34m\"has_index_names\"\u001b[0m\u001b[0;34m]\u001b[0m\u001b[0;34m\u001b[0m\u001b[0;34m\u001b[0m\u001b[0m\n\u001b[1;32m    810\u001b[0m \u001b[0;34m\u001b[0m\u001b[0m\n\u001b[0;32m--> 811\u001b[0;31m         \u001b[0mself\u001b[0m\u001b[0;34m.\u001b[0m\u001b[0m_engine\u001b[0m \u001b[0;34m=\u001b[0m \u001b[0mself\u001b[0m\u001b[0;34m.\u001b[0m\u001b[0m_make_engine\u001b[0m\u001b[0;34m(\u001b[0m\u001b[0mself\u001b[0m\u001b[0;34m.\u001b[0m\u001b[0mengine\u001b[0m\u001b[0;34m)\u001b[0m\u001b[0;34m\u001b[0m\u001b[0;34m\u001b[0m\u001b[0m\n\u001b[0m\u001b[1;32m    812\u001b[0m \u001b[0;34m\u001b[0m\u001b[0m\n\u001b[1;32m    813\u001b[0m     \u001b[0;32mdef\u001b[0m \u001b[0mclose\u001b[0m\u001b[0;34m(\u001b[0m\u001b[0mself\u001b[0m\u001b[0;34m)\u001b[0m\u001b[0;34m:\u001b[0m\u001b[0;34m\u001b[0m\u001b[0;34m\u001b[0m\u001b[0m\n",
            "\u001b[0;32m/usr/local/lib/python3.8/dist-packages/pandas/io/parsers/readers.py\u001b[0m in \u001b[0;36m_make_engine\u001b[0;34m(self, engine)\u001b[0m\n\u001b[1;32m   1038\u001b[0m             )\n\u001b[1;32m   1039\u001b[0m         \u001b[0;31m# error: Too many arguments for \"ParserBase\"\u001b[0m\u001b[0;34m\u001b[0m\u001b[0;34m\u001b[0m\u001b[0;34m\u001b[0m\u001b[0m\n\u001b[0;32m-> 1040\u001b[0;31m         \u001b[0;32mreturn\u001b[0m \u001b[0mmapping\u001b[0m\u001b[0;34m[\u001b[0m\u001b[0mengine\u001b[0m\u001b[0;34m]\u001b[0m\u001b[0;34m(\u001b[0m\u001b[0mself\u001b[0m\u001b[0;34m.\u001b[0m\u001b[0mf\u001b[0m\u001b[0;34m,\u001b[0m \u001b[0;34m**\u001b[0m\u001b[0mself\u001b[0m\u001b[0;34m.\u001b[0m\u001b[0moptions\u001b[0m\u001b[0;34m)\u001b[0m  \u001b[0;31m# type: ignore[call-arg]\u001b[0m\u001b[0;34m\u001b[0m\u001b[0;34m\u001b[0m\u001b[0m\n\u001b[0m\u001b[1;32m   1041\u001b[0m \u001b[0;34m\u001b[0m\u001b[0m\n\u001b[1;32m   1042\u001b[0m     \u001b[0;32mdef\u001b[0m \u001b[0m_failover_to_python\u001b[0m\u001b[0;34m(\u001b[0m\u001b[0mself\u001b[0m\u001b[0;34m)\u001b[0m\u001b[0;34m:\u001b[0m\u001b[0;34m\u001b[0m\u001b[0;34m\u001b[0m\u001b[0m\n",
            "\u001b[0;32m/usr/local/lib/python3.8/dist-packages/pandas/io/parsers/c_parser_wrapper.py\u001b[0m in \u001b[0;36m__init__\u001b[0;34m(self, src, **kwds)\u001b[0m\n\u001b[1;32m     49\u001b[0m \u001b[0;34m\u001b[0m\u001b[0m\n\u001b[1;32m     50\u001b[0m         \u001b[0;31m# open handles\u001b[0m\u001b[0;34m\u001b[0m\u001b[0;34m\u001b[0m\u001b[0;34m\u001b[0m\u001b[0m\n\u001b[0;32m---> 51\u001b[0;31m         \u001b[0mself\u001b[0m\u001b[0;34m.\u001b[0m\u001b[0m_open_handles\u001b[0m\u001b[0;34m(\u001b[0m\u001b[0msrc\u001b[0m\u001b[0;34m,\u001b[0m \u001b[0mkwds\u001b[0m\u001b[0;34m)\u001b[0m\u001b[0;34m\u001b[0m\u001b[0;34m\u001b[0m\u001b[0m\n\u001b[0m\u001b[1;32m     52\u001b[0m         \u001b[0;32massert\u001b[0m \u001b[0mself\u001b[0m\u001b[0;34m.\u001b[0m\u001b[0mhandles\u001b[0m \u001b[0;32mis\u001b[0m \u001b[0;32mnot\u001b[0m \u001b[0;32mNone\u001b[0m\u001b[0;34m\u001b[0m\u001b[0;34m\u001b[0m\u001b[0m\n\u001b[1;32m     53\u001b[0m \u001b[0;34m\u001b[0m\u001b[0m\n",
            "\u001b[0;32m/usr/local/lib/python3.8/dist-packages/pandas/io/parsers/base_parser.py\u001b[0m in \u001b[0;36m_open_handles\u001b[0;34m(self, src, kwds)\u001b[0m\n\u001b[1;32m    220\u001b[0m         \u001b[0mLet\u001b[0m \u001b[0mthe\u001b[0m \u001b[0mreaders\u001b[0m \u001b[0mopen\u001b[0m \u001b[0mIOHandles\u001b[0m \u001b[0mafter\u001b[0m \u001b[0mthey\u001b[0m \u001b[0mare\u001b[0m \u001b[0mdone\u001b[0m \u001b[0;32mwith\u001b[0m \u001b[0mtheir\u001b[0m \u001b[0mpotential\u001b[0m \u001b[0mraises\u001b[0m\u001b[0;34m.\u001b[0m\u001b[0;34m\u001b[0m\u001b[0;34m\u001b[0m\u001b[0m\n\u001b[1;32m    221\u001b[0m         \"\"\"\n\u001b[0;32m--> 222\u001b[0;31m         self.handles = get_handle(\n\u001b[0m\u001b[1;32m    223\u001b[0m             \u001b[0msrc\u001b[0m\u001b[0;34m,\u001b[0m\u001b[0;34m\u001b[0m\u001b[0;34m\u001b[0m\u001b[0m\n\u001b[1;32m    224\u001b[0m             \u001b[0;34m\"r\"\u001b[0m\u001b[0;34m,\u001b[0m\u001b[0;34m\u001b[0m\u001b[0;34m\u001b[0m\u001b[0m\n",
            "\u001b[0;32m/usr/local/lib/python3.8/dist-packages/pandas/io/common.py\u001b[0m in \u001b[0;36mget_handle\u001b[0;34m(path_or_buf, mode, encoding, compression, memory_map, is_text, errors, storage_options)\u001b[0m\n\u001b[1;32m    700\u001b[0m         \u001b[0;32mif\u001b[0m \u001b[0mioargs\u001b[0m\u001b[0;34m.\u001b[0m\u001b[0mencoding\u001b[0m \u001b[0;32mand\u001b[0m \u001b[0;34m\"b\"\u001b[0m \u001b[0;32mnot\u001b[0m \u001b[0;32min\u001b[0m \u001b[0mioargs\u001b[0m\u001b[0;34m.\u001b[0m\u001b[0mmode\u001b[0m\u001b[0;34m:\u001b[0m\u001b[0;34m\u001b[0m\u001b[0;34m\u001b[0m\u001b[0m\n\u001b[1;32m    701\u001b[0m             \u001b[0;31m# Encoding\u001b[0m\u001b[0;34m\u001b[0m\u001b[0;34m\u001b[0m\u001b[0;34m\u001b[0m\u001b[0m\n\u001b[0;32m--> 702\u001b[0;31m             handle = open(\n\u001b[0m\u001b[1;32m    703\u001b[0m                 \u001b[0mhandle\u001b[0m\u001b[0;34m,\u001b[0m\u001b[0;34m\u001b[0m\u001b[0;34m\u001b[0m\u001b[0m\n\u001b[1;32m    704\u001b[0m                 \u001b[0mioargs\u001b[0m\u001b[0;34m.\u001b[0m\u001b[0mmode\u001b[0m\u001b[0;34m,\u001b[0m\u001b[0;34m\u001b[0m\u001b[0;34m\u001b[0m\u001b[0m\n",
            "\u001b[0;31mFileNotFoundError\u001b[0m: [Errno 2] No such file or directory: '/content/heart_failure_clinical_records_dataset.csv'"
          ]
        }
      ]
    },
    {
      "cell_type": "code",
      "source": [
        "data.head(1)"
      ],
      "metadata": {
        "colab": {
          "base_uri": "https://localhost:8080/",
          "height": 145
        },
        "id": "AkBF09JB6Gt2",
        "outputId": "8be0701f-4c7a-47a3-fc0c-474f0af81945"
      },
      "execution_count": 5,
      "outputs": [
        {
          "output_type": "execute_result",
          "data": {
            "text/plain": [
              "    age  anaemia  creatinine_phosphokinase  diabetes  ejection_fraction  \\\n",
              "0  75.0        0                       582         0                 20   \n",
              "\n",
              "   high_blood_pressure  platelets  serum_creatinine  serum_sodium  sex  \\\n",
              "0                    1   265000.0               1.9           130    1   \n",
              "\n",
              "   smoking  time  DEATH_EVENT  \n",
              "0        0     4            1  "
            ],
            "text/html": [
              "\n",
              "  <div id=\"df-0cd5ebe2-0b95-4dc3-afd4-d7aa6c8c3d4d\">\n",
              "    <div class=\"colab-df-container\">\n",
              "      <div>\n",
              "<style scoped>\n",
              "    .dataframe tbody tr th:only-of-type {\n",
              "        vertical-align: middle;\n",
              "    }\n",
              "\n",
              "    .dataframe tbody tr th {\n",
              "        vertical-align: top;\n",
              "    }\n",
              "\n",
              "    .dataframe thead th {\n",
              "        text-align: right;\n",
              "    }\n",
              "</style>\n",
              "<table border=\"1\" class=\"dataframe\">\n",
              "  <thead>\n",
              "    <tr style=\"text-align: right;\">\n",
              "      <th></th>\n",
              "      <th>age</th>\n",
              "      <th>anaemia</th>\n",
              "      <th>creatinine_phosphokinase</th>\n",
              "      <th>diabetes</th>\n",
              "      <th>ejection_fraction</th>\n",
              "      <th>high_blood_pressure</th>\n",
              "      <th>platelets</th>\n",
              "      <th>serum_creatinine</th>\n",
              "      <th>serum_sodium</th>\n",
              "      <th>sex</th>\n",
              "      <th>smoking</th>\n",
              "      <th>time</th>\n",
              "      <th>DEATH_EVENT</th>\n",
              "    </tr>\n",
              "  </thead>\n",
              "  <tbody>\n",
              "    <tr>\n",
              "      <th>0</th>\n",
              "      <td>75.0</td>\n",
              "      <td>0</td>\n",
              "      <td>582</td>\n",
              "      <td>0</td>\n",
              "      <td>20</td>\n",
              "      <td>1</td>\n",
              "      <td>265000.0</td>\n",
              "      <td>1.9</td>\n",
              "      <td>130</td>\n",
              "      <td>1</td>\n",
              "      <td>0</td>\n",
              "      <td>4</td>\n",
              "      <td>1</td>\n",
              "    </tr>\n",
              "  </tbody>\n",
              "</table>\n",
              "</div>\n",
              "      <button class=\"colab-df-convert\" onclick=\"convertToInteractive('df-0cd5ebe2-0b95-4dc3-afd4-d7aa6c8c3d4d')\"\n",
              "              title=\"Convert this dataframe to an interactive table.\"\n",
              "              style=\"display:none;\">\n",
              "        \n",
              "  <svg xmlns=\"http://www.w3.org/2000/svg\" height=\"24px\"viewBox=\"0 0 24 24\"\n",
              "       width=\"24px\">\n",
              "    <path d=\"M0 0h24v24H0V0z\" fill=\"none\"/>\n",
              "    <path d=\"M18.56 5.44l.94 2.06.94-2.06 2.06-.94-2.06-.94-.94-2.06-.94 2.06-2.06.94zm-11 1L8.5 8.5l.94-2.06 2.06-.94-2.06-.94L8.5 2.5l-.94 2.06-2.06.94zm10 10l.94 2.06.94-2.06 2.06-.94-2.06-.94-.94-2.06-.94 2.06-2.06.94z\"/><path d=\"M17.41 7.96l-1.37-1.37c-.4-.4-.92-.59-1.43-.59-.52 0-1.04.2-1.43.59L10.3 9.45l-7.72 7.72c-.78.78-.78 2.05 0 2.83L4 21.41c.39.39.9.59 1.41.59.51 0 1.02-.2 1.41-.59l7.78-7.78 2.81-2.81c.8-.78.8-2.07 0-2.86zM5.41 20L4 18.59l7.72-7.72 1.47 1.35L5.41 20z\"/>\n",
              "  </svg>\n",
              "      </button>\n",
              "      \n",
              "  <style>\n",
              "    .colab-df-container {\n",
              "      display:flex;\n",
              "      flex-wrap:wrap;\n",
              "      gap: 12px;\n",
              "    }\n",
              "\n",
              "    .colab-df-convert {\n",
              "      background-color: #E8F0FE;\n",
              "      border: none;\n",
              "      border-radius: 50%;\n",
              "      cursor: pointer;\n",
              "      display: none;\n",
              "      fill: #1967D2;\n",
              "      height: 32px;\n",
              "      padding: 0 0 0 0;\n",
              "      width: 32px;\n",
              "    }\n",
              "\n",
              "    .colab-df-convert:hover {\n",
              "      background-color: #E2EBFA;\n",
              "      box-shadow: 0px 1px 2px rgba(60, 64, 67, 0.3), 0px 1px 3px 1px rgba(60, 64, 67, 0.15);\n",
              "      fill: #174EA6;\n",
              "    }\n",
              "\n",
              "    [theme=dark] .colab-df-convert {\n",
              "      background-color: #3B4455;\n",
              "      fill: #D2E3FC;\n",
              "    }\n",
              "\n",
              "    [theme=dark] .colab-df-convert:hover {\n",
              "      background-color: #434B5C;\n",
              "      box-shadow: 0px 1px 3px 1px rgba(0, 0, 0, 0.15);\n",
              "      filter: drop-shadow(0px 1px 2px rgba(0, 0, 0, 0.3));\n",
              "      fill: #FFFFFF;\n",
              "    }\n",
              "  </style>\n",
              "\n",
              "      <script>\n",
              "        const buttonEl =\n",
              "          document.querySelector('#df-0cd5ebe2-0b95-4dc3-afd4-d7aa6c8c3d4d button.colab-df-convert');\n",
              "        buttonEl.style.display =\n",
              "          google.colab.kernel.accessAllowed ? 'block' : 'none';\n",
              "\n",
              "        async function convertToInteractive(key) {\n",
              "          const element = document.querySelector('#df-0cd5ebe2-0b95-4dc3-afd4-d7aa6c8c3d4d');\n",
              "          const dataTable =\n",
              "            await google.colab.kernel.invokeFunction('convertToInteractive',\n",
              "                                                     [key], {});\n",
              "          if (!dataTable) return;\n",
              "\n",
              "          const docLinkHtml = 'Like what you see? Visit the ' +\n",
              "            '<a target=\"_blank\" href=https://colab.research.google.com/notebooks/data_table.ipynb>data table notebook</a>'\n",
              "            + ' to learn more about interactive tables.';\n",
              "          element.innerHTML = '';\n",
              "          dataTable['output_type'] = 'display_data';\n",
              "          await google.colab.output.renderOutput(dataTable, element);\n",
              "          const docLink = document.createElement('div');\n",
              "          docLink.innerHTML = docLinkHtml;\n",
              "          element.appendChild(docLink);\n",
              "        }\n",
              "      </script>\n",
              "    </div>\n",
              "  </div>\n",
              "  "
            ]
          },
          "metadata": {},
          "execution_count": 5
        }
      ]
    },
    {
      "cell_type": "code",
      "source": [
        "y=data.iloc[:,-1].values\n",
        "x=data.iloc[:,:-1].values"
      ],
      "metadata": {
        "id": "kDfRiNTj7NJ_"
      },
      "execution_count": 6,
      "outputs": []
    },
    {
      "cell_type": "code",
      "source": [
        "data['DEATH_EVENT'].value_counts()"
      ],
      "metadata": {
        "colab": {
          "base_uri": "https://localhost:8080/"
        },
        "id": "nldieJhHMlTl",
        "outputId": "35b10da1-4fea-4676-ff71-98c5c98e5185"
      },
      "execution_count": 7,
      "outputs": [
        {
          "output_type": "execute_result",
          "data": {
            "text/plain": [
              "0    203\n",
              "1     96\n",
              "Name: DEATH_EVENT, dtype: int64"
            ]
          },
          "metadata": {},
          "execution_count": 7
        }
      ]
    },
    {
      "cell_type": "code",
      "source": [
        "x=torch.from_numpy(x).type(torch.float32)\n",
        "y=torch.from_numpy(y).type(torch.float32)"
      ],
      "metadata": {
        "id": "Ypq3ddMv7iL2"
      },
      "execution_count": 8,
      "outputs": []
    },
    {
      "cell_type": "code",
      "source": [
        "x.shape,y.shape"
      ],
      "metadata": {
        "colab": {
          "base_uri": "https://localhost:8080/"
        },
        "id": "aYerbqmv7yGe",
        "outputId": "fdea5fef-bc18-4233-8cfa-ce99e981e044"
      },
      "execution_count": 9,
      "outputs": [
        {
          "output_type": "execute_result",
          "data": {
            "text/plain": [
              "(torch.Size([299, 12]), torch.Size([299]))"
            ]
          },
          "metadata": {},
          "execution_count": 9
        }
      ]
    },
    {
      "cell_type": "code",
      "source": [
        "from sklearn.model_selection import train_test_split\n",
        "x_train,x_test,y_train,y_test=train_test_split(x,y,test_size=0.2)"
      ],
      "metadata": {
        "id": "loCjnk7g73Sf"
      },
      "execution_count": 10,
      "outputs": []
    },
    {
      "cell_type": "code",
      "source": [
        "x_train.shape,y_train.shape\n",
        "x_test.shape,y_test.shape"
      ],
      "metadata": {
        "colab": {
          "base_uri": "https://localhost:8080/"
        },
        "id": "yDiz8-RP74FM",
        "outputId": "6656ab12-be5a-4e0e-c7f7-ae877a797129"
      },
      "execution_count": 11,
      "outputs": [
        {
          "output_type": "execute_result",
          "data": {
            "text/plain": [
              "(torch.Size([60, 12]), torch.Size([60]))"
            ]
          },
          "metadata": {},
          "execution_count": 11
        }
      ]
    },
    {
      "cell_type": "code",
      "source": [
        "#model\n",
        "device='cuda' if torch.cuda.is_available() else 'cpu'\n",
        "device"
      ],
      "metadata": {
        "id": "DbvoEk5t79kB",
        "colab": {
          "base_uri": "https://localhost:8080/",
          "height": 35
        },
        "outputId": "a95fbb9d-079b-491e-a37a-c35eed16cefb"
      },
      "execution_count": 12,
      "outputs": [
        {
          "output_type": "execute_result",
          "data": {
            "text/plain": [
              "'cuda'"
            ],
            "application/vnd.google.colaboratory.intrinsic+json": {
              "type": "string"
            }
          },
          "metadata": {},
          "execution_count": 12
        }
      ]
    },
    {
      "cell_type": "code",
      "source": [
        "x_train=x_train.to(device)\n",
        "y_train=y_train.to(device)"
      ],
      "metadata": {
        "id": "qvptUYcqyBGK"
      },
      "execution_count": 13,
      "outputs": []
    },
    {
      "cell_type": "code",
      "source": [
        "x_train.shape"
      ],
      "metadata": {
        "id": "llrYBlulyLtv",
        "outputId": "caed2558-bd9c-4aeb-b082-1a976c66d3b6",
        "colab": {
          "base_uri": "https://localhost:8080/"
        }
      },
      "execution_count": 14,
      "outputs": [
        {
          "output_type": "execute_result",
          "data": {
            "text/plain": [
              "torch.Size([239, 12])"
            ]
          },
          "metadata": {},
          "execution_count": 14
        }
      ]
    },
    {
      "cell_type": "code",
      "source": [
        "y_train"
      ],
      "metadata": {
        "colab": {
          "base_uri": "https://localhost:8080/"
        },
        "id": "cbrjGpPHRZlT",
        "outputId": "7f6e4bd3-82df-4563-b5f0-09bfafd70226"
      },
      "execution_count": 15,
      "outputs": [
        {
          "output_type": "execute_result",
          "data": {
            "text/plain": [
              "tensor([0., 1., 1., 0., 0., 0., 0., 1., 0., 0., 0., 0., 1., 0., 0., 0., 1., 1.,\n",
              "        0., 0., 0., 1., 0., 0., 0., 0., 0., 0., 0., 1., 0., 0., 0., 1., 0., 0.,\n",
              "        0., 0., 0., 1., 0., 1., 0., 0., 1., 0., 0., 1., 1., 0., 0., 0., 0., 0.,\n",
              "        1., 0., 1., 0., 0., 1., 0., 0., 1., 1., 0., 1., 1., 0., 0., 0., 0., 0.,\n",
              "        0., 0., 0., 0., 1., 0., 0., 0., 0., 0., 0., 1., 1., 0., 1., 0., 0., 1.,\n",
              "        1., 0., 0., 1., 1., 0., 0., 0., 1., 0., 0., 1., 0., 0., 0., 0., 1., 0.,\n",
              "        0., 1., 1., 1., 0., 0., 0., 0., 0., 0., 0., 0., 0., 0., 0., 0., 1., 0.,\n",
              "        0., 1., 1., 0., 1., 0., 0., 1., 0., 0., 0., 0., 1., 1., 0., 1., 1., 1.,\n",
              "        1., 0., 1., 0., 0., 0., 0., 1., 0., 0., 0., 0., 0., 0., 1., 1., 0., 0.,\n",
              "        0., 0., 0., 0., 1., 0., 0., 0., 1., 0., 1., 0., 0., 0., 1., 0., 1., 1.,\n",
              "        1., 1., 0., 0., 0., 0., 0., 0., 0., 0., 1., 0., 0., 0., 0., 0., 0., 1.,\n",
              "        1., 0., 1., 0., 0., 1., 0., 1., 1., 0., 0., 0., 0., 0., 0., 1., 1., 0.,\n",
              "        0., 1., 1., 0., 0., 0., 0., 0., 0., 0., 0., 0., 0., 0., 0., 0., 1., 1.,\n",
              "        1., 0., 0., 0., 0.], device='cuda:0')"
            ]
          },
          "metadata": {},
          "execution_count": 15
        }
      ]
    },
    {
      "cell_type": "code",
      "source": [
        "from torch import nn"
      ],
      "metadata": {
        "id": "cRaapGD2QJ3u"
      },
      "execution_count": 19,
      "outputs": []
    },
    {
      "cell_type": "code",
      "source": [
        "class NN(nn.Module):\n",
        "  def __init__(self):\n",
        "    super(). __init__()\n",
        "    self.l1=nn.Linear(in_features=12,out_features=100)\n",
        "    self.l2=nn.Linear(in_features=100,out_features=1)\n",
        "  def forward(self,x):\n",
        "    return self.l2(self.l1(x))\n"
      ],
      "metadata": {
        "id": "k0OMaMFhOcBM"
      },
      "execution_count": 20,
      "outputs": []
    },
    {
      "cell_type": "code",
      "source": [
        "def relu(x):\n",
        "  return torch.maximum(torch.tensor(0),x)"
      ],
      "metadata": {
        "id": "EXjpg5Im9FSb"
      },
      "execution_count": 41,
      "outputs": []
    },
    {
      "cell_type": "code",
      "source": [
        "class modelupgrade(nn.Module):\n",
        "  def __init__(self):\n",
        "    super().__init__()\n",
        "    self.l1=nn.Linear(in_features=12, out_features=10)\n",
        "    self.l2=nn.Linear(in_features=10,out_features=10)\n",
        "    self.l3=nn.Linear(in_features=10,out_features=1)\n",
        "    self.relu=nn.ReLU\n",
        "  def forward(self,x):\n",
        "    z=self.l1(x)\n",
        "    z=self.l2(z)\n",
        "    z=self.l3(z)\n",
        "    z=self.relu(x)\n",
        "    return z"
      ],
      "metadata": {
        "id": "iEfYhVsZf_0d"
      },
      "execution_count": 38,
      "outputs": []
    },
    {
      "cell_type": "code",
      "source": [
        "class model_nn_non_linear(nn.Module):\n",
        "  def __init__(self):\n",
        "    super().__init__()\n",
        "    self.l1=nn.Linear(in_features=12,out_features=)"
      ],
      "metadata": {
        "id": "3qowZOLqxlgB"
      },
      "execution_count": null,
      "outputs": []
    },
    {
      "cell_type": "code",
      "source": [
        "model_upgrade=modelupgrade()\n",
        "model_upgrade.to(device)"
      ],
      "metadata": {
        "colab": {
          "base_uri": "https://localhost:8080/"
        },
        "id": "rBsD8E6kg1zP",
        "outputId": "05201cfb-ed85-4619-b703-779fdd98baa7"
      },
      "execution_count": 39,
      "outputs": [
        {
          "output_type": "execute_result",
          "data": {
            "text/plain": [
              "modelupgrade(\n",
              "  (l1): Linear(in_features=12, out_features=10, bias=True)\n",
              "  (l2): Linear(in_features=10, out_features=10, bias=True)\n",
              "  (l3): Linear(in_features=10, out_features=1, bias=True)\n",
              ")"
            ]
          },
          "metadata": {},
          "execution_count": 39
        }
      ]
    },
    {
      "cell_type": "code",
      "source": [
        "device='cuda'\n",
        "model_nn=NN()\n",
        "model_nn.to(device)"
      ],
      "metadata": {
        "colab": {
          "base_uri": "https://localhost:8080/"
        },
        "id": "dH08MLQxQskP",
        "outputId": "97da793b-0726-451a-d71b-798b34e8629d"
      },
      "execution_count": 23,
      "outputs": [
        {
          "output_type": "execute_result",
          "data": {
            "text/plain": [
              "NN(\n",
              "  (l1): Linear(in_features=12, out_features=100, bias=True)\n",
              "  (l2): Linear(in_features=100, out_features=1, bias=True)\n",
              ")"
            ]
          },
          "metadata": {},
          "execution_count": 23
        }
      ]
    },
    {
      "cell_type": "code",
      "source": [
        "#replicate simpler\n",
        "model_nn_1= nn.Sequential(\n",
        "    nn.Linear(in_features=12,out_features=100),\n",
        "    nn.ReLU(),\n",
        "    nn.Linear(in_features=100,out_features=1)\n",
        "    )"
      ],
      "metadata": {
        "id": "WFlMslQ6RWX4"
      },
      "execution_count": 34,
      "outputs": []
    },
    {
      "cell_type": "code",
      "source": [
        "model_nn_1.to(device)"
      ],
      "metadata": {
        "id": "nIPDrNNfTBG4",
        "colab": {
          "base_uri": "https://localhost:8080/"
        },
        "outputId": "7fd86a56-861f-4d73-e2c9-0209c1b87ac2"
      },
      "execution_count": 35,
      "outputs": [
        {
          "output_type": "execute_result",
          "data": {
            "text/plain": [
              "Sequential(\n",
              "  (0): Linear(in_features=12, out_features=100, bias=True)\n",
              "  (1): ReLU()\n",
              "  (2): Linear(in_features=100, out_features=1, bias=True)\n",
              ")"
            ]
          },
          "metadata": {},
          "execution_count": 35
        }
      ]
    },
    {
      "cell_type": "code",
      "source": [
        "#model_nn(x_train)"
      ],
      "metadata": {
        "id": "K99joGinQ-wI"
      },
      "execution_count": null,
      "outputs": []
    },
    {
      "cell_type": "code",
      "source": [
        "loss_fn=nn.BCELoss() #requires inputs to have used sigmoid activation\n",
        "loss_fn=nn.BCEWithLogitsLoss()\n"
      ],
      "metadata": {
        "id": "Z9VaEnw_Dc88"
      },
      "execution_count": 26,
      "outputs": []
    },
    {
      "cell_type": "code",
      "source": [
        "optimizer=torch.optim.SGD(params=model_nn_1.parameters(),lr=0.001)"
      ],
      "metadata": {
        "id": "n_E19NJuGKbQ"
      },
      "execution_count": 29,
      "outputs": []
    },
    {
      "cell_type": "code",
      "source": [
        "#accuracy function\n",
        "def accuracy_fn(y_true, y_pred):\n",
        "  correct=torch.eq(y_true,y_pred).sum().item() # calculate no of items equal\n",
        "  acc=(correct/len(y_pred))*100\n",
        "  return acc"
      ],
      "metadata": {
        "id": "zRmXvy1PGZRn"
      },
      "execution_count": 27,
      "outputs": []
    },
    {
      "cell_type": "code",
      "source": [
        "next"
      ],
      "metadata": {
        "id": "_CssraWPIC5X"
      },
      "execution_count": null,
      "outputs": []
    },
    {
      "cell_type": "code",
      "source": [
        "#training the NN\n",
        "x_train,y_train=x_train.to(device),y_train.to(device)\n",
        "x_test,y_test=x_test.to(device),y_test.to(device)\n",
        "epochs=1000\n",
        "\n",
        "for e in range(epochs):\n",
        "  model_nn.train()\n",
        "  #forward pass\n",
        "  y_logits=model_nn_1(x_train).squeeze() #removing the extra dimension\n",
        "  y_pred=torch.round(torch.sigmoid(y_logits)) #turn logits to labels\n",
        "\n",
        "  #calculate loss\n",
        "  loss=loss_fn(y_logits,y_train) #nn.BCEwithLogitsLoss\n",
        "  acc=accuracy_fn(y_pred,y_train)\n",
        "   #optim\n",
        "  optimizer.zero_grad()\n",
        "   #loss\n",
        "  loss.backward()\n",
        "   #optim\n",
        "  optimizer.step()\n",
        "\n",
        "  model_nn.eval()\n",
        "  with torch.inference_mode():\n",
        "    test_logits=model_nn(x_test).squeeze()\n",
        "    test_pred=torch.round(torch.sigmoid(test_logits))\n",
        "    test_loss=loss_fn(test_logits,y_test)\n",
        "    test_acc=accuracy_fn(test_pred,y_test)\n",
        "    if e%10==0:\n",
        "      print(f\"Epoch {e} | Loss {loss} | Test Loss {test_loss} | Test Acc {test_acc} | Train Acc {acc}\")\n",
        "\n"
      ],
      "metadata": {
        "colab": {
          "base_uri": "https://localhost:8080/"
        },
        "id": "up3dLIvkGrqi",
        "outputId": "6c665f26-0b22-429b-88ac-8d48af58b631"
      },
      "execution_count": 40,
      "outputs": [
        {
          "output_type": "stream",
          "name": "stdout",
          "text": [
            "Epoch 0 | Loss 1079.8795166015625 | Test Loss 5399.05322265625 | Test Acc 40.0 | Train Acc 69.8744769874477\n",
            "Epoch 10 | Loss 1079.8795166015625 | Test Loss 5399.05322265625 | Test Acc 40.0 | Train Acc 69.8744769874477\n",
            "Epoch 20 | Loss 1079.8795166015625 | Test Loss 5399.05322265625 | Test Acc 40.0 | Train Acc 69.8744769874477\n",
            "Epoch 30 | Loss 1079.8795166015625 | Test Loss 5399.05322265625 | Test Acc 40.0 | Train Acc 69.8744769874477\n",
            "Epoch 40 | Loss 1079.8795166015625 | Test Loss 5399.05322265625 | Test Acc 40.0 | Train Acc 69.8744769874477\n",
            "Epoch 50 | Loss 1079.8795166015625 | Test Loss 5399.05322265625 | Test Acc 40.0 | Train Acc 69.8744769874477\n",
            "Epoch 60 | Loss 1079.8795166015625 | Test Loss 5399.05322265625 | Test Acc 40.0 | Train Acc 69.8744769874477\n",
            "Epoch 70 | Loss 1079.8795166015625 | Test Loss 5399.05322265625 | Test Acc 40.0 | Train Acc 69.8744769874477\n",
            "Epoch 80 | Loss 1079.8795166015625 | Test Loss 5399.05322265625 | Test Acc 40.0 | Train Acc 69.8744769874477\n",
            "Epoch 90 | Loss 1079.8795166015625 | Test Loss 5399.05322265625 | Test Acc 40.0 | Train Acc 69.8744769874477\n",
            "Epoch 100 | Loss 1079.8795166015625 | Test Loss 5399.05322265625 | Test Acc 40.0 | Train Acc 69.8744769874477\n",
            "Epoch 110 | Loss 1079.8795166015625 | Test Loss 5399.05322265625 | Test Acc 40.0 | Train Acc 69.8744769874477\n",
            "Epoch 120 | Loss 1079.8795166015625 | Test Loss 5399.05322265625 | Test Acc 40.0 | Train Acc 69.8744769874477\n",
            "Epoch 130 | Loss 1079.8795166015625 | Test Loss 5399.05322265625 | Test Acc 40.0 | Train Acc 69.8744769874477\n",
            "Epoch 140 | Loss 1079.8795166015625 | Test Loss 5399.05322265625 | Test Acc 40.0 | Train Acc 69.8744769874477\n",
            "Epoch 150 | Loss 1079.8795166015625 | Test Loss 5399.05322265625 | Test Acc 40.0 | Train Acc 69.8744769874477\n",
            "Epoch 160 | Loss 1079.8795166015625 | Test Loss 5399.05322265625 | Test Acc 40.0 | Train Acc 69.8744769874477\n",
            "Epoch 170 | Loss 1079.8795166015625 | Test Loss 5399.05322265625 | Test Acc 40.0 | Train Acc 69.8744769874477\n",
            "Epoch 180 | Loss 1079.8795166015625 | Test Loss 5399.05322265625 | Test Acc 40.0 | Train Acc 69.8744769874477\n",
            "Epoch 190 | Loss 1079.8795166015625 | Test Loss 5399.05322265625 | Test Acc 40.0 | Train Acc 69.8744769874477\n",
            "Epoch 200 | Loss 1079.8795166015625 | Test Loss 5399.05322265625 | Test Acc 40.0 | Train Acc 69.8744769874477\n",
            "Epoch 210 | Loss 1079.8795166015625 | Test Loss 5399.05322265625 | Test Acc 40.0 | Train Acc 69.8744769874477\n",
            "Epoch 220 | Loss 1079.8795166015625 | Test Loss 5399.05322265625 | Test Acc 40.0 | Train Acc 69.8744769874477\n",
            "Epoch 230 | Loss 1079.8795166015625 | Test Loss 5399.05322265625 | Test Acc 40.0 | Train Acc 69.8744769874477\n",
            "Epoch 240 | Loss 1079.8795166015625 | Test Loss 5399.05322265625 | Test Acc 40.0 | Train Acc 69.8744769874477\n",
            "Epoch 250 | Loss 1079.8795166015625 | Test Loss 5399.05322265625 | Test Acc 40.0 | Train Acc 69.8744769874477\n",
            "Epoch 260 | Loss 1079.8795166015625 | Test Loss 5399.05322265625 | Test Acc 40.0 | Train Acc 69.8744769874477\n",
            "Epoch 270 | Loss 1079.8795166015625 | Test Loss 5399.05322265625 | Test Acc 40.0 | Train Acc 69.8744769874477\n",
            "Epoch 280 | Loss 1079.8795166015625 | Test Loss 5399.05322265625 | Test Acc 40.0 | Train Acc 69.8744769874477\n",
            "Epoch 290 | Loss 1079.8795166015625 | Test Loss 5399.05322265625 | Test Acc 40.0 | Train Acc 69.8744769874477\n",
            "Epoch 300 | Loss 1079.8795166015625 | Test Loss 5399.05322265625 | Test Acc 40.0 | Train Acc 69.8744769874477\n",
            "Epoch 310 | Loss 1079.8795166015625 | Test Loss 5399.05322265625 | Test Acc 40.0 | Train Acc 69.8744769874477\n",
            "Epoch 320 | Loss 1079.8795166015625 | Test Loss 5399.05322265625 | Test Acc 40.0 | Train Acc 69.8744769874477\n",
            "Epoch 330 | Loss 1079.8795166015625 | Test Loss 5399.05322265625 | Test Acc 40.0 | Train Acc 69.8744769874477\n",
            "Epoch 340 | Loss 1079.8795166015625 | Test Loss 5399.05322265625 | Test Acc 40.0 | Train Acc 69.8744769874477\n",
            "Epoch 350 | Loss 1079.8795166015625 | Test Loss 5399.05322265625 | Test Acc 40.0 | Train Acc 69.8744769874477\n",
            "Epoch 360 | Loss 1079.8795166015625 | Test Loss 5399.05322265625 | Test Acc 40.0 | Train Acc 69.8744769874477\n",
            "Epoch 370 | Loss 1079.8795166015625 | Test Loss 5399.05322265625 | Test Acc 40.0 | Train Acc 69.8744769874477\n",
            "Epoch 380 | Loss 1079.8795166015625 | Test Loss 5399.05322265625 | Test Acc 40.0 | Train Acc 69.8744769874477\n",
            "Epoch 390 | Loss 1079.8795166015625 | Test Loss 5399.05322265625 | Test Acc 40.0 | Train Acc 69.8744769874477\n",
            "Epoch 400 | Loss 1079.8795166015625 | Test Loss 5399.05322265625 | Test Acc 40.0 | Train Acc 69.8744769874477\n",
            "Epoch 410 | Loss 1079.8795166015625 | Test Loss 5399.05322265625 | Test Acc 40.0 | Train Acc 69.8744769874477\n",
            "Epoch 420 | Loss 1079.8795166015625 | Test Loss 5399.05322265625 | Test Acc 40.0 | Train Acc 69.8744769874477\n",
            "Epoch 430 | Loss 1079.8795166015625 | Test Loss 5399.05322265625 | Test Acc 40.0 | Train Acc 69.8744769874477\n",
            "Epoch 440 | Loss 1079.8795166015625 | Test Loss 5399.05322265625 | Test Acc 40.0 | Train Acc 69.8744769874477\n",
            "Epoch 450 | Loss 1079.8795166015625 | Test Loss 5399.05322265625 | Test Acc 40.0 | Train Acc 69.8744769874477\n",
            "Epoch 460 | Loss 1079.8795166015625 | Test Loss 5399.05322265625 | Test Acc 40.0 | Train Acc 69.8744769874477\n",
            "Epoch 470 | Loss 1079.8795166015625 | Test Loss 5399.05322265625 | Test Acc 40.0 | Train Acc 69.8744769874477\n",
            "Epoch 480 | Loss 1079.8795166015625 | Test Loss 5399.05322265625 | Test Acc 40.0 | Train Acc 69.8744769874477\n",
            "Epoch 490 | Loss 1079.8795166015625 | Test Loss 5399.05322265625 | Test Acc 40.0 | Train Acc 69.8744769874477\n",
            "Epoch 500 | Loss 1079.8795166015625 | Test Loss 5399.05322265625 | Test Acc 40.0 | Train Acc 69.8744769874477\n",
            "Epoch 510 | Loss 1079.8795166015625 | Test Loss 5399.05322265625 | Test Acc 40.0 | Train Acc 69.8744769874477\n",
            "Epoch 520 | Loss 1079.8795166015625 | Test Loss 5399.05322265625 | Test Acc 40.0 | Train Acc 69.8744769874477\n",
            "Epoch 530 | Loss 1079.8795166015625 | Test Loss 5399.05322265625 | Test Acc 40.0 | Train Acc 69.8744769874477\n",
            "Epoch 540 | Loss 1079.8795166015625 | Test Loss 5399.05322265625 | Test Acc 40.0 | Train Acc 69.8744769874477\n",
            "Epoch 550 | Loss 1079.8795166015625 | Test Loss 5399.05322265625 | Test Acc 40.0 | Train Acc 69.8744769874477\n",
            "Epoch 560 | Loss 1079.8795166015625 | Test Loss 5399.05322265625 | Test Acc 40.0 | Train Acc 69.8744769874477\n",
            "Epoch 570 | Loss 1079.8795166015625 | Test Loss 5399.05322265625 | Test Acc 40.0 | Train Acc 69.8744769874477\n",
            "Epoch 580 | Loss 1079.8795166015625 | Test Loss 5399.05322265625 | Test Acc 40.0 | Train Acc 69.8744769874477\n",
            "Epoch 590 | Loss 1079.8795166015625 | Test Loss 5399.05322265625 | Test Acc 40.0 | Train Acc 69.8744769874477\n",
            "Epoch 600 | Loss 1079.8795166015625 | Test Loss 5399.05322265625 | Test Acc 40.0 | Train Acc 69.8744769874477\n",
            "Epoch 610 | Loss 1079.8795166015625 | Test Loss 5399.05322265625 | Test Acc 40.0 | Train Acc 69.8744769874477\n",
            "Epoch 620 | Loss 1079.8795166015625 | Test Loss 5399.05322265625 | Test Acc 40.0 | Train Acc 69.8744769874477\n",
            "Epoch 630 | Loss 1079.8795166015625 | Test Loss 5399.05322265625 | Test Acc 40.0 | Train Acc 69.8744769874477\n",
            "Epoch 640 | Loss 1079.8795166015625 | Test Loss 5399.05322265625 | Test Acc 40.0 | Train Acc 69.8744769874477\n",
            "Epoch 650 | Loss 1079.8795166015625 | Test Loss 5399.05322265625 | Test Acc 40.0 | Train Acc 69.8744769874477\n",
            "Epoch 660 | Loss 1079.8795166015625 | Test Loss 5399.05322265625 | Test Acc 40.0 | Train Acc 69.8744769874477\n",
            "Epoch 670 | Loss 1079.8795166015625 | Test Loss 5399.05322265625 | Test Acc 40.0 | Train Acc 69.8744769874477\n",
            "Epoch 680 | Loss 1079.8795166015625 | Test Loss 5399.05322265625 | Test Acc 40.0 | Train Acc 69.8744769874477\n",
            "Epoch 690 | Loss 1079.8795166015625 | Test Loss 5399.05322265625 | Test Acc 40.0 | Train Acc 69.8744769874477\n",
            "Epoch 700 | Loss 1079.8795166015625 | Test Loss 5399.05322265625 | Test Acc 40.0 | Train Acc 69.8744769874477\n",
            "Epoch 710 | Loss 1079.8795166015625 | Test Loss 5399.05322265625 | Test Acc 40.0 | Train Acc 69.8744769874477\n",
            "Epoch 720 | Loss 1079.8795166015625 | Test Loss 5399.05322265625 | Test Acc 40.0 | Train Acc 69.8744769874477\n",
            "Epoch 730 | Loss 1079.8795166015625 | Test Loss 5399.05322265625 | Test Acc 40.0 | Train Acc 69.8744769874477\n",
            "Epoch 740 | Loss 1079.8795166015625 | Test Loss 5399.05322265625 | Test Acc 40.0 | Train Acc 69.8744769874477\n",
            "Epoch 750 | Loss 1079.8795166015625 | Test Loss 5399.05322265625 | Test Acc 40.0 | Train Acc 69.8744769874477\n",
            "Epoch 760 | Loss 1079.8795166015625 | Test Loss 5399.05322265625 | Test Acc 40.0 | Train Acc 69.8744769874477\n",
            "Epoch 770 | Loss 1079.8795166015625 | Test Loss 5399.05322265625 | Test Acc 40.0 | Train Acc 69.8744769874477\n",
            "Epoch 780 | Loss 1079.8795166015625 | Test Loss 5399.05322265625 | Test Acc 40.0 | Train Acc 69.8744769874477\n",
            "Epoch 790 | Loss 1079.8795166015625 | Test Loss 5399.05322265625 | Test Acc 40.0 | Train Acc 69.8744769874477\n",
            "Epoch 800 | Loss 1079.8795166015625 | Test Loss 5399.05322265625 | Test Acc 40.0 | Train Acc 69.8744769874477\n",
            "Epoch 810 | Loss 1079.8795166015625 | Test Loss 5399.05322265625 | Test Acc 40.0 | Train Acc 69.8744769874477\n",
            "Epoch 820 | Loss 1079.8795166015625 | Test Loss 5399.05322265625 | Test Acc 40.0 | Train Acc 69.8744769874477\n",
            "Epoch 830 | Loss 1079.8795166015625 | Test Loss 5399.05322265625 | Test Acc 40.0 | Train Acc 69.8744769874477\n",
            "Epoch 840 | Loss 1079.8795166015625 | Test Loss 5399.05322265625 | Test Acc 40.0 | Train Acc 69.8744769874477\n",
            "Epoch 850 | Loss 1079.8795166015625 | Test Loss 5399.05322265625 | Test Acc 40.0 | Train Acc 69.8744769874477\n",
            "Epoch 860 | Loss 1079.8795166015625 | Test Loss 5399.05322265625 | Test Acc 40.0 | Train Acc 69.8744769874477\n",
            "Epoch 870 | Loss 1079.8795166015625 | Test Loss 5399.05322265625 | Test Acc 40.0 | Train Acc 69.8744769874477\n",
            "Epoch 880 | Loss 1079.8795166015625 | Test Loss 5399.05322265625 | Test Acc 40.0 | Train Acc 69.8744769874477\n",
            "Epoch 890 | Loss 1079.8795166015625 | Test Loss 5399.05322265625 | Test Acc 40.0 | Train Acc 69.8744769874477\n",
            "Epoch 900 | Loss 1079.8795166015625 | Test Loss 5399.05322265625 | Test Acc 40.0 | Train Acc 69.8744769874477\n",
            "Epoch 910 | Loss 1079.8795166015625 | Test Loss 5399.05322265625 | Test Acc 40.0 | Train Acc 69.8744769874477\n",
            "Epoch 920 | Loss 1079.8795166015625 | Test Loss 5399.05322265625 | Test Acc 40.0 | Train Acc 69.8744769874477\n",
            "Epoch 930 | Loss 1079.8795166015625 | Test Loss 5399.05322265625 | Test Acc 40.0 | Train Acc 69.8744769874477\n",
            "Epoch 940 | Loss 1079.8795166015625 | Test Loss 5399.05322265625 | Test Acc 40.0 | Train Acc 69.8744769874477\n",
            "Epoch 950 | Loss 1079.8795166015625 | Test Loss 5399.05322265625 | Test Acc 40.0 | Train Acc 69.8744769874477\n",
            "Epoch 960 | Loss 1079.8795166015625 | Test Loss 5399.05322265625 | Test Acc 40.0 | Train Acc 69.8744769874477\n",
            "Epoch 970 | Loss 1079.8795166015625 | Test Loss 5399.05322265625 | Test Acc 40.0 | Train Acc 69.8744769874477\n",
            "Epoch 980 | Loss 1079.8795166015625 | Test Loss 5399.05322265625 | Test Acc 40.0 | Train Acc 69.8744769874477\n",
            "Epoch 990 | Loss 1079.8795166015625 | Test Loss 5399.05322265625 | Test Acc 40.0 | Train Acc 69.8744769874477\n"
          ]
        }
      ]
    },
    {
      "cell_type": "code",
      "source": [
        "from sklearn.datasets import make_blobs\n",
        "from sklearn.model_selection import train_test_split"
      ],
      "metadata": {
        "id": "q9zQNJuqLHNu"
      },
      "execution_count": 14,
      "outputs": []
    },
    {
      "cell_type": "code",
      "source": [
        "num_classes=4\n",
        "num_features=2\n",
        "random_seed=42\n",
        "\n",
        "x_blob,y_blob=make_blobs(n_samples=1000,\n",
        "                         n_features=num_features,\n",
        "                         centers=num_classes,\n",
        "                         random_state=random_seed)"
      ],
      "metadata": {
        "id": "CRG66VW2EbZb"
      },
      "execution_count": 9,
      "outputs": []
    },
    {
      "cell_type": "code",
      "source": [
        "x_blob=torch.from_numpy(x_blob).type(torch.float)\n",
        "y_blob=torch.from_numpy(y_blob).type(torch.LongTensor)"
      ],
      "metadata": {
        "id": "GOp6tbIJEq_r"
      },
      "execution_count": 10,
      "outputs": []
    },
    {
      "cell_type": "code",
      "source": [
        "x_blob_train,x_blob_test,y_train_blob,y_test_blob=train_test_split(x_blob,y_blob, test_size=0.4)"
      ],
      "metadata": {
        "id": "8CX-RFGxE2Dl"
      },
      "execution_count": 15,
      "outputs": []
    },
    {
      "cell_type": "code",
      "source": [
        "x_blob_train.shape,x_blob_test.shape"
      ],
      "metadata": {
        "colab": {
          "base_uri": "https://localhost:8080/"
        },
        "id": "9KeqkFh_FKbd",
        "outputId": "ba881874-de3b-4658-dfc9-c33e5b26c863"
      },
      "execution_count": 16,
      "outputs": [
        {
          "output_type": "execute_result",
          "data": {
            "text/plain": [
              "(torch.Size([600, 2]), torch.Size([400, 2]))"
            ]
          },
          "metadata": {},
          "execution_count": 16
        }
      ]
    },
    {
      "cell_type": "code",
      "source": [
        "import matplotlib.pyplot as plt\n",
        "\n",
        "plt.scatter(x_blob[:,0],x_blob[:,1])"
      ],
      "metadata": {
        "colab": {
          "base_uri": "https://localhost:8080/",
          "height": 282
        },
        "id": "s8pra4QkE-nR",
        "outputId": "a3929ccc-4af2-4c34-90b8-f2da41c43ef7"
      },
      "execution_count": 17,
      "outputs": [
        {
          "output_type": "execute_result",
          "data": {
            "text/plain": [
              "<matplotlib.collections.PathCollection at 0x7f8b72649ee0>"
            ]
          },
          "metadata": {},
          "execution_count": 17
        },
        {
          "output_type": "display_data",
          "data": {
            "text/plain": [
              "<Figure size 432x288 with 1 Axes>"
            ],
            "image/png": "[encoded data removed]"
          },
          "metadata": {
            "needs_background": "light"
          }
        }
      ]
    },
    {
      "cell_type": "code",
      "source": [
        "import torch\n",
        "from torch import nn"
      ],
      "metadata": {
        "id": "cz2mcoL3S8Ed"
      },
      "execution_count": 18,
      "outputs": []
    },
    {
      "cell_type": "code",
      "source": [
        "class model_blob(nn.Module):\n",
        "  def __init__(self, input_features,output_features,hidden_units=8):\n",
        "    super().__init__()\n",
        "    self.linear_layer_stack=nn.Sequential(\n",
        "        nn.Linear(in_features=input_features,out_features=hidden_units),\n",
        "        nn.ReLU(),\n",
        "        nn.Linear(in_features=hidden_units,out_features=hidden_units),\n",
        "        nn.ReLU(),\n",
        "        nn.Linear(in_features=hidden_units,out_features=output_features)\n",
        "    )\n",
        "\n",
        "  def forward(self,x):\n",
        "    return self.linear_layer_stack(x)\n",
        "\n",
        "model=model_blob(input_features=2, output_features=4,hidden_units=8)\n",
        "model.to(device)\n"
      ],
      "metadata": {
        "colab": {
          "base_uri": "https://localhost:8080/"
        },
        "id": "ALAB9FQBTbQ7",
        "outputId": "5543d5bb-5b68-47bd-a905-9fad0f08cecc"
      },
      "execution_count": 19,
      "outputs": [
        {
          "output_type": "execute_result",
          "data": {
            "text/plain": [
              "model_blob(\n",
              "  (linear_layer_stack): Sequential(\n",
              "    (0): Linear(in_features=2, out_features=8, bias=True)\n",
              "    (1): ReLU()\n",
              "    (2): Linear(in_features=8, out_features=8, bias=True)\n",
              "    (3): ReLU()\n",
              "    (4): Linear(in_features=8, out_features=4, bias=True)\n",
              "  )\n",
              ")"
            ]
          },
          "metadata": {},
          "execution_count": 19
        }
      ]
    },
    {
      "cell_type": "code",
      "source": [
        "torch.unique(y_train_blob)"
      ],
      "metadata": {
        "colab": {
          "base_uri": "https://localhost:8080/"
        },
        "id": "p463Pj9vcKca",
        "outputId": "7838536e-49aa-4443-9b66-b6ac863d8e88"
      },
      "execution_count": 20,
      "outputs": [
        {
          "output_type": "execute_result",
          "data": {
            "text/plain": [
              "tensor([0, 1, 2, 3])"
            ]
          },
          "metadata": {},
          "execution_count": 20
        }
      ]
    },
    {
      "cell_type": "code",
      "source": [],
      "metadata": {
        "id": "WvcCMTsacKiw"
      },
      "execution_count": null,
      "outputs": []
    },
    {
      "cell_type": "code",
      "source": [
        "loss_fn=nn.CrossEntropyLoss()\n",
        "optimizer=torch.optim.SGD(params=model.parameters(),lr=0.01)"
      ],
      "metadata": {
        "id": "iLQ1exSSaXeU"
      },
      "execution_count": 21,
      "outputs": []
    },
    {
      "cell_type": "code",
      "source": [
        "device='cuda' if torch.cuda.is_available() else 'cpu'"
      ],
      "metadata": {
        "id": "KveXvE4sbnNY"
      },
      "execution_count": 22,
      "outputs": []
    },
    {
      "cell_type": "code",
      "source": [
        "model.eval()\n",
        "with torch.inference_mode():\n",
        "  y_pred=model(x_blob_test.to(device))\n",
        "y_pred"
      ],
      "metadata": {
        "colab": {
          "base_uri": "https://localhost:8080/"
        },
        "id": "wfx4Pf-Dag0J",
        "outputId": "687427b0-33e4-40fb-c1a9-96b9631b83a8"
      },
      "execution_count": 23,
      "outputs": [
        {
          "output_type": "execute_result",
          "data": {
            "text/plain": [
              "tensor([[ 0.0222,  0.3182, -0.1899, -0.3862],\n",
              "        [-0.1318,  0.0062,  0.0867, -0.0267],\n",
              "        [-0.0745, -0.0401,  0.0237, -0.0370],\n",
              "        ...,\n",
              "        [ 0.0784,  0.3707, -0.2202, -0.4608],\n",
              "        [-0.1715,  0.2214,  0.1745, -0.1998],\n",
              "        [-0.1712,  0.2194,  0.1739, -0.2022]], device='cuda:0')"
            ]
          },
          "metadata": {},
          "execution_count": 23
        }
      ]
    },
    {
      "cell_type": "code",
      "source": [
        "x_blob_train"
      ],
      "metadata": {
        "colab": {
          "base_uri": "https://localhost:8080/"
        },
        "id": "xPYejgfHb4Gp",
        "outputId": "10a60bc7-db9b-4af7-be87-2cdc92938c66"
      },
      "execution_count": 24,
      "outputs": [
        {
          "output_type": "execute_result",
          "data": {
            "text/plain": [
              "tensor([[-2.1983, 10.4896],\n",
              "        [-6.1715, -5.9234],\n",
              "        [ 4.4089,  2.6694],\n",
              "        ...,\n",
              "        [-2.7016,  9.3158],\n",
              "        [-8.9267,  6.9535],\n",
              "        [-8.5712,  7.8322]])"
            ]
          },
          "metadata": {},
          "execution_count": 24
        }
      ]
    },
    {
      "cell_type": "code",
      "source": [
        "torch.softmax(y_pred,dim=1)  #softmax probabilities"
      ],
      "metadata": {
        "colab": {
          "base_uri": "https://localhost:8080/"
        },
        "id": "O3oscylpdsgl",
        "outputId": "98eec503-ebd8-4c40-b791-e54198d3ca8e"
      },
      "execution_count": 25,
      "outputs": [
        {
          "output_type": "execute_result",
          "data": {
            "text/plain": [
              "tensor([[0.2619, 0.3521, 0.2119, 0.1741],\n",
              "        [0.2221, 0.2549, 0.2763, 0.2467],\n",
              "        [0.2394, 0.2478, 0.2642, 0.2486],\n",
              "        ...,\n",
              "        [0.2729, 0.3655, 0.2024, 0.1592],\n",
              "        [0.2055, 0.3044, 0.2904, 0.1997],\n",
              "        [0.2058, 0.3041, 0.2906, 0.1995]], device='cuda:0')"
            ]
          },
          "metadata": {},
          "execution_count": 25
        }
      ]
    },
    {
      "cell_type": "code",
      "source": [
        "y_preds=torch.argmax(y_pred,dim=1)\n",
        "y_preds"
      ],
      "metadata": {
        "colab": {
          "base_uri": "https://localhost:8080/"
        },
        "id": "4OXjzS6md9k5",
        "outputId": "1479a939-ff83-45bf-c051-daf48aa2846c"
      },
      "execution_count": 99,
      "outputs": [
        {
          "output_type": "execute_result",
          "data": {
            "text/plain": [
              "tensor([0, 0, 0, 3, 0, 0, 0, 0, 0, 3, 0, 3, 3, 0, 0, 0, 0, 0, 0, 3, 3, 3, 0, 0,\n",
              "        3, 0, 3, 0, 3, 0, 0, 3, 3, 3, 3, 0, 3, 0, 0, 3, 0, 0, 3, 3, 3, 0, 3, 0,\n",
              "        0, 3, 3, 0, 3, 0, 0, 0, 0, 0, 0, 3, 3, 0, 3, 0, 0, 3, 3, 3, 3, 0, 0, 3,\n",
              "        0, 0, 0, 3, 3, 3, 0, 0, 3, 0, 0, 0, 0, 0, 0, 0, 3, 3, 3, 3, 0, 0, 0, 0,\n",
              "        0, 3, 0, 3, 0, 0, 3, 3, 0, 0, 0, 3, 0, 3, 0, 3, 0, 3, 0, 3, 0, 0, 0, 0,\n",
              "        0, 0, 3, 3, 3, 0, 3, 0, 3, 3, 0, 0, 0, 3, 3, 3, 3, 3, 3, 3, 0, 0, 3, 3,\n",
              "        0, 0, 0, 0, 0, 0, 3, 0, 0, 0, 3, 0, 3, 3, 0, 0, 3, 3, 0, 0, 3, 0, 0, 0,\n",
              "        0, 0, 0, 0, 0, 0, 0, 3, 3, 0, 0, 3, 3, 3, 0, 3, 3, 3, 0, 3, 0, 0, 0, 0,\n",
              "        3, 3, 3, 0, 0, 3, 0, 3, 0, 0, 0, 3, 0, 0, 0, 0, 0, 0, 0, 3, 3, 0, 3, 0,\n",
              "        0, 0, 0, 0, 0, 0, 0, 3, 0, 3, 3, 0, 3, 3, 0, 3, 3, 0, 0, 0, 3, 0, 1, 0,\n",
              "        0, 0, 3, 0, 3, 0, 0, 0, 3, 0, 0, 0, 0, 0, 0, 3, 3, 0, 0, 3, 3, 1, 0, 0,\n",
              "        0, 0, 3, 3, 3, 0, 0, 0, 0, 0, 0, 0, 0, 0, 3, 3, 3, 0, 3, 0, 0, 0, 0, 3,\n",
              "        0, 3, 0, 0, 0, 0, 3, 0, 0, 0, 0, 0, 0, 3, 0, 3, 3, 3, 0, 0, 0, 3, 3, 0,\n",
              "        0, 0, 0, 0, 3, 0, 3, 3, 3, 0, 3, 0, 0, 0, 0, 3, 0, 0, 3, 0, 0, 3, 1, 3,\n",
              "        0, 1, 1, 0, 0, 3, 0, 3, 0, 0, 0, 0, 0, 3, 3, 3, 0, 0, 0, 0, 0, 3, 0, 3,\n",
              "        0, 3, 0, 0, 3, 0, 0, 0, 1, 0, 3, 3, 0, 0, 0, 3, 3, 0, 0, 0, 0, 0, 0, 3,\n",
              "        0, 3, 0, 0, 0, 0, 0, 0, 3, 0, 0, 0, 3, 0, 0, 0], device='cuda:0')"
            ]
          },
          "metadata": {},
          "execution_count": 99
        }
      ]
    },
    {
      "cell_type": "code",
      "source": [
        "epochs=500\n",
        "torch.cuda.manual_seed(42)\n",
        "x_blob_train,x_blob_test = x_blob_train.to(device),x_blob_test.to(device),\n",
        "y_test_blob,y_train_blob=y_test_blob.to(device),y_train_blob.to(device)\n",
        "for e in range(epochs):\n",
        "  model.train()\n",
        "  out=model(x_blob_train)\n",
        "  #print(out.shape)\n",
        "  #print(y_train_blob.shape)\n",
        "  out=torch.softmax(out,dim=1)\n",
        "  loss=loss_fn(out,y_train_blob)\n",
        "  optimizer.zero_grad()\n",
        "  loss.backward()\n",
        "  optimizer.step()\n",
        "  model.eval()\n",
        "  with torch.inference_mode():\n",
        "    test_out=model(x_blob_test)\n",
        "    test_pred=torch.argmax(torch.softmax(test_out,dim=1),dim=1)\n",
        "    loss_test=loss_fn(test_out,y_test_blob)\n",
        "    accuracy=accuracy_fn(test_pred,y_test_blob)\n",
        "    if e%10==0:\n",
        "      print(f'Epoch :{e} | test_accuracy {accuracy} | train_loss{loss} | test_loss{loss_test}')\n"
      ],
      "metadata": {
        "colab": {
          "base_uri": "https://localhost:8080/"
        },
        "id": "lEwT8-lEgoOb",
        "outputId": "45b32f98-7323-445e-81df-9ec82f32bfe9"
      },
      "execution_count": 28,
      "outputs": [
        {
          "output_type": "stream",
          "name": "stdout",
          "text": [
            "Epoch :0 | test_accuracy 10.25 | train_loss1.4136881828308105 | test_loss1.5143945217132568\n",
            "Epoch :10 | test_accuracy 14.75 | train_loss1.4081814289093018 | test_loss1.4904632568359375\n",
            "Epoch :20 | test_accuracy 17.0 | train_loss1.4027248620986938 | test_loss1.4673466682434082\n",
            "Epoch :30 | test_accuracy 19.75 | train_loss1.3973259925842285 | test_loss1.4450006484985352\n",
            "Epoch :40 | test_accuracy 22.25 | train_loss1.3919703960418701 | test_loss1.423399806022644\n",
            "Epoch :50 | test_accuracy 26.0 | train_loss1.3866395950317383 | test_loss1.4023542404174805\n",
            "Epoch :60 | test_accuracy 35.75 | train_loss1.381274700164795 | test_loss1.3816241025924683\n",
            "Epoch :70 | test_accuracy 41.75 | train_loss1.37590491771698 | test_loss1.3613018989562988\n",
            "Epoch :80 | test_accuracy 45.75 | train_loss1.3704960346221924 | test_loss1.341331958770752\n",
            "Epoch :90 | test_accuracy 47.0 | train_loss1.3650132417678833 | test_loss1.321641445159912\n",
            "Epoch :100 | test_accuracy 47.25 | train_loss1.3594313859939575 | test_loss1.3020933866500854\n",
            "Epoch :110 | test_accuracy 47.25 | train_loss1.353715181350708 | test_loss1.2826193571090698\n",
            "Epoch :120 | test_accuracy 47.75 | train_loss1.347865343093872 | test_loss1.263220191001892\n",
            "Epoch :130 | test_accuracy 49.5 | train_loss1.3418784141540527 | test_loss1.2439366579055786\n",
            "Epoch :140 | test_accuracy 52.25 | train_loss1.335749864578247 | test_loss1.2248008251190186\n",
            "Epoch :150 | test_accuracy 55.00000000000001 | train_loss1.329581618309021 | test_loss1.206156611442566\n",
            "Epoch :160 | test_accuracy 58.5 | train_loss1.3233798742294312 | test_loss1.1879432201385498\n",
            "Epoch :170 | test_accuracy 62.25000000000001 | train_loss1.317112684249878 | test_loss1.1700456142425537\n",
            "Epoch :180 | test_accuracy 66.0 | train_loss1.3108131885528564 | test_loss1.1525439023971558\n",
            "Epoch :190 | test_accuracy 69.5 | train_loss1.304557204246521 | test_loss1.1355745792388916\n",
            "Epoch :200 | test_accuracy 71.0 | train_loss1.2983882427215576 | test_loss1.1192409992218018\n",
            "Epoch :210 | test_accuracy 72.0 | train_loss1.2923624515533447 | test_loss1.1034646034240723\n",
            "Epoch :220 | test_accuracy 73.0 | train_loss1.286526083946228 | test_loss1.0882724523544312\n",
            "Epoch :230 | test_accuracy 74.0 | train_loss1.2808982133865356 | test_loss1.0737873315811157\n",
            "Epoch :240 | test_accuracy 74.5 | train_loss1.27577543258667 | test_loss1.0609437227249146\n",
            "Epoch :250 | test_accuracy 74.25 | train_loss1.2712578773498535 | test_loss1.0497560501098633\n",
            "Epoch :260 | test_accuracy 73.75 | train_loss1.2671306133270264 | test_loss1.0395032167434692\n",
            "Epoch :270 | test_accuracy 73.75 | train_loss1.263245701789856 | test_loss1.0295218229293823\n",
            "Epoch :280 | test_accuracy 73.75 | train_loss1.2595016956329346 | test_loss1.0195595026016235\n",
            "Epoch :290 | test_accuracy 73.5 | train_loss1.2558451890945435 | test_loss1.0094408988952637\n",
            "Epoch :300 | test_accuracy 73.5 | train_loss1.2522343397140503 | test_loss0.9990530610084534\n",
            "Epoch :310 | test_accuracy 73.5 | train_loss1.2486361265182495 | test_loss0.988332211971283\n",
            "Epoch :320 | test_accuracy 73.5 | train_loss1.2450114488601685 | test_loss0.977173924446106\n",
            "Epoch :330 | test_accuracy 73.5 | train_loss1.241320013999939 | test_loss0.9655093550682068\n",
            "Epoch :340 | test_accuracy 73.5 | train_loss1.2375235557556152 | test_loss0.9532919526100159\n",
            "Epoch :350 | test_accuracy 73.75 | train_loss1.2335916757583618 | test_loss0.9405108094215393\n",
            "Epoch :360 | test_accuracy 73.75 | train_loss1.229495882987976 | test_loss0.9271509051322937\n",
            "Epoch :370 | test_accuracy 73.75 | train_loss1.2252066135406494 | test_loss0.9131905436515808\n",
            "Epoch :380 | test_accuracy 73.75 | train_loss1.2206931114196777 | test_loss0.8986137509346008\n",
            "Epoch :390 | test_accuracy 73.75 | train_loss1.215928077697754 | test_loss0.8833987712860107\n",
            "Epoch :400 | test_accuracy 73.75 | train_loss1.2108827829360962 | test_loss0.8675392270088196\n",
            "Epoch :410 | test_accuracy 74.0 | train_loss1.2055304050445557 | test_loss0.8510546088218689\n",
            "Epoch :420 | test_accuracy 74.25 | train_loss1.1998398303985596 | test_loss0.8339304327964783\n",
            "Epoch :430 | test_accuracy 74.5 | train_loss1.1937907934188843 | test_loss0.8161699175834656\n",
            "Epoch :440 | test_accuracy 74.5 | train_loss1.187368392944336 | test_loss0.7978014945983887\n",
            "Epoch :450 | test_accuracy 74.5 | train_loss1.1805557012557983 | test_loss0.7788695693016052\n",
            "Epoch :460 | test_accuracy 74.5 | train_loss1.1733547449111938 | test_loss0.7594536542892456\n",
            "Epoch :470 | test_accuracy 74.5 | train_loss1.1657658815383911 | test_loss0.7396194934844971\n",
            "Epoch :480 | test_accuracy 74.5 | train_loss1.157808542251587 | test_loss0.7194603085517883\n",
            "Epoch :490 | test_accuracy 74.5 | train_loss1.1495287418365479 | test_loss0.6991055011749268\n"
          ]
        }
      ]
    },
    {
      "cell_type": "code",
      "source": [
        "y_test_blob"
      ],
      "metadata": {
        "id": "LcGXB2M5kRtQ"
      },
      "execution_count": null,
      "outputs": []
    },
    {
      "cell_type": "code",
      "source": [
        "test_pred"
      ],
      "metadata": {
        "id": "fTXbaTuZkVWw"
      },
      "execution_count": null,
      "outputs": []
    },
    {
      "cell_type": "code",
      "source": [
        "y_train_blob.shape\n"
      ],
      "metadata": {
        "colab": {
          "base_uri": "https://localhost:8080/"
        },
        "id": "VeUSEMFpigMl",
        "outputId": "28f70651-5869-4e06-f110-c9ab4d46c367"
      },
      "execution_count": 112,
      "outputs": [
        {
          "output_type": "execute_result",
          "data": {
            "text/plain": [
              "torch.Size([400])"
            ]
          },
          "metadata": {},
          "execution_count": 112
        }
      ]
    },
    {
      "cell_type": "code",
      "source": [
        "y_train_blob"
      ],
      "metadata": {
        "id": "wVrKxgc9iR7B"
      },
      "execution_count": null,
      "outputs": []
    },
    {
      "cell_type": "code",
      "source": [
        "!pip install torchmetrics"
      ],
      "metadata": {
        "colab": {
          "base_uri": "https://localhost:8080/"
        },
        "id": "Bj2-WBfY9zX8",
        "outputId": "1f6ba882-d0c8-45d4-cc6c-3cd37eebafaa"
      },
      "execution_count": 41,
      "outputs": [
        {
          "output_type": "stream",
          "name": "stdout",
          "text": [
            "Looking in indexes: https://pypi.org/simple, https://us-python.pkg.dev/colab-wheels/public/simple/\n",
            "Collecting torchmetrics\n",
            "  Downloading torchmetrics-0.11.1-py3-none-any.whl (517 kB)\n",
            "\u001b[2K     \u001b[90m━━━━━━━━━━━━━━━━━━━━━━━━━━━━━━━━━━━━━━\u001b[0m \u001b[32m517.2/517.2 KB\u001b[0m \u001b[31m10.2 MB/s\u001b[0m eta \u001b[36m0:00:00\u001b[0m\n",
            "\u001b[?25hRequirement already satisfied: packaging in /usr/local/lib/python3.8/dist-packages (from torchmetrics) (21.3)\n",
            "Requirement already satisfied: typing-extensions in /usr/local/lib/python3.8/dist-packages (from torchmetrics) (4.4.0)\n",
            "Requirement already satisfied: numpy>=1.17.2 in /usr/local/lib/python3.8/dist-packages (from torchmetrics) (1.21.6)\n",
            "Requirement already satisfied: torch>=1.8.1 in /usr/local/lib/python3.8/dist-packages (from torchmetrics) (1.13.1+cu116)\n",
            "Requirement already satisfied: pyparsing!=3.0.5,>=2.0.2 in /usr/local/lib/python3.8/dist-packages (from packaging->torchmetrics) (3.0.9)\n",
            "Installing collected packages: torchmetrics\n",
            "Successfully installed torchmetrics-0.11.1\n"
          ]
        }
      ]
    },
    {
      "cell_type": "code",
      "source": [
        "from torchmetrics import Accuracy"
      ],
      "metadata": {
        "id": "VaNisJ0n9trI"
      },
      "execution_count": 42,
      "outputs": []
    },
    {
      "cell_type": "code",
      "source": [
        "with torch.inference_mode():\n",
        "  y_pred_probs=torch.argmax(torch.softmax(model(x_blob_test),dim=1),dim=1)\n",
        "y_pred_probs\n",
        "from sklearn.metrics import accuracy_score\n",
        "accuracy_score(y_pred_probs.cpu(),y_test_blob.cpu())"
      ],
      "metadata": {
        "colab": {
          "base_uri": "https://localhost:8080/"
        },
        "id": "8HusVL9E3qOb",
        "outputId": "1e2d200b-cb58-47b6-c5ae-226529a1db7c"
      },
      "execution_count": 36,
      "outputs": [
        {
          "output_type": "execute_result",
          "data": {
            "text/plain": [
              "0.745"
            ]
          },
          "metadata": {},
          "execution_count": 36
        }
      ]
    },
    {
      "cell_type": "code",
      "source": [],
      "metadata": {
        "id": "h9GMiEXv4Jxp"
      },
      "execution_count": 43,
      "outputs": []
    }
  ]
}